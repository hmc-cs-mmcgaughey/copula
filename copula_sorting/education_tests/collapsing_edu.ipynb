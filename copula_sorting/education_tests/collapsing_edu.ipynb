{
 "cells": [
  {
   "cell_type": "code",
   "execution_count": 1,
   "metadata": {
    "collapsed": false
   },
   "outputs": [
    {
     "name": "stderr",
     "output_type": "stream",
     "text": [
      "Loading required package: feather\n",
      "Loading required package: data.table\n"
     ]
    }
   ],
   "source": [
    "rm(list=ls())\n",
    "require(feather, lib.loc = \"/homes/sadatnfs/R/x86_64-unknown-linux-gnu-library/3.1\")\n",
    "require(data.table)"
   ]
  },
  {
   "cell_type": "code",
   "execution_count": 2,
   "metadata": {
    "collapsed": true
   },
   "outputs": [],
   "source": [
    "# j <- \"J:/\"\n",
    "# setwd(paste0(j, \"/temp/central_comp/libraries/current/r\"))\n",
    "# source(\"get_population.R\")\n",
    "\n",
    "pop <- fread(\"/home/j/Project/IRH/Forecasting/data/WPP_forecasted_population.csv\")\n",
    "pop <- data.table(pop)"
   ]
  },
  {
   "cell_type": "code",
   "execution_count": 3,
   "metadata": {
    "collapsed": false
   },
   "outputs": [
    {
     "name": "stdout",
     "output_type": "stream",
     "text": [
      "\r",
      "Read 0.0% of 496860 rows\r",
      "Read 2.0% of 496860 rows\r",
      "Read 4.0% of 496860 rows\r",
      "Read 6.0% of 496860 rows\r",
      "Read 8.1% of 496860 rows\r",
      "Read 10.1% of 496860 rows\r",
      "Read 12.1% of 496860 rows\r",
      "Read 14.1% of 496860 rows\r",
      "Read 16.1% of 496860 rows\r",
      "Read 18.1% of 496860 rows\r",
      "Read 20.1% of 496860 rows\r",
      "Read 22.1% of 496860 rows\r",
      "Read 24.2% of 496860 rows\r",
      "Read 26.2% of 496860 rows\r",
      "Read 28.2% of 496860 rows\r",
      "Read 30.2% of 496860 rows\r",
      "Read 32.2% of 496860 rows\r",
      "Read 34.2% of 496860 rows\r",
      "Read 36.2% of 496860 rows\r",
      "Read 38.2% of 496860 rows\r",
      "Read 40.3% of 496860 rows\r",
      "Read 42.3% of 496860 rows\r",
      "Read 44.3% of 496860 rows\r",
      "Read 46.3% of 496860 rows\r",
      "Read 48.3% of 496860 rows\r",
      "Read 50.3% of 496860 rows\r",
      "Read 52.3% of 496860 rows\r",
      "Read 54.3% of 496860 rows\r",
      "Read 56.4% of 496860 rows\r",
      "Read 58.4% of 496860 rows\r",
      "Read 60.4% of 496860 rows\r",
      "Read 62.4% of 496860 rows\r",
      "Read 64.4% of 496860 rows\r",
      "Read 66.4% of 496860 rows\r",
      "Read 68.4% of 496860 rows\r",
      "Read 70.4% of 496860 rows\r",
      "Read 72.5% of 496860 rows\r",
      "Read 74.5% of 496860 rows\r",
      "Read 76.5% of 496860 rows\r",
      "Read 78.5% of 496860 rows\r",
      "Read 80.5% of 496860 rows\r",
      "Read 82.5% of 496860 rows\r",
      "Read 84.5% of 496860 rows\r",
      "Read 86.5% of 496860 rows\r",
      "Read 88.6% of 496860 rows\r",
      "Read 90.6% of 496860 rows\r",
      "Read 92.6% of 496860 rows\r",
      "Read 94.6% of 496860 rows\r",
      "Read 96.6% of 496860 rows\r",
      "Read 98.6% of 496860 rows\r",
      "Read 496860 rows and 1005 (of 1005) columns from 6.600 GB file in 00:02:31\n"
     ]
    }
   ],
   "source": [
    "## Education forecasts\n",
    "edu<-fread(paste0(\"/home/j/WORK/01_covariates/02_inputs/education/update_2017/data/output_data/20161121_GBD2016prelim_95+_raked_2/gpr_draws.csv\"))\n",
    "edu <- data.table(edu)"
   ]
  },
  {
   "cell_type": "code",
   "execution_count": 9,
   "metadata": {
    "collapsed": false
   },
   "outputs": [],
   "source": [
    "edu2 <- edu[age_group_id >= 8,]"
   ]
  },
  {
   "cell_type": "code",
   "execution_count": 10,
   "metadata": {
    "collapsed": false
   },
   "outputs": [
    {
     "data": {
      "text/html": [
       "<table>\n",
       "<thead><tr><th scope=col>V1</th><th scope=col>location_id</th><th scope=col>year_id</th><th scope=col>age_group_id</th><th scope=col>sex_id</th><th scope=col>draw0</th><th scope=col>draw1</th><th scope=col>draw2</th><th scope=col>draw3</th><th scope=col>draw4</th><th scope=col>⋯</th><th scope=col>draw990</th><th scope=col>draw991</th><th scope=col>draw992</th><th scope=col>draw993</th><th scope=col>draw994</th><th scope=col>draw995</th><th scope=col>draw996</th><th scope=col>draw997</th><th scope=col>draw998</th><th scope=col>draw999</th></tr></thead>\n",
       "<tbody>\n",
       "\t<tr><td>1       </td><td>6       </td><td>1950    </td><td>8       </td><td>1       </td><td>2.193899</td><td>3.696831</td><td>3.899294</td><td>5.886914</td><td>3.221693</td><td>⋯       </td><td>2.322269</td><td>3.697725</td><td>2.680337</td><td>3.931184</td><td>4.004720</td><td>4.729225</td><td>8.494130</td><td>2.570683</td><td>2.368506</td><td>3.664268</td></tr>\n",
       "\t<tr><td>2       </td><td>6       </td><td>1951    </td><td>8       </td><td>1       </td><td>2.329269</td><td>3.838159</td><td>4.045678</td><td>6.013686</td><td>3.346715</td><td>⋯       </td><td>2.427470</td><td>3.836150</td><td>2.780698</td><td>3.969950</td><td>4.142245</td><td>4.905914</td><td>8.606566</td><td>2.687016</td><td>2.487811</td><td>3.796609</td></tr>\n",
       "\t<tr><td>3       </td><td>6       </td><td>1952    </td><td>8       </td><td>1       </td><td>2.472498</td><td>3.986922</td><td>4.199735</td><td>6.134196</td><td>3.484166</td><td>⋯       </td><td>2.537848</td><td>3.977886</td><td>2.888934</td><td>4.009498</td><td>4.284303</td><td>5.089704</td><td>8.709071</td><td>2.806243</td><td>2.615149</td><td>3.934128</td></tr>\n",
       "\t<tr><td>4       </td><td>6       </td><td>1953    </td><td>8       </td><td>1       </td><td>2.623456</td><td>4.143215</td><td>4.361473</td><td>6.248749</td><td>3.634715</td><td>⋯       </td><td>2.653360</td><td>4.122637</td><td>3.005171</td><td>4.050488</td><td>4.431217</td><td>5.279684</td><td>8.801838</td><td>2.928341</td><td>2.751002</td><td>4.076550</td></tr>\n",
       "\t<tr><td>5       </td><td>6       </td><td>1954    </td><td>8       </td><td>1       </td><td>2.781863</td><td>4.307003</td><td>4.530767</td><td>6.357675</td><td>3.798821</td><td>⋯       </td><td>2.773895</td><td>4.270091</td><td>3.129476</td><td>4.093673</td><td>4.583275</td><td>5.474768</td><td>8.885073</td><td>3.053305</td><td>2.895764</td><td>4.223558</td></tr>\n",
       "\t<tr><td>6       </td><td>6       </td><td>1955    </td><td>8       </td><td>1       </td><td>2.947277</td><td>4.478090</td><td>4.707342</td><td>6.461299</td><td>3.976678</td><td>⋯       </td><td>2.899285</td><td>4.419948</td><td>3.261856</td><td>4.139855</td><td>4.740723</td><td>5.673722</td><td>8.958986</td><td>3.181143</td><td>3.049714</td><td>4.374800</td></tr>\n",
       "</tbody>\n",
       "</table>\n"
      ],
      "text/latex": [
       "\\begin{tabular}{r|lllllllllllllllllllllllllllllllllllllllllllllllllllllllllllllllllllllllllllllllllllllllllllllllllllllllllllllllllllllllllllllllllllllllllllllllllllllllllllllllllllllllllllllllllllllllllllllllllllllllllllllllllllllllllllllllllllllllllllllllllllllllllllllllllllllllllllllllllllllllllllllllllllllllllllllllllllllllllllllllllllllllllllllllllllllllllllllllllllllllllllllllllllllllllllllllllllllllllllllllllllllllllllllllllllllllllllllllllllllllllllllllllllllllllllllllllllllllllllllllllllllllllllllllllllllllllllllllllllllllllllllllllllllllllllllllllllllllllllllllllllllllllllllllllllllllllllllllllllllllllllllllllllllllllllllllllllllllllllllllllllllllllllllllllllllllllllllllllllllllllllllllllllllllllllllllllllllllllllllllllllllllllllllllllllllllllllllllllllllllllllllllllllllllllllllllllllllllllllllllllllllllllllllllllllllllllllllllllllllllllllllllllllllllllllllllllllllllllllllllllllllllllllllllllllllllllllllllllllllllllllllllllllllllllllllllllllllllllllllllllllllllllllllllllllllllllllllllllllllllllllll}\n",
       " V1 & location\\_id & year\\_id & age\\_group\\_id & sex\\_id & draw0 & draw1 & draw2 & draw3 & draw4 & ⋯ & draw990 & draw991 & draw992 & draw993 & draw994 & draw995 & draw996 & draw997 & draw998 & draw999\\\\\n",
       "\\hline\n",
       "\t 1        & 6        & 1950     & 8        & 1        & 2.193899 & 3.696831 & 3.899294 & 5.886914 & 3.221693 & ⋯        & 2.322269 & 3.697725 & 2.680337 & 3.931184 & 4.004720 & 4.729225 & 8.494130 & 2.570683 & 2.368506 & 3.664268\\\\\n",
       "\t 2        & 6        & 1951     & 8        & 1        & 2.329269 & 3.838159 & 4.045678 & 6.013686 & 3.346715 & ⋯        & 2.427470 & 3.836150 & 2.780698 & 3.969950 & 4.142245 & 4.905914 & 8.606566 & 2.687016 & 2.487811 & 3.796609\\\\\n",
       "\t 3        & 6        & 1952     & 8        & 1        & 2.472498 & 3.986922 & 4.199735 & 6.134196 & 3.484166 & ⋯        & 2.537848 & 3.977886 & 2.888934 & 4.009498 & 4.284303 & 5.089704 & 8.709071 & 2.806243 & 2.615149 & 3.934128\\\\\n",
       "\t 4        & 6        & 1953     & 8        & 1        & 2.623456 & 4.143215 & 4.361473 & 6.248749 & 3.634715 & ⋯        & 2.653360 & 4.122637 & 3.005171 & 4.050488 & 4.431217 & 5.279684 & 8.801838 & 2.928341 & 2.751002 & 4.076550\\\\\n",
       "\t 5        & 6        & 1954     & 8        & 1        & 2.781863 & 4.307003 & 4.530767 & 6.357675 & 3.798821 & ⋯        & 2.773895 & 4.270091 & 3.129476 & 4.093673 & 4.583275 & 5.474768 & 8.885073 & 3.053305 & 2.895764 & 4.223558\\\\\n",
       "\t 6        & 6        & 1955     & 8        & 1        & 2.947277 & 4.478090 & 4.707342 & 6.461299 & 3.976678 & ⋯        & 2.899285 & 4.419948 & 3.261856 & 4.139855 & 4.740723 & 5.673722 & 8.958986 & 3.181143 & 3.049714 & 4.374800\\\\\n",
       "\\end{tabular}\n"
      ],
      "text/markdown": [
       "\n",
       "V1 | location_id | year_id | age_group_id | sex_id | draw0 | draw1 | draw2 | draw3 | draw4 | ⋯ | draw990 | draw991 | draw992 | draw993 | draw994 | draw995 | draw996 | draw997 | draw998 | draw999 | \n",
       "|---|---|---|---|---|---|\n",
       "| 1        | 6        | 1950     | 8        | 1        | 2.193899 | 3.696831 | 3.899294 | 5.886914 | 3.221693 | ⋯        | 2.322269 | 3.697725 | 2.680337 | 3.931184 | 4.004720 | 4.729225 | 8.494130 | 2.570683 | 2.368506 | 3.664268 | \n",
       "| 2        | 6        | 1951     | 8        | 1        | 2.329269 | 3.838159 | 4.045678 | 6.013686 | 3.346715 | ⋯        | 2.427470 | 3.836150 | 2.780698 | 3.969950 | 4.142245 | 4.905914 | 8.606566 | 2.687016 | 2.487811 | 3.796609 | \n",
       "| 3        | 6        | 1952     | 8        | 1        | 2.472498 | 3.986922 | 4.199735 | 6.134196 | 3.484166 | ⋯        | 2.537848 | 3.977886 | 2.888934 | 4.009498 | 4.284303 | 5.089704 | 8.709071 | 2.806243 | 2.615149 | 3.934128 | \n",
       "| 4        | 6        | 1953     | 8        | 1        | 2.623456 | 4.143215 | 4.361473 | 6.248749 | 3.634715 | ⋯        | 2.653360 | 4.122637 | 3.005171 | 4.050488 | 4.431217 | 5.279684 | 8.801838 | 2.928341 | 2.751002 | 4.076550 | \n",
       "| 5        | 6        | 1954     | 8        | 1        | 2.781863 | 4.307003 | 4.530767 | 6.357675 | 3.798821 | ⋯        | 2.773895 | 4.270091 | 3.129476 | 4.093673 | 4.583275 | 5.474768 | 8.885073 | 3.053305 | 2.895764 | 4.223558 | \n",
       "| 6        | 6        | 1955     | 8        | 1        | 2.947277 | 4.478090 | 4.707342 | 6.461299 | 3.976678 | ⋯        | 2.899285 | 4.419948 | 3.261856 | 4.139855 | 4.740723 | 5.673722 | 8.958986 | 3.181143 | 3.049714 | 4.374800 | \n",
       "\n",
       "\n"
      ],
      "text/plain": [
       "  V1 location_id year_id age_group_id sex_id draw0    draw1    draw2   \n",
       "1 1  6           1950    8            1      2.193899 3.696831 3.899294\n",
       "2 2  6           1951    8            1      2.329269 3.838159 4.045678\n",
       "3 3  6           1952    8            1      2.472498 3.986922 4.199735\n",
       "4 4  6           1953    8            1      2.623456 4.143215 4.361473\n",
       "5 5  6           1954    8            1      2.781863 4.307003 4.530767\n",
       "6 6  6           1955    8            1      2.947277 4.478090 4.707342\n",
       "  draw3    draw4    ⋯ draw990  draw991  draw992  draw993  draw994  draw995 \n",
       "1 5.886914 3.221693 ⋯ 2.322269 3.697725 2.680337 3.931184 4.004720 4.729225\n",
       "2 6.013686 3.346715 ⋯ 2.427470 3.836150 2.780698 3.969950 4.142245 4.905914\n",
       "3 6.134196 3.484166 ⋯ 2.537848 3.977886 2.888934 4.009498 4.284303 5.089704\n",
       "4 6.248749 3.634715 ⋯ 2.653360 4.122637 3.005171 4.050488 4.431217 5.279684\n",
       "5 6.357675 3.798821 ⋯ 2.773895 4.270091 3.129476 4.093673 4.583275 5.474768\n",
       "6 6.461299 3.976678 ⋯ 2.899285 4.419948 3.261856 4.139855 4.740723 5.673722\n",
       "  draw996  draw997  draw998  draw999 \n",
       "1 8.494130 2.570683 2.368506 3.664268\n",
       "2 8.606566 2.687016 2.487811 3.796609\n",
       "3 8.709071 2.806243 2.615149 3.934128\n",
       "4 8.801838 2.928341 2.751002 4.076550\n",
       "5 8.885073 3.053305 2.895764 4.223558\n",
       "6 8.958986 3.181143 3.049714 4.374800"
      ]
     },
     "metadata": {},
     "output_type": "display_data"
    }
   ],
   "source": [
    "head(edu2)"
   ]
  },
  {
   "cell_type": "code",
   "execution_count": 11,
   "metadata": {
    "collapsed": true
   },
   "outputs": [],
   "source": [
    "edu2 <- merge(edu2, pop, by = c(\"location_id\", \"year_id\", \"age_group_id\", \"sex_id\"))"
   ]
  },
  {
   "cell_type": "code",
   "execution_count": 31,
   "metadata": {
    "collapsed": false
   },
   "outputs": [],
   "source": [
    "edu4<-edu2[, lapply(.SD, function(x) sum(x*pop)/sum(pop)), \n",
    "    by=c(\"location_id\", \"year_id\"), .SDcols=cbind(paste0(\"draw\",c(0:999))) ] "
   ]
  },
  {
   "cell_type": "code",
   "execution_count": 35,
   "metadata": {
    "collapsed": false,
    "scrolled": true
   },
   "outputs": [
    {
     "data": {
      "text/html": [
       "<table>\n",
       "<thead><tr><th scope=col>location_id</th><th scope=col>year_id</th><th scope=col>draw0</th><th scope=col>draw1</th><th scope=col>draw2</th><th scope=col>draw3</th><th scope=col>draw4</th><th scope=col>draw5</th><th scope=col>draw6</th><th scope=col>draw7</th><th scope=col>⋯</th><th scope=col>draw990</th><th scope=col>draw991</th><th scope=col>draw992</th><th scope=col>draw993</th><th scope=col>draw994</th><th scope=col>draw995</th><th scope=col>draw996</th><th scope=col>draw997</th><th scope=col>draw998</th><th scope=col>draw999</th></tr></thead>\n",
       "<tbody>\n",
       "\t<tr><td>6       </td><td>1950    </td><td>2.432078</td><td>2.713488</td><td>2.444265</td><td>2.684126</td><td>2.419469</td><td>2.592997</td><td>2.535412</td><td>2.335430</td><td>⋯       </td><td>2.448978</td><td>2.456569</td><td>2.534935</td><td>2.890653</td><td>2.466241</td><td>2.551215</td><td>3.288327</td><td>2.176167</td><td>2.639432</td><td>2.735019</td></tr>\n",
       "\t<tr><td>6       </td><td>1951    </td><td>2.510957</td><td>2.804991</td><td>2.535165</td><td>2.754107</td><td>2.496789</td><td>2.665202</td><td>2.624748</td><td>2.420907</td><td>⋯       </td><td>2.533595</td><td>2.525153</td><td>2.629635</td><td>2.963955</td><td>2.546576</td><td>2.622928</td><td>3.380717</td><td>2.242943</td><td>2.730847</td><td>2.831496</td></tr>\n",
       "\t<tr><td>6       </td><td>1952    </td><td>2.595274</td><td>2.899303</td><td>2.629450</td><td>2.825219</td><td>2.577961</td><td>2.739777</td><td>2.717568</td><td>2.510471</td><td>⋯       </td><td>2.622422</td><td>2.598117</td><td>2.728182</td><td>3.039806</td><td>2.631755</td><td>2.697830</td><td>3.471224</td><td>2.312788</td><td>2.826638</td><td>2.931058</td></tr>\n",
       "\t<tr><td>6       </td><td>1953    </td><td>2.683937</td><td>2.996656</td><td>2.726524</td><td>2.896823</td><td>2.663117</td><td>2.816964</td><td>2.813468</td><td>2.603953</td><td>⋯       </td><td>2.714910</td><td>2.675040</td><td>2.829992</td><td>3.117165</td><td>2.721595</td><td>2.775853</td><td>3.558953</td><td>2.385391</td><td>2.925752</td><td>3.032577</td></tr>\n",
       "\t<tr><td>6       </td><td>1954    </td><td>2.775488</td><td>3.097141</td><td>2.825747</td><td>2.968049</td><td>2.752269</td><td>2.896925</td><td>2.911723</td><td>2.701238</td><td>⋯       </td><td>2.810392</td><td>2.755236</td><td>2.934180</td><td>3.194826</td><td>2.815741</td><td>2.856832</td><td>3.642799</td><td>2.460515</td><td>3.026658</td><td>3.134533</td></tr>\n",
       "\t<tr><td>6       </td><td>1955    </td><td>2.869003</td><td>3.200475</td><td>2.926663</td><td>3.038625</td><td>2.845288</td><td>2.979550</td><td>3.011781</td><td>2.802236</td><td>⋯       </td><td>2.908469</td><td>2.838224</td><td>3.039940</td><td>3.272223</td><td>2.913949</td><td>2.940522</td><td>3.722581</td><td>2.538353</td><td>3.128242</td><td>3.235780</td></tr>\n",
       "</tbody>\n",
       "</table>\n"
      ],
      "text/latex": [
       "\\begin{tabular}{r|llllllllllllllllllllllllllllllllllllllllllllllllllllllllllllllllllllllllllllllllllllllllllllllllllllllllllllllllllllllllllllllllllllllllllllllllllllllllllllllllllllllllllllllllllllllllllllllllllllllllllllllllllllllllllllllllllllllllllllllllllllllllllllllllllllllllllllllllllllllllllllllllllllllllllllllllllllllllllllllllllllllllllllllllllllllllllllllllllllllllllllllllllllllllllllllllllllllllllllllllllllllllllllllllllllllllllllllllllllllllllllllllllllllllllllllllllllllllllllllllllllllllllllllllllllllllllllllllllllllllllllllllllllllllllllllllllllllllllllllllllllllllllllllllllllllllllllllllllllllllllllllllllllllllllllllllllllllllllllllllllllllllllllllllllllllllllllllllllllllllllllllllllllllllllllllllllllllllllllllllllllllllllllllllllllllllllllllllllllllllllllllllllllllllllllllllllllllllllllllllllllllllllllllllllllllllllllllllllllllllllllllllllllllllllllllllllllllllllllllllllllllllllllllllllllllllllllllllllllllllllllllllllllllllllllllllllllllllllllllllllllllllllllllllllllllllllllllllllllllllll}\n",
       " location\\_id & year\\_id & draw0 & draw1 & draw2 & draw3 & draw4 & draw5 & draw6 & draw7 & ⋯ & draw990 & draw991 & draw992 & draw993 & draw994 & draw995 & draw996 & draw997 & draw998 & draw999\\\\\n",
       "\\hline\n",
       "\t 6        & 1950     & 2.432078 & 2.713488 & 2.444265 & 2.684126 & 2.419469 & 2.592997 & 2.535412 & 2.335430 & ⋯        & 2.448978 & 2.456569 & 2.534935 & 2.890653 & 2.466241 & 2.551215 & 3.288327 & 2.176167 & 2.639432 & 2.735019\\\\\n",
       "\t 6        & 1951     & 2.510957 & 2.804991 & 2.535165 & 2.754107 & 2.496789 & 2.665202 & 2.624748 & 2.420907 & ⋯        & 2.533595 & 2.525153 & 2.629635 & 2.963955 & 2.546576 & 2.622928 & 3.380717 & 2.242943 & 2.730847 & 2.831496\\\\\n",
       "\t 6        & 1952     & 2.595274 & 2.899303 & 2.629450 & 2.825219 & 2.577961 & 2.739777 & 2.717568 & 2.510471 & ⋯        & 2.622422 & 2.598117 & 2.728182 & 3.039806 & 2.631755 & 2.697830 & 3.471224 & 2.312788 & 2.826638 & 2.931058\\\\\n",
       "\t 6        & 1953     & 2.683937 & 2.996656 & 2.726524 & 2.896823 & 2.663117 & 2.816964 & 2.813468 & 2.603953 & ⋯        & 2.714910 & 2.675040 & 2.829992 & 3.117165 & 2.721595 & 2.775853 & 3.558953 & 2.385391 & 2.925752 & 3.032577\\\\\n",
       "\t 6        & 1954     & 2.775488 & 3.097141 & 2.825747 & 2.968049 & 2.752269 & 2.896925 & 2.911723 & 2.701238 & ⋯        & 2.810392 & 2.755236 & 2.934180 & 3.194826 & 2.815741 & 2.856832 & 3.642799 & 2.460515 & 3.026658 & 3.134533\\\\\n",
       "\t 6        & 1955     & 2.869003 & 3.200475 & 2.926663 & 3.038625 & 2.845288 & 2.979550 & 3.011781 & 2.802236 & ⋯        & 2.908469 & 2.838224 & 3.039940 & 3.272223 & 2.913949 & 2.940522 & 3.722581 & 2.538353 & 3.128242 & 3.235780\\\\\n",
       "\\end{tabular}\n"
      ],
      "text/markdown": [
       "\n",
       "location_id | year_id | draw0 | draw1 | draw2 | draw3 | draw4 | draw5 | draw6 | draw7 | ⋯ | draw990 | draw991 | draw992 | draw993 | draw994 | draw995 | draw996 | draw997 | draw998 | draw999 | \n",
       "|---|---|---|---|---|---|\n",
       "| 6        | 1950     | 2.432078 | 2.713488 | 2.444265 | 2.684126 | 2.419469 | 2.592997 | 2.535412 | 2.335430 | ⋯        | 2.448978 | 2.456569 | 2.534935 | 2.890653 | 2.466241 | 2.551215 | 3.288327 | 2.176167 | 2.639432 | 2.735019 | \n",
       "| 6        | 1951     | 2.510957 | 2.804991 | 2.535165 | 2.754107 | 2.496789 | 2.665202 | 2.624748 | 2.420907 | ⋯        | 2.533595 | 2.525153 | 2.629635 | 2.963955 | 2.546576 | 2.622928 | 3.380717 | 2.242943 | 2.730847 | 2.831496 | \n",
       "| 6        | 1952     | 2.595274 | 2.899303 | 2.629450 | 2.825219 | 2.577961 | 2.739777 | 2.717568 | 2.510471 | ⋯        | 2.622422 | 2.598117 | 2.728182 | 3.039806 | 2.631755 | 2.697830 | 3.471224 | 2.312788 | 2.826638 | 2.931058 | \n",
       "| 6        | 1953     | 2.683937 | 2.996656 | 2.726524 | 2.896823 | 2.663117 | 2.816964 | 2.813468 | 2.603953 | ⋯        | 2.714910 | 2.675040 | 2.829992 | 3.117165 | 2.721595 | 2.775853 | 3.558953 | 2.385391 | 2.925752 | 3.032577 | \n",
       "| 6        | 1954     | 2.775488 | 3.097141 | 2.825747 | 2.968049 | 2.752269 | 2.896925 | 2.911723 | 2.701238 | ⋯        | 2.810392 | 2.755236 | 2.934180 | 3.194826 | 2.815741 | 2.856832 | 3.642799 | 2.460515 | 3.026658 | 3.134533 | \n",
       "| 6        | 1955     | 2.869003 | 3.200475 | 2.926663 | 3.038625 | 2.845288 | 2.979550 | 3.011781 | 2.802236 | ⋯        | 2.908469 | 2.838224 | 3.039940 | 3.272223 | 2.913949 | 2.940522 | 3.722581 | 2.538353 | 3.128242 | 3.235780 | \n",
       "\n",
       "\n"
      ],
      "text/plain": [
       "  location_id year_id draw0    draw1    draw2    draw3    draw4    draw5   \n",
       "1 6           1950    2.432078 2.713488 2.444265 2.684126 2.419469 2.592997\n",
       "2 6           1951    2.510957 2.804991 2.535165 2.754107 2.496789 2.665202\n",
       "3 6           1952    2.595274 2.899303 2.629450 2.825219 2.577961 2.739777\n",
       "4 6           1953    2.683937 2.996656 2.726524 2.896823 2.663117 2.816964\n",
       "5 6           1954    2.775488 3.097141 2.825747 2.968049 2.752269 2.896925\n",
       "6 6           1955    2.869003 3.200475 2.926663 3.038625 2.845288 2.979550\n",
       "  draw6    draw7    ⋯ draw990  draw991  draw992  draw993  draw994  draw995 \n",
       "1 2.535412 2.335430 ⋯ 2.448978 2.456569 2.534935 2.890653 2.466241 2.551215\n",
       "2 2.624748 2.420907 ⋯ 2.533595 2.525153 2.629635 2.963955 2.546576 2.622928\n",
       "3 2.717568 2.510471 ⋯ 2.622422 2.598117 2.728182 3.039806 2.631755 2.697830\n",
       "4 2.813468 2.603953 ⋯ 2.714910 2.675040 2.829992 3.117165 2.721595 2.775853\n",
       "5 2.911723 2.701238 ⋯ 2.810392 2.755236 2.934180 3.194826 2.815741 2.856832\n",
       "6 3.011781 2.802236 ⋯ 2.908469 2.838224 3.039940 3.272223 2.913949 2.940522\n",
       "  draw996  draw997  draw998  draw999 \n",
       "1 3.288327 2.176167 2.639432 2.735019\n",
       "2 3.380717 2.242943 2.730847 2.831496\n",
       "3 3.471224 2.312788 2.826638 2.931058\n",
       "4 3.558953 2.385391 2.925752 3.032577\n",
       "5 3.642799 2.460515 3.026658 3.134533\n",
       "6 3.722581 2.538353 3.128242 3.235780"
      ]
     },
     "metadata": {},
     "output_type": "display_data"
    }
   ],
   "source": [
    "head(edu4)"
   ]
  },
  {
   "cell_type": "code",
   "execution_count": 38,
   "metadata": {
    "collapsed": false
   },
   "outputs": [],
   "source": [
    "write.csv(edu4, \"/home/j/WORK/01_covariates/02_inputs/education/update_2017/data/output_data/20161121_GBD2016prelim_95+_raked_2/gpr_draws_country_year_collapsed.csv\")"
   ]
  },
  {
   "cell_type": "code",
   "execution_count": null,
   "metadata": {
    "collapsed": true
   },
   "outputs": [],
   "source": []
  }
 ],
 "metadata": {
  "anaconda-cloud": {},
  "kernelspec": {
   "display_name": "R",
   "language": "R",
   "name": "ir"
  },
  "language_info": {
   "codemirror_mode": "r",
   "file_extension": ".r",
   "mimetype": "text/x-r-source",
   "name": "R",
   "pygments_lexer": "r",
   "version": "3.3.2"
  }
 },
 "nbformat": 4,
 "nbformat_minor": 1
}
