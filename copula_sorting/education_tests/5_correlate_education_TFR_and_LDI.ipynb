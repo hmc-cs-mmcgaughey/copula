{
 "cells": [
  {
   "cell_type": "code",
   "execution_count": 1,
   "metadata": {
    "collapsed": false
   },
   "outputs": [
    {
     "name": "stderr",
     "output_type": "stream",
     "text": [
      "Loading required package: data.table\n",
      "Loading required package: MASS\n",
      "Loading required package: ggplot2\n",
      "Loading required package: gridExtra\n",
      "Loading required package: stringr\n",
      "Loading required package: matrixStats\n",
      "matrixStats v0.51.0 (2016-10-08) successfully loaded. See ?matrixStats for help.\n",
      "Loading required package: parallel\n",
      "Loading required package: abind\n",
      "Loading required package: rlist\n"
     ]
    },
    {
     "data": {
      "text/html": [
       "40"
      ],
      "text/latex": [
       "40"
      ],
      "text/markdown": [
       "40"
      ],
      "text/plain": [
       "[1] 40"
      ]
     },
     "metadata": {},
     "output_type": "display_data"
    }
   ],
   "source": [
    "# rm(list=ls())\n",
    "require(data.table)\n",
    "require(MASS)\n",
    "require(ggplot2)\n",
    "# require(foreach)\n",
    "require(gridExtra)\n",
    "require(stringr)\n",
    "require(matrixStats)\n",
    "require(parallel)\n",
    "require(abind)\n",
    "require(rlist)\n",
    "\n",
    "\n",
    "parallel::detectCores()\n",
    "## Resizing notebook plot space\n",
    "options(repr.plot.width=16, repr.plot.height=9)"
   ]
  },
  {
   "cell_type": "markdown",
   "metadata": {},
   "source": [
    "## Bring in LDI, TFR and Education"
   ]
  },
  {
   "cell_type": "code",
   "execution_count": 2,
   "metadata": {
    "collapsed": false
   },
   "outputs": [
    {
     "name": "stdout",
     "output_type": "stream",
     "text": [
      "\r",
      "Read 82.7% of 12090 rows\r",
      "Read 12090 rows and 1008 (of 1008) columns from 0.112 GB file in 00:00:03\n"
     ]
    },
    {
     "data": {
      "text/html": [
       "<table>\n",
       "<thead><tr><th scope=col>location_id</th><th scope=col>ihme_loc_id</th><th scope=col>year_id</th><th scope=col>age_group_id</th><th scope=col>sex_id</th><th scope=col>LDIpc_1</th><th scope=col>LDIpc_2</th><th scope=col>LDIpc_3</th><th scope=col>LDIpc_4</th><th scope=col>LDIpc_5</th><th scope=col>⋯</th><th scope=col>LDIpc_994</th><th scope=col>LDIpc_995</th><th scope=col>LDIpc_996</th><th scope=col>LDIpc_997</th><th scope=col>LDIpc_998</th><th scope=col>LDIpc_999</th><th scope=col>LDIpc_1000</th><th scope=col>rt_mean</th><th scope=col>rt_upper</th><th scope=col>rt_lower</th></tr></thead>\n",
       "<tbody>\n",
       "\t<tr><td>6       </td><td>CHN     </td><td>1979    </td><td>22      </td><td>3       </td><td>1015.737</td><td>1015.737</td><td>1015.737</td><td>1015.737</td><td>1015.737</td><td>⋯       </td><td>1015.737</td><td>1015.737</td><td>1015.737</td><td>1015.737</td><td>1015.737</td><td>1015.737</td><td>1015.737</td><td>1015.737</td><td>1015.737</td><td>1015.737</td></tr>\n",
       "\t<tr><td>6       </td><td>CHN     </td><td>1980    </td><td>22      </td><td>3       </td><td>1028.146</td><td>1028.146</td><td>1028.146</td><td>1028.146</td><td>1028.146</td><td>⋯       </td><td>1028.146</td><td>1028.146</td><td>1028.146</td><td>1028.146</td><td>1028.146</td><td>1028.146</td><td>1028.146</td><td>1028.146</td><td>1028.146</td><td>1028.146</td></tr>\n",
       "\t<tr><td>6       </td><td>CHN     </td><td>1981    </td><td>22      </td><td>3       </td><td>1044.316</td><td>1044.316</td><td>1044.316</td><td>1044.316</td><td>1044.316</td><td>⋯       </td><td>1044.316</td><td>1044.316</td><td>1044.316</td><td>1044.316</td><td>1044.316</td><td>1044.316</td><td>1044.316</td><td>1044.316</td><td>1044.316</td><td>1044.316</td></tr>\n",
       "\t<tr><td>6       </td><td>CHN     </td><td>1982    </td><td>22      </td><td>3       </td><td>1075.913</td><td>1075.913</td><td>1075.913</td><td>1075.913</td><td>1075.913</td><td>⋯       </td><td>1075.913</td><td>1075.913</td><td>1075.913</td><td>1075.913</td><td>1075.913</td><td>1075.913</td><td>1075.913</td><td>1075.913</td><td>1075.913</td><td>1075.913</td></tr>\n",
       "\t<tr><td>6       </td><td>CHN     </td><td>1983    </td><td>22      </td><td>3       </td><td>1114.356</td><td>1114.356</td><td>1114.356</td><td>1114.356</td><td>1114.356</td><td>⋯       </td><td>1114.356</td><td>1114.356</td><td>1114.356</td><td>1114.356</td><td>1114.356</td><td>1114.356</td><td>1114.356</td><td>1114.356</td><td>1114.356</td><td>1114.356</td></tr>\n",
       "\t<tr><td>6       </td><td>CHN     </td><td>1984    </td><td>22      </td><td>3       </td><td>1171.506</td><td>1171.506</td><td>1171.505</td><td>1171.505</td><td>1171.505</td><td>⋯       </td><td>1171.505</td><td>1171.505</td><td>1171.506</td><td>1171.505</td><td>1171.505</td><td>1171.505</td><td>1171.505</td><td>1171.506</td><td>1171.506</td><td>1171.505</td></tr>\n",
       "</tbody>\n",
       "</table>\n"
      ],
      "text/latex": [
       "\\begin{tabular}{r|llllllllllllllllllllllllllllllllllllllllllllllllllllllllllllllllllllllllllllllllllllllllllllllllllllllllllllllllllllllllllllllllllllllllllllllllllllllllllllllllllllllllllllllllllllllllllllllllllllllllllllllllllllllllllllllllllllllllllllllllllllllllllllllllllllllllllllllllllllllllllllllllllllllllllllllllllllllllllllllllllllllllllllllllllllllllllllllllllllllllllllllllllllllllllllllllllllllllllllllllllllllllllllllllllllllllllllllllllllllllllllllllllllllllllllllllllllllllllllllllllllllllllllllllllllllllllllllllllllllllllllllllllllllllllllllllllllllllllllllllllllllllllllllllllllllllllllllllllllllllllllllllllllllllllllllllllllllllllllllllllllllllllllllllllllllllllllllllllllllllllllllllllllllllllllllllllllllllllllllllllllllllllllllllllllllllllllllllllllllllllllllllllllllllllllllllllllllllllllllllllllllllllllllllllllllllllllllllllllllllllllllllllllllllllllllllllllllllllllllllllllllllllllllllllllllllllllllllllllllllllllllllllllllllllllllllllllllllllllllllllllllllllllllllllllllllllllllllllllllllllllllll}\n",
       " location\\_id & ihme\\_loc\\_id & year\\_id & age\\_group\\_id & sex\\_id & LDIpc\\_1 & LDIpc\\_2 & LDIpc\\_3 & LDIpc\\_4 & LDIpc\\_5 & ⋯ & LDIpc\\_994 & LDIpc\\_995 & LDIpc\\_996 & LDIpc\\_997 & LDIpc\\_998 & LDIpc\\_999 & LDIpc\\_1000 & rt\\_mean & rt\\_upper & rt\\_lower\\\\\n",
       "\\hline\n",
       "\t 6        & CHN      & 1979     & 22       & 3        & 1015.737 & 1015.737 & 1015.737 & 1015.737 & 1015.737 & ⋯        & 1015.737 & 1015.737 & 1015.737 & 1015.737 & 1015.737 & 1015.737 & 1015.737 & 1015.737 & 1015.737 & 1015.737\\\\\n",
       "\t 6        & CHN      & 1980     & 22       & 3        & 1028.146 & 1028.146 & 1028.146 & 1028.146 & 1028.146 & ⋯        & 1028.146 & 1028.146 & 1028.146 & 1028.146 & 1028.146 & 1028.146 & 1028.146 & 1028.146 & 1028.146 & 1028.146\\\\\n",
       "\t 6        & CHN      & 1981     & 22       & 3        & 1044.316 & 1044.316 & 1044.316 & 1044.316 & 1044.316 & ⋯        & 1044.316 & 1044.316 & 1044.316 & 1044.316 & 1044.316 & 1044.316 & 1044.316 & 1044.316 & 1044.316 & 1044.316\\\\\n",
       "\t 6        & CHN      & 1982     & 22       & 3        & 1075.913 & 1075.913 & 1075.913 & 1075.913 & 1075.913 & ⋯        & 1075.913 & 1075.913 & 1075.913 & 1075.913 & 1075.913 & 1075.913 & 1075.913 & 1075.913 & 1075.913 & 1075.913\\\\\n",
       "\t 6        & CHN      & 1983     & 22       & 3        & 1114.356 & 1114.356 & 1114.356 & 1114.356 & 1114.356 & ⋯        & 1114.356 & 1114.356 & 1114.356 & 1114.356 & 1114.356 & 1114.356 & 1114.356 & 1114.356 & 1114.356 & 1114.356\\\\\n",
       "\t 6        & CHN      & 1984     & 22       & 3        & 1171.506 & 1171.506 & 1171.505 & 1171.505 & 1171.505 & ⋯        & 1171.505 & 1171.505 & 1171.506 & 1171.505 & 1171.505 & 1171.505 & 1171.505 & 1171.506 & 1171.506 & 1171.505\\\\\n",
       "\\end{tabular}\n"
      ],
      "text/markdown": [
       "\n",
       "location_id | ihme_loc_id | year_id | age_group_id | sex_id | LDIpc_1 | LDIpc_2 | LDIpc_3 | LDIpc_4 | LDIpc_5 | ⋯ | LDIpc_994 | LDIpc_995 | LDIpc_996 | LDIpc_997 | LDIpc_998 | LDIpc_999 | LDIpc_1000 | rt_mean | rt_upper | rt_lower | \n",
       "|---|---|---|---|---|---|\n",
       "| 6        | CHN      | 1979     | 22       | 3        | 1015.737 | 1015.737 | 1015.737 | 1015.737 | 1015.737 | ⋯        | 1015.737 | 1015.737 | 1015.737 | 1015.737 | 1015.737 | 1015.737 | 1015.737 | 1015.737 | 1015.737 | 1015.737 | \n",
       "| 6        | CHN      | 1980     | 22       | 3        | 1028.146 | 1028.146 | 1028.146 | 1028.146 | 1028.146 | ⋯        | 1028.146 | 1028.146 | 1028.146 | 1028.146 | 1028.146 | 1028.146 | 1028.146 | 1028.146 | 1028.146 | 1028.146 | \n",
       "| 6        | CHN      | 1981     | 22       | 3        | 1044.316 | 1044.316 | 1044.316 | 1044.316 | 1044.316 | ⋯        | 1044.316 | 1044.316 | 1044.316 | 1044.316 | 1044.316 | 1044.316 | 1044.316 | 1044.316 | 1044.316 | 1044.316 | \n",
       "| 6        | CHN      | 1982     | 22       | 3        | 1075.913 | 1075.913 | 1075.913 | 1075.913 | 1075.913 | ⋯        | 1075.913 | 1075.913 | 1075.913 | 1075.913 | 1075.913 | 1075.913 | 1075.913 | 1075.913 | 1075.913 | 1075.913 | \n",
       "| 6        | CHN      | 1983     | 22       | 3        | 1114.356 | 1114.356 | 1114.356 | 1114.356 | 1114.356 | ⋯        | 1114.356 | 1114.356 | 1114.356 | 1114.356 | 1114.356 | 1114.356 | 1114.356 | 1114.356 | 1114.356 | 1114.356 | \n",
       "| 6        | CHN      | 1984     | 22       | 3        | 1171.506 | 1171.506 | 1171.505 | 1171.505 | 1171.505 | ⋯        | 1171.505 | 1171.505 | 1171.506 | 1171.505 | 1171.505 | 1171.505 | 1171.505 | 1171.506 | 1171.506 | 1171.505 | \n",
       "\n",
       "\n"
      ],
      "text/plain": [
       "  location_id ihme_loc_id year_id age_group_id sex_id LDIpc_1  LDIpc_2 \n",
       "1 6           CHN         1979    22           3      1015.737 1015.737\n",
       "2 6           CHN         1980    22           3      1028.146 1028.146\n",
       "3 6           CHN         1981    22           3      1044.316 1044.316\n",
       "4 6           CHN         1982    22           3      1075.913 1075.913\n",
       "5 6           CHN         1983    22           3      1114.356 1114.356\n",
       "6 6           CHN         1984    22           3      1171.506 1171.506\n",
       "  LDIpc_3  LDIpc_4  LDIpc_5  ⋯ LDIpc_994 LDIpc_995 LDIpc_996 LDIpc_997\n",
       "1 1015.737 1015.737 1015.737 ⋯ 1015.737  1015.737  1015.737  1015.737 \n",
       "2 1028.146 1028.146 1028.146 ⋯ 1028.146  1028.146  1028.146  1028.146 \n",
       "3 1044.316 1044.316 1044.316 ⋯ 1044.316  1044.316  1044.316  1044.316 \n",
       "4 1075.913 1075.913 1075.913 ⋯ 1075.913  1075.913  1075.913  1075.913 \n",
       "5 1114.356 1114.356 1114.356 ⋯ 1114.356  1114.356  1114.356  1114.356 \n",
       "6 1171.505 1171.505 1171.505 ⋯ 1171.505  1171.505  1171.506  1171.505 \n",
       "  LDIpc_998 LDIpc_999 LDIpc_1000 rt_mean  rt_upper rt_lower\n",
       "1 1015.737  1015.737  1015.737   1015.737 1015.737 1015.737\n",
       "2 1028.146  1028.146  1028.146   1028.146 1028.146 1028.146\n",
       "3 1044.316  1044.316  1044.316   1044.316 1044.316 1044.316\n",
       "4 1075.913  1075.913  1075.913   1075.913 1075.913 1075.913\n",
       "5 1114.356  1114.356  1114.356   1114.356 1114.356 1114.356\n",
       "6 1171.505  1171.505  1171.505   1171.506 1171.506 1171.505"
      ]
     },
     "metadata": {},
     "output_type": "display_data"
    }
   ],
   "source": [
    "ldi <- data.table(fread('/share/forecasting/data/LDIpc/national_LDIpc_prepped_20161207.csv'))\n",
    "head(ldi)"
   ]
  },
  {
   "cell_type": "code",
   "execution_count": 3,
   "metadata": {
    "collapsed": false
   },
   "outputs": [
    {
     "name": "stdout",
     "output_type": "stream",
     "text": [
      "\r",
      "Read 57.7% of 17321 rows\r",
      "Read 17321 rows and 1005 (of 1005) columns from 0.274 GB file in 00:00:05\n"
     ]
    },
    {
     "data": {
      "text/html": [
       "<table>\n",
       "<thead><tr><th scope=col>location_id</th><th scope=col>year_id</th><th scope=col>draw0</th><th scope=col>draw1</th><th scope=col>draw2</th><th scope=col>draw3</th><th scope=col>draw4</th><th scope=col>draw5</th><th scope=col>draw6</th><th scope=col>draw7</th><th scope=col>⋯</th><th scope=col>draw993</th><th scope=col>draw994</th><th scope=col>draw995</th><th scope=col>draw996</th><th scope=col>draw997</th><th scope=col>draw998</th><th scope=col>draw999</th><th scope=col>mean</th><th scope=col>lower</th><th scope=col>upper</th></tr></thead>\n",
       "<tbody>\n",
       "\t<tr><td>10      </td><td>1950    </td><td>1.336208</td><td>1.678651</td><td>1.666961</td><td>1.321678</td><td>1.726451</td><td>2.100176</td><td>1.644592</td><td>1.935168</td><td>⋯       </td><td>1.805843</td><td>1.324314</td><td>1.176254</td><td>1.550790</td><td>2.723640</td><td>1.806279</td><td>2.049624</td><td>1.645919</td><td>1.068804</td><td>2.630491</td></tr>\n",
       "\t<tr><td>10      </td><td>1951    </td><td>1.363233</td><td>1.692118</td><td>1.694677</td><td>1.350223</td><td>1.766093</td><td>2.145282</td><td>1.688327</td><td>1.959271</td><td>⋯       </td><td>1.823794</td><td>1.364587</td><td>1.208113</td><td>1.570845</td><td>2.754895</td><td>1.836829</td><td>2.107365</td><td>1.675652</td><td>1.087175</td><td>2.682010</td></tr>\n",
       "\t<tr><td>10      </td><td>1952    </td><td>1.391230</td><td>1.705612</td><td>1.723597</td><td>1.380729</td><td>1.806876</td><td>2.189708</td><td>1.732409</td><td>1.983210</td><td>⋯       </td><td>1.841873</td><td>1.406279</td><td>1.241448</td><td>1.591174</td><td>2.785191</td><td>1.867273</td><td>2.165253</td><td>1.706197</td><td>1.111213</td><td>2.737125</td></tr>\n",
       "\t<tr><td>10      </td><td>1953    </td><td>1.420162</td><td>1.719183</td><td>1.753810</td><td>1.413282</td><td>1.848761</td><td>2.233337</td><td>1.776700</td><td>2.007246</td><td>⋯       </td><td>1.860134</td><td>1.449185</td><td>1.276323</td><td>1.611863</td><td>2.814625</td><td>1.897611</td><td>2.223214</td><td>1.737582</td><td>1.135241</td><td>2.791019</td></tr>\n",
       "\t<tr><td>10      </td><td>1954    </td><td>1.449966</td><td>1.732866</td><td>1.785342</td><td>1.447930</td><td>1.891650</td><td>2.276010</td><td>1.821005</td><td>2.031560</td><td>⋯       </td><td>1.878600</td><td>1.493041</td><td>1.312772</td><td>1.633004</td><td>2.843222</td><td>1.927806</td><td>2.281070</td><td>1.769783</td><td>1.160084</td><td>2.835183</td></tr>\n",
       "\t<tr><td>10      </td><td>1955    </td><td>1.480594</td><td>1.746735</td><td>1.818158</td><td>1.484754</td><td>1.935420</td><td>2.317627</td><td>1.865190</td><td>2.056326</td><td>⋯       </td><td>1.897400</td><td>1.537597</td><td>1.350822</td><td>1.654735</td><td>2.871037</td><td>1.957871</td><td>2.338589</td><td>1.802792</td><td>1.190560</td><td>2.875104</td></tr>\n",
       "</tbody>\n",
       "</table>\n"
      ],
      "text/latex": [
       "\\begin{tabular}{r|lllllllllllllllllllllllllllllllllllllllllllllllllllllllllllllllllllllllllllllllllllllllllllllllllllllllllllllllllllllllllllllllllllllllllllllllllllllllllllllllllllllllllllllllllllllllllllllllllllllllllllllllllllllllllllllllllllllllllllllllllllllllllllllllllllllllllllllllllllllllllllllllllllllllllllllllllllllllllllllllllllllllllllllllllllllllllllllllllllllllllllllllllllllllllllllllllllllllllllllllllllllllllllllllllllllllllllllllllllllllllllllllllllllllllllllllllllllllllllllllllllllllllllllllllllllllllllllllllllllllllllllllllllllllllllllllllllllllllllllllllllllllllllllllllllllllllllllllllllllllllllllllllllllllllllllllllllllllllllllllllllllllllllllllllllllllllllllllllllllllllllllllllllllllllllllllllllllllllllllllllllllllllllllllllllllllllllllllllllllllllllllllllllllllllllllllllllllllllllllllllllllllllllllllllllllllllllllllllllllllllllllllllllllllllllllllllllllllllllllllllllllllllllllllllllllllllllllllllllllllllllllllllllllllllllllllllllllllllllllllllllllllllllllllllllllllllllllllllllllllllllll}\n",
       " location\\_id & year\\_id & draw0 & draw1 & draw2 & draw3 & draw4 & draw5 & draw6 & draw7 & ⋯ & draw993 & draw994 & draw995 & draw996 & draw997 & draw998 & draw999 & mean & lower & upper\\\\\n",
       "\\hline\n",
       "\t 10       & 1950     & 1.336208 & 1.678651 & 1.666961 & 1.321678 & 1.726451 & 2.100176 & 1.644592 & 1.935168 & ⋯        & 1.805843 & 1.324314 & 1.176254 & 1.550790 & 2.723640 & 1.806279 & 2.049624 & 1.645919 & 1.068804 & 2.630491\\\\\n",
       "\t 10       & 1951     & 1.363233 & 1.692118 & 1.694677 & 1.350223 & 1.766093 & 2.145282 & 1.688327 & 1.959271 & ⋯        & 1.823794 & 1.364587 & 1.208113 & 1.570845 & 2.754895 & 1.836829 & 2.107365 & 1.675652 & 1.087175 & 2.682010\\\\\n",
       "\t 10       & 1952     & 1.391230 & 1.705612 & 1.723597 & 1.380729 & 1.806876 & 2.189708 & 1.732409 & 1.983210 & ⋯        & 1.841873 & 1.406279 & 1.241448 & 1.591174 & 2.785191 & 1.867273 & 2.165253 & 1.706197 & 1.111213 & 2.737125\\\\\n",
       "\t 10       & 1953     & 1.420162 & 1.719183 & 1.753810 & 1.413282 & 1.848761 & 2.233337 & 1.776700 & 2.007246 & ⋯        & 1.860134 & 1.449185 & 1.276323 & 1.611863 & 2.814625 & 1.897611 & 2.223214 & 1.737582 & 1.135241 & 2.791019\\\\\n",
       "\t 10       & 1954     & 1.449966 & 1.732866 & 1.785342 & 1.447930 & 1.891650 & 2.276010 & 1.821005 & 2.031560 & ⋯        & 1.878600 & 1.493041 & 1.312772 & 1.633004 & 2.843222 & 1.927806 & 2.281070 & 1.769783 & 1.160084 & 2.835183\\\\\n",
       "\t 10       & 1955     & 1.480594 & 1.746735 & 1.818158 & 1.484754 & 1.935420 & 2.317627 & 1.865190 & 2.056326 & ⋯        & 1.897400 & 1.537597 & 1.350822 & 1.654735 & 2.871037 & 1.957871 & 2.338589 & 1.802792 & 1.190560 & 2.875104\\\\\n",
       "\\end{tabular}\n"
      ],
      "text/markdown": [
       "\n",
       "location_id | year_id | draw0 | draw1 | draw2 | draw3 | draw4 | draw5 | draw6 | draw7 | ⋯ | draw993 | draw994 | draw995 | draw996 | draw997 | draw998 | draw999 | mean | lower | upper | \n",
       "|---|---|---|---|---|---|\n",
       "| 10       | 1950     | 1.336208 | 1.678651 | 1.666961 | 1.321678 | 1.726451 | 2.100176 | 1.644592 | 1.935168 | ⋯        | 1.805843 | 1.324314 | 1.176254 | 1.550790 | 2.723640 | 1.806279 | 2.049624 | 1.645919 | 1.068804 | 2.630491 | \n",
       "| 10       | 1951     | 1.363233 | 1.692118 | 1.694677 | 1.350223 | 1.766093 | 2.145282 | 1.688327 | 1.959271 | ⋯        | 1.823794 | 1.364587 | 1.208113 | 1.570845 | 2.754895 | 1.836829 | 2.107365 | 1.675652 | 1.087175 | 2.682010 | \n",
       "| 10       | 1952     | 1.391230 | 1.705612 | 1.723597 | 1.380729 | 1.806876 | 2.189708 | 1.732409 | 1.983210 | ⋯        | 1.841873 | 1.406279 | 1.241448 | 1.591174 | 2.785191 | 1.867273 | 2.165253 | 1.706197 | 1.111213 | 2.737125 | \n",
       "| 10       | 1953     | 1.420162 | 1.719183 | 1.753810 | 1.413282 | 1.848761 | 2.233337 | 1.776700 | 2.007246 | ⋯        | 1.860134 | 1.449185 | 1.276323 | 1.611863 | 2.814625 | 1.897611 | 2.223214 | 1.737582 | 1.135241 | 2.791019 | \n",
       "| 10       | 1954     | 1.449966 | 1.732866 | 1.785342 | 1.447930 | 1.891650 | 2.276010 | 1.821005 | 2.031560 | ⋯        | 1.878600 | 1.493041 | 1.312772 | 1.633004 | 2.843222 | 1.927806 | 2.281070 | 1.769783 | 1.160084 | 2.835183 | \n",
       "| 10       | 1955     | 1.480594 | 1.746735 | 1.818158 | 1.484754 | 1.935420 | 2.317627 | 1.865190 | 2.056326 | ⋯        | 1.897400 | 1.537597 | 1.350822 | 1.654735 | 2.871037 | 1.957871 | 2.338589 | 1.802792 | 1.190560 | 2.875104 | \n",
       "\n",
       "\n"
      ],
      "text/plain": [
       "  location_id year_id draw0    draw1    draw2    draw3    draw4    draw5   \n",
       "1 10          1950    1.336208 1.678651 1.666961 1.321678 1.726451 2.100176\n",
       "2 10          1951    1.363233 1.692118 1.694677 1.350223 1.766093 2.145282\n",
       "3 10          1952    1.391230 1.705612 1.723597 1.380729 1.806876 2.189708\n",
       "4 10          1953    1.420162 1.719183 1.753810 1.413282 1.848761 2.233337\n",
       "5 10          1954    1.449966 1.732866 1.785342 1.447930 1.891650 2.276010\n",
       "6 10          1955    1.480594 1.746735 1.818158 1.484754 1.935420 2.317627\n",
       "  draw6    draw7    ⋯ draw993  draw994  draw995  draw996  draw997  draw998 \n",
       "1 1.644592 1.935168 ⋯ 1.805843 1.324314 1.176254 1.550790 2.723640 1.806279\n",
       "2 1.688327 1.959271 ⋯ 1.823794 1.364587 1.208113 1.570845 2.754895 1.836829\n",
       "3 1.732409 1.983210 ⋯ 1.841873 1.406279 1.241448 1.591174 2.785191 1.867273\n",
       "4 1.776700 2.007246 ⋯ 1.860134 1.449185 1.276323 1.611863 2.814625 1.897611\n",
       "5 1.821005 2.031560 ⋯ 1.878600 1.493041 1.312772 1.633004 2.843222 1.927806\n",
       "6 1.865190 2.056326 ⋯ 1.897400 1.537597 1.350822 1.654735 2.871037 1.957871\n",
       "  draw999  mean     lower    upper   \n",
       "1 2.049624 1.645919 1.068804 2.630491\n",
       "2 2.107365 1.675652 1.087175 2.682010\n",
       "3 2.165253 1.706197 1.111213 2.737125\n",
       "4 2.223214 1.737582 1.135241 2.791019\n",
       "5 2.281070 1.769783 1.160084 2.835183\n",
       "6 2.338589 1.802792 1.190560 2.875104"
      ]
     },
     "metadata": {},
     "output_type": "display_data"
    }
   ],
   "source": [
    "edu <- data.table(fread(\"/home/j/WORK/01_covariates/02_inputs/education/update_2017/data/output_data/20161121_GBD2016prelim_95+_raked_2/country_year_A_S_T_collapsed.csv\"))\n",
    "head(edu)"
   ]
  },
  {
   "cell_type": "markdown",
   "metadata": {},
   "source": [
    "### The first step is to compute the correlation of in-sample data. Let's subset those out first"
   ]
  },
  {
   "cell_type": "code",
   "execution_count": 36,
   "metadata": {
    "collapsed": false
   },
   "outputs": [],
   "source": [
    "ldi_insample <- ldi[year_id<=2015 , .SD, .SDcols = c(\"location_id\", \"year_id\", \"rt_mean\")]\n",
    "colnames(ldi_insample) <- c(\"location_id\", \"year_id\", \"mean\")\n",
    "edu_insample <- edu[year_id<=2015 & year_id>=1979 , .SD, .SDcols = c(\"location_id\", \"year_id\", \"mean\")]\n",
    "colnames(edu_insample) <- c(\"location_id\", \"year_id\", \"mean\")"
   ]
  },
  {
   "cell_type": "markdown",
   "metadata": {},
   "source": [
    "### Merge and compute correlation"
   ]
  },
  {
   "cell_type": "code",
   "execution_count": 38,
   "metadata": {
    "collapsed": false
   },
   "outputs": [
    {
     "data": {
      "text/html": [
       "<table>\n",
       "<thead><tr><th scope=col>location_id</th><th scope=col>year_id</th><th scope=col>mean.x</th><th scope=col>mean.y</th></tr></thead>\n",
       "<tbody>\n",
       "\t<tr><td>522     </td><td>2010    </td><td>3284.054</td><td>6.045872</td></tr>\n",
       "\t<tr><td>522     </td><td>2011    </td><td>3459.080</td><td>6.046340</td></tr>\n",
       "\t<tr><td>522     </td><td>2012    </td><td>3539.397</td><td>6.049182</td></tr>\n",
       "\t<tr><td>522     </td><td>2013    </td><td>3625.256</td><td>6.054970</td></tr>\n",
       "\t<tr><td>522     </td><td>2014    </td><td>3699.735</td><td>6.064234</td></tr>\n",
       "\t<tr><td>522     </td><td>2015    </td><td>3761.979</td><td>6.077547</td></tr>\n",
       "</tbody>\n",
       "</table>\n"
      ],
      "text/latex": [
       "\\begin{tabular}{r|llll}\n",
       " location\\_id & year\\_id & mean.x & mean.y\\\\\n",
       "\\hline\n",
       "\t 522      & 2010     & 3284.054 & 6.045872\\\\\n",
       "\t 522      & 2011     & 3459.080 & 6.046340\\\\\n",
       "\t 522      & 2012     & 3539.397 & 6.049182\\\\\n",
       "\t 522      & 2013     & 3625.256 & 6.054970\\\\\n",
       "\t 522      & 2014     & 3699.735 & 6.064234\\\\\n",
       "\t 522      & 2015     & 3761.979 & 6.077547\\\\\n",
       "\\end{tabular}\n"
      ],
      "text/markdown": [
       "\n",
       "location_id | year_id | mean.x | mean.y | \n",
       "|---|---|---|---|---|---|\n",
       "| 522      | 2010     | 3284.054 | 6.045872 | \n",
       "| 522      | 2011     | 3459.080 | 6.046340 | \n",
       "| 522      | 2012     | 3539.397 | 6.049182 | \n",
       "| 522      | 2013     | 3625.256 | 6.054970 | \n",
       "| 522      | 2014     | 3699.735 | 6.064234 | \n",
       "| 522      | 2015     | 3761.979 | 6.077547 | \n",
       "\n",
       "\n"
      ],
      "text/plain": [
       "  location_id year_id mean.x   mean.y  \n",
       "1 522         2010    3284.054 6.045872\n",
       "2 522         2011    3459.080 6.046340\n",
       "3 522         2012    3539.397 6.049182\n",
       "4 522         2013    3625.256 6.054970\n",
       "5 522         2014    3699.735 6.064234\n",
       "6 522         2015    3761.979 6.077547"
      ]
     },
     "metadata": {},
     "output_type": "display_data"
    }
   ],
   "source": [
    "insample_data_merged <- merge(x=ldi_insample, y=edu_insample, by=c(\"location_id\", \"year_id\" ))\n",
    "tail(insample_data_merged)"
   ]
  },
  {
   "cell_type": "markdown",
   "metadata": {},
   "source": [
    "### Compute the correlation"
   ]
  },
  {
   "cell_type": "code",
   "execution_count": 61,
   "metadata": {
    "collapsed": false
   },
   "outputs": [
    {
     "name": "stdout",
     "output_type": "stream",
     "text": [
      "          mean.x    mean.y\n",
      "mean.x 1.0000000 0.7328612\n",
      "mean.y 0.7328612 1.0000000\n"
     ]
    }
   ],
   "source": [
    "print(corr_mat<-cor(insample_data_merged[, .(mean.x, mean.y)], method = \"spearman\"))"
   ]
  },
  {
   "cell_type": "markdown",
   "metadata": {},
   "source": [
    "### Neal's univariate copula function"
   ]
  },
  {
   "cell_type": "code",
   "execution_count": 41,
   "metadata": {
    "collapsed": true
   },
   "outputs": [],
   "source": [
    "draw2Dcopula <- function(X, cor_mat, df_return = F){\n",
    "  L <- dim(X)[2]\n",
    "  D <- dim(X)[3]\n",
    "  Xsum <- apply(X, c(2, 3), sum)\n",
    "  mvdat <- mvrnorm(n=D, mu=0 * 1:L, Sigma=cor_mat, empirical=TRUE)\n",
    "  ranks <- apply(mvdat, 2, rank, ties.method=\"first\")\n",
    "  sortedXsim <- apply(Xsum, 1, function(x) sort(x, index.return=TRUE)$ix)\n",
    "  sortedX <- X\n",
    "  for(i in 1:L){\n",
    "    sortedX[,i,] <- X[,i,sortedXsim[,i]]\n",
    "  }\n",
    "  Xcorr <- sortedX\n",
    "  for(i in 1:L){\n",
    "    Xcorr[,i,] <- sortedX[,i,ranks[,i]]\n",
    "  }\n",
    "  if (df_return==T) {\n",
    "    return(data.frame(reshape2::melt(Xcorr)))\n",
    "    }\n",
    "      else {\n",
    "          Xcorr\n",
    "      }\n",
    "}"
   ]
  },
  {
   "cell_type": "markdown",
   "metadata": {},
   "source": [
    "### Merge the draws of LDI and Education, reshape super long and convert to arrays"
   ]
  },
  {
   "cell_type": "code",
   "execution_count": 54,
   "metadata": {
    "collapsed": false
   },
   "outputs": [
    {
     "data": {
      "text/html": [
       "<table>\n",
       "<thead><tr><th scope=col>location_id</th><th scope=col>year_id</th><th scope=col>variable</th><th scope=col>draw_num</th><th scope=col>data</th></tr></thead>\n",
       "<tbody>\n",
       "\t<tr><td>6       </td><td>1979    </td><td>LDIpc   </td><td>draw_1  </td><td>1015.737</td></tr>\n",
       "\t<tr><td>6       </td><td>1980    </td><td>LDIpc   </td><td>draw_1  </td><td>1028.146</td></tr>\n",
       "\t<tr><td>6       </td><td>1981    </td><td>LDIpc   </td><td>draw_1  </td><td>1044.316</td></tr>\n",
       "\t<tr><td>6       </td><td>1982    </td><td>LDIpc   </td><td>draw_1  </td><td>1075.913</td></tr>\n",
       "\t<tr><td>6       </td><td>1983    </td><td>LDIpc   </td><td>draw_1  </td><td>1114.356</td></tr>\n",
       "\t<tr><td>6       </td><td>1984    </td><td>LDIpc   </td><td>draw_1  </td><td>1171.506</td></tr>\n",
       "</tbody>\n",
       "</table>\n"
      ],
      "text/latex": [
       "\\begin{tabular}{r|lllll}\n",
       " location\\_id & year\\_id & variable & draw\\_num & data\\\\\n",
       "\\hline\n",
       "\t 6        & 1979     & LDIpc    & draw\\_1 & 1015.737\\\\\n",
       "\t 6        & 1980     & LDIpc    & draw\\_1 & 1028.146\\\\\n",
       "\t 6        & 1981     & LDIpc    & draw\\_1 & 1044.316\\\\\n",
       "\t 6        & 1982     & LDIpc    & draw\\_1 & 1075.913\\\\\n",
       "\t 6        & 1983     & LDIpc    & draw\\_1 & 1114.356\\\\\n",
       "\t 6        & 1984     & LDIpc    & draw\\_1 & 1171.506\\\\\n",
       "\\end{tabular}\n"
      ],
      "text/markdown": [
       "\n",
       "location_id | year_id | variable | draw_num | data | \n",
       "|---|---|---|---|---|---|\n",
       "| 6        | 1979     | LDIpc    | draw_1   | 1015.737 | \n",
       "| 6        | 1980     | LDIpc    | draw_1   | 1028.146 | \n",
       "| 6        | 1981     | LDIpc    | draw_1   | 1044.316 | \n",
       "| 6        | 1982     | LDIpc    | draw_1   | 1075.913 | \n",
       "| 6        | 1983     | LDIpc    | draw_1   | 1114.356 | \n",
       "| 6        | 1984     | LDIpc    | draw_1   | 1171.506 | \n",
       "\n",
       "\n"
      ],
      "text/plain": [
       "  location_id year_id variable draw_num data    \n",
       "1 6           1979    LDIpc    draw_1   1015.737\n",
       "2 6           1980    LDIpc    draw_1   1028.146\n",
       "3 6           1981    LDIpc    draw_1   1044.316\n",
       "4 6           1982    LDIpc    draw_1   1075.913\n",
       "5 6           1983    LDIpc    draw_1   1114.356\n",
       "6 6           1984    LDIpc    draw_1   1171.506"
      ]
     },
     "metadata": {},
     "output_type": "display_data"
    }
   ],
   "source": [
    "ldi_fc <- ldi[, .SD, .SDcols = c(\"location_id\", \"year_id\", paste0(\"LDIpc_\", c(1:1000)))]\n",
    "ldi_fc <- ldi_fc[, variable := \"LDIpc\"]\n",
    "ldi_fc <- setcolorder(ldi_fc, c(\"location_id\", \"year_id\", \"variable\", paste0(\"LDIpc_\", c(1:1000))) )\n",
    "colnames(ldi_fc) <-  c(\"location_id\", \"year_id\", \"variable\", paste0(\"draw_\", c(1:1000)))\n",
    "ldi_fc <- melt(ldi_fc, id.vars=c(\"location_id\",\"year_id\", \"variable\"), variable.name = \"draw_num\", value.name = \"data\")\n",
    "head(ldi_fc)"
   ]
  },
  {
   "cell_type": "code",
   "execution_count": 55,
   "metadata": {
    "collapsed": false
   },
   "outputs": [
    {
     "data": {
      "text/html": [
       "<table>\n",
       "<thead><tr><th scope=col>location_id</th><th scope=col>year_id</th><th scope=col>variable</th><th scope=col>draw_num</th><th scope=col>data</th></tr></thead>\n",
       "<tbody>\n",
       "\t<tr><td>10      </td><td>1979    </td><td>EDU     </td><td>draw_1  </td><td>2.534496</td></tr>\n",
       "\t<tr><td>10      </td><td>1980    </td><td>EDU     </td><td>draw_1  </td><td>2.588469</td></tr>\n",
       "\t<tr><td>10      </td><td>1981    </td><td>EDU     </td><td>draw_1  </td><td>2.655124</td></tr>\n",
       "\t<tr><td>10      </td><td>1982    </td><td>EDU     </td><td>draw_1  </td><td>2.725430</td></tr>\n",
       "\t<tr><td>10      </td><td>1983    </td><td>EDU     </td><td>draw_1  </td><td>2.798605</td></tr>\n",
       "\t<tr><td>10      </td><td>1984    </td><td>EDU     </td><td>draw_1  </td><td>2.873696</td></tr>\n",
       "</tbody>\n",
       "</table>\n"
      ],
      "text/latex": [
       "\\begin{tabular}{r|lllll}\n",
       " location\\_id & year\\_id & variable & draw\\_num & data\\\\\n",
       "\\hline\n",
       "\t 10       & 1979     & EDU      & draw\\_1 & 2.534496\\\\\n",
       "\t 10       & 1980     & EDU      & draw\\_1 & 2.588469\\\\\n",
       "\t 10       & 1981     & EDU      & draw\\_1 & 2.655124\\\\\n",
       "\t 10       & 1982     & EDU      & draw\\_1 & 2.725430\\\\\n",
       "\t 10       & 1983     & EDU      & draw\\_1 & 2.798605\\\\\n",
       "\t 10       & 1984     & EDU      & draw\\_1 & 2.873696\\\\\n",
       "\\end{tabular}\n"
      ],
      "text/markdown": [
       "\n",
       "location_id | year_id | variable | draw_num | data | \n",
       "|---|---|---|---|---|---|\n",
       "| 10       | 1979     | EDU      | draw_1   | 2.534496 | \n",
       "| 10       | 1980     | EDU      | draw_1   | 2.588469 | \n",
       "| 10       | 1981     | EDU      | draw_1   | 2.655124 | \n",
       "| 10       | 1982     | EDU      | draw_1   | 2.725430 | \n",
       "| 10       | 1983     | EDU      | draw_1   | 2.798605 | \n",
       "| 10       | 1984     | EDU      | draw_1   | 2.873696 | \n",
       "\n",
       "\n"
      ],
      "text/plain": [
       "  location_id year_id variable draw_num data    \n",
       "1 10          1979    EDU      draw_1   2.534496\n",
       "2 10          1980    EDU      draw_1   2.588469\n",
       "3 10          1981    EDU      draw_1   2.655124\n",
       "4 10          1982    EDU      draw_1   2.725430\n",
       "5 10          1983    EDU      draw_1   2.798605\n",
       "6 10          1984    EDU      draw_1   2.873696"
      ]
     },
     "metadata": {},
     "output_type": "display_data"
    }
   ],
   "source": [
    "edu_fc <- edu[year_id>=1979, .SD, .SDcols = c(\"location_id\", \"year_id\", paste0(\"draw\", c(0:999)))]\n",
    "edu_fc <- edu_fc[, variable := \"EDU\"]\n",
    "edu_fc <- setcolorder(edu_fc, c(\"location_id\", \"year_id\", \"variable\", paste0(\"draw\", c(0:999))) )\n",
    "colnames(edu_fc) <-  c(\"location_id\", \"year_id\", \"variable\", paste0(\"draw_\", c(1:1000)))\n",
    "edu_fc <- melt(edu_fc, id.vars=c(\"location_id\",\"year_id\", \"variable\"), variable.name = \"draw_num\", value.name = \"data\")\n",
    "head(edu_fc)"
   ]
  },
  {
   "cell_type": "code",
   "execution_count": 59,
   "metadata": {
    "collapsed": false
   },
   "outputs": [
    {
     "data": {
      "text/plain": [
       "   user  system elapsed \n",
       " 28.452   0.051  28.485 "
      ]
     },
     "metadata": {},
     "output_type": "display_data"
    },
    {
     "name": "stdout",
     "output_type": "stream",
     "text": [
      " num [1:191, 1:62, 1:2, 1:1000] 2.53 11.35 12.45 3.18 4.12 ...\n",
      " - attr(*, \"dimnames\")=List of 4\n",
      "  ..$ : chr [1:191] \"10\" \"101\" \"102\" \"105\" ...\n",
      "  ..$ : chr [1:62] \"1979\" \"1980\" \"1981\" \"1982\" ...\n",
      "  ..$ : chr [1:2] \"EDU\" \"LDIpc\"\n",
      "  ..$ : chr [1:1000] \"draw_1\" \"draw_2\" \"draw_3\" \"draw_4\" ...\n"
     ]
    }
   ],
   "source": [
    "all_data_binded <- rbind(ldi_fc, edu_fc)\n",
    "countries <- unique(edu_fc[, location_id])\n",
    "\n",
    "system.time(myarray2<- lapply(countries, \n",
    "                                function(x) reshape2::acast(all_data_binded[location_id == x,], \n",
    "                                                      location_id ~  year_id ~ variable ~ draw_num, \n",
    "                                                      value.var = \"data\")))\n",
    "myarray2 <- abind(myarray2, along=1)\n",
    "str(myarray2)"
   ]
  },
  {
   "cell_type": "markdown",
   "metadata": {},
   "source": [
    "### Copula'in time"
   ]
  },
  {
   "cell_type": "code",
   "execution_count": 77,
   "metadata": {
    "collapsed": false
   },
   "outputs": [
    {
     "data": {
      "text/html": [
       "<table>\n",
       "<thead><tr><th scope=col>location_id</th><th scope=col>year_id</th><th scope=col>variable</th><th scope=col>draw_num</th><th scope=col>data</th></tr></thead>\n",
       "<tbody>\n",
       "\t<tr><td>6       </td><td>1979    </td><td>LDIpc   </td><td>draw_1  </td><td>1015.737</td></tr>\n",
       "\t<tr><td>6       </td><td>1980    </td><td>LDIpc   </td><td>draw_1  </td><td>1028.146</td></tr>\n",
       "\t<tr><td>6       </td><td>1981    </td><td>LDIpc   </td><td>draw_1  </td><td>1044.316</td></tr>\n",
       "\t<tr><td>6       </td><td>1982    </td><td>LDIpc   </td><td>draw_1  </td><td>1075.913</td></tr>\n",
       "\t<tr><td>6       </td><td>1983    </td><td>LDIpc   </td><td>draw_1  </td><td>1114.356</td></tr>\n",
       "\t<tr><td>6       </td><td>1984    </td><td>LDIpc   </td><td>draw_1  </td><td>1171.506</td></tr>\n",
       "</tbody>\n",
       "</table>\n"
      ],
      "text/latex": [
       "\\begin{tabular}{r|lllll}\n",
       " location\\_id & year\\_id & variable & draw\\_num & data\\\\\n",
       "\\hline\n",
       "\t 6        & 1979     & LDIpc    & draw\\_1 & 1015.737\\\\\n",
       "\t 6        & 1980     & LDIpc    & draw\\_1 & 1028.146\\\\\n",
       "\t 6        & 1981     & LDIpc    & draw\\_1 & 1044.316\\\\\n",
       "\t 6        & 1982     & LDIpc    & draw\\_1 & 1075.913\\\\\n",
       "\t 6        & 1983     & LDIpc    & draw\\_1 & 1114.356\\\\\n",
       "\t 6        & 1984     & LDIpc    & draw\\_1 & 1171.506\\\\\n",
       "\\end{tabular}\n"
      ],
      "text/markdown": [
       "\n",
       "location_id | year_id | variable | draw_num | data | \n",
       "|---|---|---|---|---|---|\n",
       "| 6        | 1979     | LDIpc    | draw_1   | 1015.737 | \n",
       "| 6        | 1980     | LDIpc    | draw_1   | 1028.146 | \n",
       "| 6        | 1981     | LDIpc    | draw_1   | 1044.316 | \n",
       "| 6        | 1982     | LDIpc    | draw_1   | 1075.913 | \n",
       "| 6        | 1983     | LDIpc    | draw_1   | 1114.356 | \n",
       "| 6        | 1984     | LDIpc    | draw_1   | 1171.506 | \n",
       "\n",
       "\n"
      ],
      "text/plain": [
       "  location_id year_id variable draw_num data    \n",
       "1 6           1979    LDIpc    draw_1   1015.737\n",
       "2 6           1980    LDIpc    draw_1   1028.146\n",
       "3 6           1981    LDIpc    draw_1   1044.316\n",
       "4 6           1982    LDIpc    draw_1   1075.913\n",
       "5 6           1983    LDIpc    draw_1   1114.356\n",
       "6 6           1984    LDIpc    draw_1   1171.506"
      ]
     },
     "metadata": {},
     "output_type": "display_data"
    }
   ],
   "source": [
    "head(all_data_binded)"
   ]
  },
  {
   "cell_type": "code",
   "execution_count": 78,
   "metadata": {
    "collapsed": false
   },
   "outputs": [
    {
     "data": {
      "text/plain": [
       "   user  system elapsed \n",
       "  9.536   0.000   9.531 "
      ]
     },
     "metadata": {},
     "output_type": "display_data"
    },
    {
     "data": {
      "text/html": [
       "<table>\n",
       "<thead><tr><th scope=col>location_id</th><th scope=col>year_id</th><th scope=col>variable</th><th scope=col>draw_num</th><th scope=col>data</th></tr></thead>\n",
       "<tbody>\n",
       "\t<tr><td>99       </td><td>2035     </td><td>LDIpc    </td><td>draw_1000</td><td>32011.65 </td></tr>\n",
       "\t<tr><td>99       </td><td>2036     </td><td>LDIpc    </td><td>draw_1000</td><td>32989.66 </td></tr>\n",
       "\t<tr><td>99       </td><td>2037     </td><td>LDIpc    </td><td>draw_1000</td><td>33747.96 </td></tr>\n",
       "\t<tr><td>99       </td><td>2038     </td><td>LDIpc    </td><td>draw_1000</td><td>34411.53 </td></tr>\n",
       "\t<tr><td>99       </td><td>2039     </td><td>LDIpc    </td><td>draw_1000</td><td>34864.70 </td></tr>\n",
       "\t<tr><td>99       </td><td>2040     </td><td>LDIpc    </td><td>draw_1000</td><td>35439.63 </td></tr>\n",
       "</tbody>\n",
       "</table>\n"
      ],
      "text/latex": [
       "\\begin{tabular}{r|lllll}\n",
       " location\\_id & year\\_id & variable & draw\\_num & data\\\\\n",
       "\\hline\n",
       "\t 99          & 2035        & LDIpc       & draw\\_1000 & 32011.65   \\\\\n",
       "\t 99          & 2036        & LDIpc       & draw\\_1000 & 32989.66   \\\\\n",
       "\t 99          & 2037        & LDIpc       & draw\\_1000 & 33747.96   \\\\\n",
       "\t 99          & 2038        & LDIpc       & draw\\_1000 & 34411.53   \\\\\n",
       "\t 99          & 2039        & LDIpc       & draw\\_1000 & 34864.70   \\\\\n",
       "\t 99          & 2040        & LDIpc       & draw\\_1000 & 35439.63   \\\\\n",
       "\\end{tabular}\n"
      ],
      "text/markdown": [
       "\n",
       "location_id | year_id | variable | draw_num | data | \n",
       "|---|---|---|---|---|---|\n",
       "| 99        | 2035      | LDIpc     | draw_1000 | 32011.65  | \n",
       "| 99        | 2036      | LDIpc     | draw_1000 | 32989.66  | \n",
       "| 99        | 2037      | LDIpc     | draw_1000 | 33747.96  | \n",
       "| 99        | 2038      | LDIpc     | draw_1000 | 34411.53  | \n",
       "| 99        | 2039      | LDIpc     | draw_1000 | 34864.70  | \n",
       "| 99        | 2040      | LDIpc     | draw_1000 | 35439.63  | \n",
       "\n",
       "\n"
      ],
      "text/plain": [
       "  location_id year_id variable draw_num  data    \n",
       "1 99          2035    LDIpc    draw_1000 32011.65\n",
       "2 99          2036    LDIpc    draw_1000 32989.66\n",
       "3 99          2037    LDIpc    draw_1000 33747.96\n",
       "4 99          2038    LDIpc    draw_1000 34411.53\n",
       "5 99          2039    LDIpc    draw_1000 34864.70\n",
       "6 99          2040    LDIpc    draw_1000 35439.63"
      ]
     },
     "metadata": {},
     "output_type": "display_data"
    }
   ],
   "source": [
    "system.time(Xcorr_array <- lapply(countries, \n",
    "                                     function(x) cbind(x, draw2Dcopula(myarray2[paste0(x),,,], corr_mat , df_return = T)) ))\n",
    "                                        \n",
    "test2 <- list.stack(Xcorr_array, data.table=T)\n",
    "colnames(test2) <- c(\"location_id\", \"year_id\", \"variable\", \"draw_num\", \"data\")\n",
    "tail(test2)                  "
   ]
  },
  {
   "cell_type": "code",
   "execution_count": 80,
   "metadata": {
    "collapsed": false
   },
   "outputs": [
    {
     "data": {
      "text/html": [
       "<table>\n",
       "<thead><tr><th scope=col>location_id</th><th scope=col>year_id</th><th scope=col>variable</th><th scope=col>draw_1</th><th scope=col>draw_2</th><th scope=col>draw_3</th><th scope=col>draw_4</th><th scope=col>draw_5</th><th scope=col>draw_6</th><th scope=col>draw_7</th><th scope=col>⋯</th><th scope=col>draw_991</th><th scope=col>draw_992</th><th scope=col>draw_993</th><th scope=col>draw_994</th><th scope=col>draw_995</th><th scope=col>draw_996</th><th scope=col>draw_997</th><th scope=col>draw_998</th><th scope=col>draw_999</th><th scope=col>draw_1000</th></tr></thead>\n",
       "<tbody>\n",
       "\t<tr><td>6          </td><td>1979       </td><td>EDU        </td><td>   5.642348</td><td>   5.447712</td><td>   6.016524</td><td>   6.115722</td><td>   5.747208</td><td>   5.828471</td><td>   6.235271</td><td>⋯          </td><td>   5.823572</td><td>   5.924700</td><td>   5.696795</td><td>   5.633075</td><td>   5.776423</td><td>   5.156318</td><td>   5.379345</td><td>   5.751900</td><td>   6.227927</td><td>   6.251851</td></tr>\n",
       "\t<tr><td>6          </td><td>1979       </td><td>LDIpc      </td><td>1015.736700</td><td>1015.736700</td><td>1015.736700</td><td>1015.736700</td><td>1015.736700</td><td>1015.736700</td><td>1015.736700</td><td>⋯          </td><td>1015.736700</td><td>1015.736700</td><td>1015.736700</td><td>1015.736700</td><td>1015.736700</td><td>1015.736700</td><td>1015.736700</td><td>1015.736700</td><td>1015.736700</td><td>1015.736700</td></tr>\n",
       "\t<tr><td>6          </td><td>1980       </td><td>EDU        </td><td>   5.772344</td><td>   5.589353</td><td>   6.116313</td><td>   6.207940</td><td>   5.872911</td><td>   5.946150</td><td>   6.329412</td><td>⋯          </td><td>   5.924677</td><td>   6.016976</td><td>   5.819375</td><td>   5.751238</td><td>   5.874576</td><td>   5.290668</td><td>   5.513045</td><td>   5.864611</td><td>   6.325511</td><td>   6.329776</td></tr>\n",
       "\t<tr><td>6          </td><td>1980       </td><td>LDIpc      </td><td>1028.146400</td><td>1028.146400</td><td>1028.146400</td><td>1028.146400</td><td>1028.146400</td><td>1028.146400</td><td>1028.146400</td><td>⋯          </td><td>1028.146400</td><td>1028.146400</td><td>1028.146400</td><td>1028.146400</td><td>1028.146400</td><td>1028.146400</td><td>1028.146400</td><td>1028.146400</td><td>1028.146400</td><td>1028.146400</td></tr>\n",
       "\t<tr><td>6          </td><td>1981       </td><td>EDU        </td><td>   5.904181</td><td>   5.733863</td><td>   6.218437</td><td>   6.305171</td><td>   5.999061</td><td>   6.065895</td><td>   6.428797</td><td>⋯          </td><td>   6.031810</td><td>   6.113720</td><td>   5.944626</td><td>   5.872336</td><td>   5.977856</td><td>   5.430139</td><td>   5.646768</td><td>   5.980017</td><td>   6.427853</td><td>   6.414947</td></tr>\n",
       "\t<tr><td>6          </td><td>1981       </td><td>LDIpc      </td><td>1044.315900</td><td>1044.315900</td><td>1044.315900</td><td>1044.315900</td><td>1044.315900</td><td>1044.315900</td><td>1044.315900</td><td>⋯          </td><td>1044.315900</td><td>1044.315900</td><td>1044.315900</td><td>1044.315900</td><td>1044.315900</td><td>1044.315900</td><td>1044.315900</td><td>1044.315900</td><td>1044.315900</td><td>1044.315900</td></tr>\n",
       "</tbody>\n",
       "</table>\n"
      ],
      "text/latex": [
       "\\begin{tabular}{r|lllllllllllllllllllllllllllllllllllllllllllllllllllllllllllllllllllllllllllllllllllllllllllllllllllllllllllllllllllllllllllllllllllllllllllllllllllllllllllllllllllllllllllllllllllllllllllllllllllllllllllllllllllllllllllllllllllllllllllllllllllllllllllllllllllllllllllllllllllllllllllllllllllllllllllllllllllllllllllllllllllllllllllllllllllllllllllllllllllllllllllllllllllllllllllllllllllllllllllllllllllllllllllllllllllllllllllllllllllllllllllllllllllllllllllllllllllllllllllllllllllllllllllllllllllllllllllllllllllllllllllllllllllllllllllllllllllllllllllllllllllllllllllllllllllllllllllllllllllllllllllllllllllllllllllllllllllllllllllllllllllllllllllllllllllllllllllllllllllllllllllllllllllllllllllllllllllllllllllllllllllllllllllllllllllllllllllllllllllllllllllllllllllllllllllllllllllllllllllllllllllllllllllllllllllllllllllllllllllllllllllllllllllllllllllllllllllllllllllllllllllllllllllllllllllllllllllllllllllllllllllllllllllllllllllllllllllllllllllllllllllllllllllllllllllllllllllllllllllllllllll}\n",
       " location\\_id & year\\_id & variable & draw\\_1 & draw\\_2 & draw\\_3 & draw\\_4 & draw\\_5 & draw\\_6 & draw\\_7 & ⋯ & draw\\_991 & draw\\_992 & draw\\_993 & draw\\_994 & draw\\_995 & draw\\_996 & draw\\_997 & draw\\_998 & draw\\_999 & draw\\_1000\\\\\n",
       "\\hline\n",
       "\t 6           & 1979        & EDU         &    5.642348 &    5.447712 &    6.016524 &    6.115722 &    5.747208 &    5.828471 &    6.235271 & ⋯           &    5.823572 &    5.924700 &    5.696795 &    5.633075 &    5.776423 &    5.156318 &    5.379345 &    5.751900 &    6.227927 &    6.251851\\\\\n",
       "\t 6           & 1979        & LDIpc       & 1015.736700 & 1015.736700 & 1015.736700 & 1015.736700 & 1015.736700 & 1015.736700 & 1015.736700 & ⋯           & 1015.736700 & 1015.736700 & 1015.736700 & 1015.736700 & 1015.736700 & 1015.736700 & 1015.736700 & 1015.736700 & 1015.736700 & 1015.736700\\\\\n",
       "\t 6           & 1980        & EDU         &    5.772344 &    5.589353 &    6.116313 &    6.207940 &    5.872911 &    5.946150 &    6.329412 & ⋯           &    5.924677 &    6.016976 &    5.819375 &    5.751238 &    5.874576 &    5.290668 &    5.513045 &    5.864611 &    6.325511 &    6.329776\\\\\n",
       "\t 6           & 1980        & LDIpc       & 1028.146400 & 1028.146400 & 1028.146400 & 1028.146400 & 1028.146400 & 1028.146400 & 1028.146400 & ⋯           & 1028.146400 & 1028.146400 & 1028.146400 & 1028.146400 & 1028.146400 & 1028.146400 & 1028.146400 & 1028.146400 & 1028.146400 & 1028.146400\\\\\n",
       "\t 6           & 1981        & EDU         &    5.904181 &    5.733863 &    6.218437 &    6.305171 &    5.999061 &    6.065895 &    6.428797 & ⋯           &    6.031810 &    6.113720 &    5.944626 &    5.872336 &    5.977856 &    5.430139 &    5.646768 &    5.980017 &    6.427853 &    6.414947\\\\\n",
       "\t 6           & 1981        & LDIpc       & 1044.315900 & 1044.315900 & 1044.315900 & 1044.315900 & 1044.315900 & 1044.315900 & 1044.315900 & ⋯           & 1044.315900 & 1044.315900 & 1044.315900 & 1044.315900 & 1044.315900 & 1044.315900 & 1044.315900 & 1044.315900 & 1044.315900 & 1044.315900\\\\\n",
       "\\end{tabular}\n"
      ],
      "text/markdown": [
       "\n",
       "location_id | year_id | variable | draw_1 | draw_2 | draw_3 | draw_4 | draw_5 | draw_6 | draw_7 | ⋯ | draw_991 | draw_992 | draw_993 | draw_994 | draw_995 | draw_996 | draw_997 | draw_998 | draw_999 | draw_1000 | \n",
       "|---|---|---|---|---|---|\n",
       "| 6           | 1979        | EDU         |    5.642348 |    5.447712 |    6.016524 |    6.115722 |    5.747208 |    5.828471 |    6.235271 | ⋯           |    5.823572 |    5.924700 |    5.696795 |    5.633075 |    5.776423 |    5.156318 |    5.379345 |    5.751900 |    6.227927 |    6.251851 | \n",
       "| 6           | 1979        | LDIpc       | 1015.736700 | 1015.736700 | 1015.736700 | 1015.736700 | 1015.736700 | 1015.736700 | 1015.736700 | ⋯           | 1015.736700 | 1015.736700 | 1015.736700 | 1015.736700 | 1015.736700 | 1015.736700 | 1015.736700 | 1015.736700 | 1015.736700 | 1015.736700 | \n",
       "| 6           | 1980        | EDU         |    5.772344 |    5.589353 |    6.116313 |    6.207940 |    5.872911 |    5.946150 |    6.329412 | ⋯           |    5.924677 |    6.016976 |    5.819375 |    5.751238 |    5.874576 |    5.290668 |    5.513045 |    5.864611 |    6.325511 |    6.329776 | \n",
       "| 6           | 1980        | LDIpc       | 1028.146400 | 1028.146400 | 1028.146400 | 1028.146400 | 1028.146400 | 1028.146400 | 1028.146400 | ⋯           | 1028.146400 | 1028.146400 | 1028.146400 | 1028.146400 | 1028.146400 | 1028.146400 | 1028.146400 | 1028.146400 | 1028.146400 | 1028.146400 | \n",
       "| 6           | 1981        | EDU         |    5.904181 |    5.733863 |    6.218437 |    6.305171 |    5.999061 |    6.065895 |    6.428797 | ⋯           |    6.031810 |    6.113720 |    5.944626 |    5.872336 |    5.977856 |    5.430139 |    5.646768 |    5.980017 |    6.427853 |    6.414947 | \n",
       "| 6           | 1981        | LDIpc       | 1044.315900 | 1044.315900 | 1044.315900 | 1044.315900 | 1044.315900 | 1044.315900 | 1044.315900 | ⋯           | 1044.315900 | 1044.315900 | 1044.315900 | 1044.315900 | 1044.315900 | 1044.315900 | 1044.315900 | 1044.315900 | 1044.315900 | 1044.315900 | \n",
       "\n",
       "\n"
      ],
      "text/plain": [
       "  location_id year_id variable draw_1      draw_2      draw_3      draw_4     \n",
       "1 6           1979    EDU         5.642348    5.447712    6.016524    6.115722\n",
       "2 6           1979    LDIpc    1015.736700 1015.736700 1015.736700 1015.736700\n",
       "3 6           1980    EDU         5.772344    5.589353    6.116313    6.207940\n",
       "4 6           1980    LDIpc    1028.146400 1028.146400 1028.146400 1028.146400\n",
       "5 6           1981    EDU         5.904181    5.733863    6.218437    6.305171\n",
       "6 6           1981    LDIpc    1044.315900 1044.315900 1044.315900 1044.315900\n",
       "  draw_5      draw_6      draw_7      ⋯ draw_991    draw_992    draw_993   \n",
       "1    5.747208    5.828471    6.235271 ⋯    5.823572    5.924700    5.696795\n",
       "2 1015.736700 1015.736700 1015.736700 ⋯ 1015.736700 1015.736700 1015.736700\n",
       "3    5.872911    5.946150    6.329412 ⋯    5.924677    6.016976    5.819375\n",
       "4 1028.146400 1028.146400 1028.146400 ⋯ 1028.146400 1028.146400 1028.146400\n",
       "5    5.999061    6.065895    6.428797 ⋯    6.031810    6.113720    5.944626\n",
       "6 1044.315900 1044.315900 1044.315900 ⋯ 1044.315900 1044.315900 1044.315900\n",
       "  draw_994    draw_995    draw_996    draw_997    draw_998    draw_999   \n",
       "1    5.633075    5.776423    5.156318    5.379345    5.751900    6.227927\n",
       "2 1015.736700 1015.736700 1015.736700 1015.736700 1015.736700 1015.736700\n",
       "3    5.751238    5.874576    5.290668    5.513045    5.864611    6.325511\n",
       "4 1028.146400 1028.146400 1028.146400 1028.146400 1028.146400 1028.146400\n",
       "5    5.872336    5.977856    5.430139    5.646768    5.980017    6.427853\n",
       "6 1044.315900 1044.315900 1044.315900 1044.315900 1044.315900 1044.315900\n",
       "  draw_1000  \n",
       "1    6.251851\n",
       "2 1015.736700\n",
       "3    6.329776\n",
       "4 1028.146400\n",
       "5    6.414947\n",
       "6 1044.315900"
      ]
     },
     "metadata": {},
     "output_type": "display_data"
    }
   ],
   "source": [
    "### Stack into a DT\n",
    "test3 <- dcast(test2, location_id + year_id + variable ~ draw_num, value.var = c(\"data\"))\n",
    "head(test3)"
   ]
  },
  {
   "cell_type": "code",
   "execution_count": 81,
   "metadata": {
    "collapsed": true
   },
   "outputs": [],
   "source": [
    "LDI_sorted <- test3[variable==\"LDIpc\", .SD, .SDcols = c(\"location_id\", \"year_id\", paste0(\"draw_\", c(1:1000)))]\n",
    "colnames(LDI_sorted) <- c(\"location_id\", \"year_id\", paste0(\"LDIpc_\", c(1:1000)))\n",
    "EDU_sorted <- test3[variable==\"EDU\", .SD, .SDcols = c(\"location_id\", \"year_id\", paste0(\"draw_\", c(1:1000)))]\n",
    "colnames(EDU_sorted) <- c(\"location_id\", \"year_id\", paste0(\"draw\", c(0:999)))"
   ]
  },
  {
   "cell_type": "code",
   "execution_count": 82,
   "metadata": {
    "collapsed": true
   },
   "outputs": [],
   "source": [
    "## Save out\n",
    "fwrite(LDI_sorted, \"/ihme/forecasting/data/covariates/ldi_per_capita/national_LDIpc_corrd_with_EDU_20170210.csv\")\n",
    "fwrite(EDU_sorted, \"/ihme/forecasting/data/covariates/education/national_EDU_corrd_with_LDIpc_20170210\")"
   ]
  }
 ],
 "metadata": {
  "anaconda-cloud": {},
  "kernelspec": {
   "display_name": "R",
   "language": "R",
   "name": "ir"
  },
  "language_info": {
   "codemirror_mode": "r",
   "file_extension": ".r",
   "mimetype": "text/x-r-source",
   "name": "R",
   "pygments_lexer": "r",
   "version": "3.3.2"
  }
 },
 "nbformat": 4,
 "nbformat_minor": 1
}
