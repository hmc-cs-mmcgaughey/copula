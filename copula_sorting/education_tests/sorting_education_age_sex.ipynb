{
 "cells": [
  {
   "cell_type": "code",
   "execution_count": 5,
   "metadata": {
    "collapsed": false,
    "scrolled": true
   },
   "outputs": [
    {
     "name": "stderr",
     "output_type": "stream",
     "text": [
      "Loading required package: feather\n",
      "Loading required package: data.table\n",
      "Loading required package: reshape2\n",
      "\n",
      "Attaching package: ‘reshape2’\n",
      "\n",
      "The following objects are masked from ‘package:data.table’:\n",
      "\n",
      "    dcast, melt\n",
      "\n",
      "Loading required package: MASS\n",
      "Loading required package: ggplot2\n"
     ]
    }
   ],
   "source": [
    "# rm(list=ls())\n",
    "require(feather, lib.loc = \"/homes/sadatnfs/R/x86_64-unknown-linux-gnu-library/3.1\")\n",
    "require(data.table)\n",
    "require(reshape2)\n",
    "require(MASS)\n",
    "require(ggplot2)\n",
    "require(foreach)"
   ]
  },
  {
   "cell_type": "code",
   "execution_count": 6,
   "metadata": {
    "collapsed": false
   },
   "outputs": [],
   "source": [
    "pop <- fread(\"/home/j/Project/IRH/Forecasting/data/WPP_forecasted_population.csv\")\n",
    "pop <- data.table(pop)"
   ]
  },
  {
   "cell_type": "code",
   "execution_count": 91,
   "metadata": {
    "collapsed": false
   },
   "outputs": [
    {
     "name": "stdout",
     "output_type": "stream",
     "text": [
      "\r",
      "Read 0.0% of 496860 rows\r",
      "Read 2.0% of 496860 rows\r",
      "Read 4.0% of 496860 rows\r",
      "Read 6.0% of 496860 rows\r",
      "Read 8.1% of 496860 rows\r",
      "Read 10.1% of 496860 rows\r",
      "Read 12.1% of 496860 rows\r",
      "Read 14.1% of 496860 rows\r",
      "Read 16.1% of 496860 rows\r",
      "Read 18.1% of 496860 rows\r",
      "Read 20.1% of 496860 rows\r",
      "Read 22.1% of 496860 rows\r",
      "Read 24.2% of 496860 rows\r",
      "Read 26.2% of 496860 rows\r",
      "Read 28.2% of 496860 rows\r",
      "Read 30.2% of 496860 rows\r",
      "Read 32.2% of 496860 rows\r",
      "Read 34.2% of 496860 rows\r",
      "Read 36.2% of 496860 rows\r",
      "Read 38.2% of 496860 rows\r",
      "Read 40.3% of 496860 rows\r",
      "Read 42.3% of 496860 rows\r",
      "Read 44.3% of 496860 rows\r",
      "Read 46.3% of 496860 rows\r",
      "Read 48.3% of 496860 rows\r",
      "Read 50.3% of 496860 rows\r",
      "Read 52.3% of 496860 rows\r",
      "Read 54.3% of 496860 rows\r",
      "Read 56.4% of 496860 rows\r",
      "Read 58.4% of 496860 rows\r",
      "Read 60.4% of 496860 rows\r",
      "Read 62.4% of 496860 rows\r",
      "Read 64.4% of 496860 rows\r",
      "Read 66.4% of 496860 rows\r",
      "Read 68.4% of 496860 rows\r",
      "Read 70.4% of 496860 rows\r",
      "Read 72.5% of 496860 rows\r",
      "Read 74.5% of 496860 rows\r",
      "Read 76.5% of 496860 rows\r",
      "Read 78.5% of 496860 rows\r",
      "Read 80.5% of 496860 rows\r",
      "Read 82.5% of 496860 rows\r",
      "Read 84.5% of 496860 rows\r",
      "Read 86.5% of 496860 rows\r",
      "Read 88.6% of 496860 rows\r",
      "Read 90.6% of 496860 rows\r",
      "Read 92.6% of 496860 rows\r",
      "Read 94.6% of 496860 rows\r",
      "Read 96.6% of 496860 rows\r",
      "Read 98.6% of 496860 rows\r",
      "Read 496860 rows and 1005 (of 1005) columns from 6.600 GB file in 00:02:11\n"
     ]
    }
   ],
   "source": [
    "## Education forecasts\n",
    "# edu_orig<-data.table(fread(paste0(\"/home/j/WORK/01_covariates/02_inputs/education/update_2017/data/output_data/20161121_GBD2016prelim_95+_raked_2/gpr_draws.csv\"), header = T))\n",
    "edu<-data.table(fread(paste0(\"/home/j/WORK/01_covariates/02_inputs/education/update_2017/data/output_data/20161121_GBD2016prelim_95+_raked_2/intermediate/gpr_draws_wide_by_years.csv\"), header = T))\n",
    "# edu <- data.table(edu)"
   ]
  },
  {
   "cell_type": "markdown",
   "metadata": {},
   "source": [
    "### Reshape long by draws, wide by year, use copula with spearman = 1, and reshape back AND collapse by country-year"
   ]
  },
  {
   "cell_type": "markdown",
   "metadata": {},
   "source": [
    "### Neal's Copula Function (rho = 1)"
   ]
  },
  {
   "cell_type": "code",
   "execution_count": 8,
   "metadata": {
    "collapsed": true
   },
   "outputs": [],
   "source": [
    "rank_time_series <- function(X, corr, ts=F, print=FALSE){\n",
    "  draws <- nrow(X)\n",
    "  years <- ncol(X)\n",
    "  # X <- matrix(runif(draws*years), nrow=years, ncol=draws)\n",
    "  \n",
    "  if(print){\n",
    "    print(sapply(2:years, function(x) cor(X[x,], X[x-1,])))\n",
    "  }\n",
    "  \n",
    "  if(ts == F) {\n",
    "    corr_mat <- matrix(data=corr, nrow= years, ncol= years )\n",
    "    diag(corr_mat) <- 1\n",
    "  }\n",
    "  \n",
    "  if(ts == T) {\n",
    "    corr_mat <- corr**abs(outer(0:(years-1), 0:(years-1), \"-\"))\n",
    "  }\n",
    "  \n",
    "  \n",
    "#   print(corr_mat)\n",
    "  mvdat <- mvrnorm(n= draws, mu=0 * 1:ncol(X), Sigma=corr_mat, empirical=T)\n",
    "  ranks <- apply(mvdat, 2, rank, ties.method=\"first\")\n",
    "  sorted_X <- apply(X, 2, sort)\n",
    "  sapply(1:ncol(X), function(x) sorted_X[,x][ranks[,x]])\n",
    "}\n",
    "\n"
   ]
  },
  {
   "cell_type": "markdown",
   "metadata": {},
   "source": [
    "### Let's differentiate each chunks of unique loc_id, age, sex"
   ]
  },
  {
   "cell_type": "code",
   "execution_count": 13,
   "metadata": {
    "collapsed": false,
    "scrolled": false
   },
   "outputs": [],
   "source": [
    "# locs <- unique(edu[,location_id])\n",
    "# ages <- unique(edu[,age_group_id])\n",
    "# sexs <- unique(edu[,sex_id])\n",
    "\n",
    "edu <- edu[, id := .GRP, by = .(location_id, age_group_id, sex_id)]\n",
    "edu <- setcolorder(edu, c(\"id\", colnames(edu)[1:dim(edu)[2]-1]))\n",
    "\n",
    "## Unique ID var\n",
    "unique<- unique(edu[,id])\n",
    "head(edu)"
   ]
  },
  {
   "cell_type": "markdown",
   "metadata": {},
   "source": [
    "### Use copula on all the data with Spearman = 1"
   ]
  },
  {
   "cell_type": "code",
   "execution_count": 73,
   "metadata": {
    "collapsed": false,
    "scrolled": false
   },
   "outputs": [
    {
     "data": {
      "text/html": [
       "<table>\n",
       "<thead><tr><th scope=col>1950</th><th scope=col>1951</th><th scope=col>1952</th><th scope=col>1953</th><th scope=col>1954</th><th scope=col>1955</th><th scope=col>1956</th><th scope=col>1957</th><th scope=col>1958</th><th scope=col>1959</th><th scope=col>⋯</th><th scope=col>2031</th><th scope=col>2032</th><th scope=col>2033</th><th scope=col>2034</th><th scope=col>2035</th><th scope=col>2036</th><th scope=col>2037</th><th scope=col>2038</th><th scope=col>2039</th><th scope=col>2040</th></tr></thead>\n",
       "<tbody>\n",
       "\t<tr><td>3.257842 </td><td>3.390548 </td><td>3.520781 </td><td>3.643780 </td><td>3.788279 </td><td>3.909383 </td><td>4.059078 </td><td>4.240794 </td><td>4.391472 </td><td>4.559399 </td><td>⋯        </td><td>11.883740</td><td>11.97155 </td><td>12.038046</td><td>12.106941</td><td>12.163648</td><td>12.223369</td><td>12.269799</td><td>12.347869</td><td>12.417393</td><td>12.504811</td></tr>\n",
       "\t<tr><td>5.437501 </td><td>5.562104 </td><td>5.708561 </td><td>5.851417 </td><td>5.998803 </td><td>6.115347 </td><td>6.241912 </td><td>6.358497 </td><td>6.513877 </td><td>6.662712 </td><td>⋯        </td><td>13.715482</td><td>13.81627 </td><td>13.954534</td><td>14.032046</td><td>14.111295</td><td>14.200654</td><td>14.295447</td><td>14.382608</td><td>14.467780</td><td>14.564952</td></tr>\n",
       "\t<tr><td>3.151690 </td><td>3.263616 </td><td>3.402498 </td><td>3.545805 </td><td>3.692283 </td><td>3.835464 </td><td>3.967979 </td><td>4.101882 </td><td>4.254849 </td><td>4.422516 </td><td>⋯        </td><td>11.770790</td><td>11.83054 </td><td>11.911594</td><td>11.974531</td><td>12.036385</td><td>12.105070</td><td>12.171925</td><td>12.227402</td><td>12.283675</td><td>12.341148</td></tr>\n",
       "\t<tr><td>7.666157 </td><td>7.750208 </td><td>7.832157 </td><td>7.959294 </td><td>8.051388 </td><td>8.187833 </td><td>8.334424 </td><td>8.465775 </td><td>8.732138 </td><td>8.762940 </td><td>⋯        </td><td>15.030493</td><td>15.14849 </td><td>15.288745</td><td>15.359190</td><td>15.461716</td><td>15.550453</td><td>15.635890</td><td>15.718701</td><td>15.795828</td><td>15.852173</td></tr>\n",
       "\t<tr><td>1.863376 </td><td>1.928312 </td><td>2.022635 </td><td>2.103857 </td><td>2.203690 </td><td>2.316012 </td><td>2.429992 </td><td>2.539441 </td><td>2.658950 </td><td>2.800168 </td><td>⋯        </td><td> 9.532726</td><td> 9.47913 </td><td> 9.457744</td><td> 9.424406</td><td> 9.472533</td><td> 9.549037</td><td> 9.535574</td><td> 9.524559</td><td> 9.574898</td><td> 9.614353</td></tr>\n",
       "\t<tr><td>3.122339 </td><td>3.240621 </td><td>3.387369 </td><td>3.518082 </td><td>3.639210 </td><td>3.797781 </td><td>3.950234 </td><td>4.079835 </td><td>4.226543 </td><td>4.380017 </td><td>⋯        </td><td>11.726654</td><td>11.80076 </td><td>11.876166</td><td>11.936391</td><td>12.023070</td><td>12.069855</td><td>12.137498</td><td>12.186018</td><td>12.236115</td><td>12.299342</td></tr>\n",
       "</tbody>\n",
       "</table>\n"
      ],
      "text/latex": [
       "\\begin{tabular}{r|lllllllllllllllllllllllllllllllllllllllllllllllllllllllllllllllllllllllllllllllllllllllllll}\n",
       " 1950 & 1951 & 1952 & 1953 & 1954 & 1955 & 1956 & 1957 & 1958 & 1959 & ⋯ & 2031 & 2032 & 2033 & 2034 & 2035 & 2036 & 2037 & 2038 & 2039 & 2040\\\\\n",
       "\\hline\n",
       "\t 3.257842  & 3.390548  & 3.520781  & 3.643780  & 3.788279  & 3.909383  & 4.059078  & 4.240794  & 4.391472  & 4.559399  & ⋯         & 11.883740 & 11.97155  & 12.038046 & 12.106941 & 12.163648 & 12.223369 & 12.269799 & 12.347869 & 12.417393 & 12.504811\\\\\n",
       "\t 5.437501  & 5.562104  & 5.708561  & 5.851417  & 5.998803  & 6.115347  & 6.241912  & 6.358497  & 6.513877  & 6.662712  & ⋯         & 13.715482 & 13.81627  & 13.954534 & 14.032046 & 14.111295 & 14.200654 & 14.295447 & 14.382608 & 14.467780 & 14.564952\\\\\n",
       "\t 3.151690  & 3.263616  & 3.402498  & 3.545805  & 3.692283  & 3.835464  & 3.967979  & 4.101882  & 4.254849  & 4.422516  & ⋯         & 11.770790 & 11.83054  & 11.911594 & 11.974531 & 12.036385 & 12.105070 & 12.171925 & 12.227402 & 12.283675 & 12.341148\\\\\n",
       "\t 7.666157  & 7.750208  & 7.832157  & 7.959294  & 8.051388  & 8.187833  & 8.334424  & 8.465775  & 8.732138  & 8.762940  & ⋯         & 15.030493 & 15.14849  & 15.288745 & 15.359190 & 15.461716 & 15.550453 & 15.635890 & 15.718701 & 15.795828 & 15.852173\\\\\n",
       "\t 1.863376  & 1.928312  & 2.022635  & 2.103857  & 2.203690  & 2.316012  & 2.429992  & 2.539441  & 2.658950  & 2.800168  & ⋯         &  9.532726 &  9.47913  &  9.457744 &  9.424406 &  9.472533 &  9.549037 &  9.535574 &  9.524559 &  9.574898 &  9.614353\\\\\n",
       "\t 3.122339  & 3.240621  & 3.387369  & 3.518082  & 3.639210  & 3.797781  & 3.950234  & 4.079835  & 4.226543  & 4.380017  & ⋯         & 11.726654 & 11.80076  & 11.876166 & 11.936391 & 12.023070 & 12.069855 & 12.137498 & 12.186018 & 12.236115 & 12.299342\\\\\n",
       "\\end{tabular}\n"
      ],
      "text/markdown": [
       "\n",
       "1950 | 1951 | 1952 | 1953 | 1954 | 1955 | 1956 | 1957 | 1958 | 1959 | ⋯ | 2031 | 2032 | 2033 | 2034 | 2035 | 2036 | 2037 | 2038 | 2039 | 2040 | \n",
       "|---|---|---|---|---|---|\n",
       "| 3.257842  | 3.390548  | 3.520781  | 3.643780  | 3.788279  | 3.909383  | 4.059078  | 4.240794  | 4.391472  | 4.559399  | ⋯         | 11.883740 | 11.97155  | 12.038046 | 12.106941 | 12.163648 | 12.223369 | 12.269799 | 12.347869 | 12.417393 | 12.504811 | \n",
       "| 5.437501  | 5.562104  | 5.708561  | 5.851417  | 5.998803  | 6.115347  | 6.241912  | 6.358497  | 6.513877  | 6.662712  | ⋯         | 13.715482 | 13.81627  | 13.954534 | 14.032046 | 14.111295 | 14.200654 | 14.295447 | 14.382608 | 14.467780 | 14.564952 | \n",
       "| 3.151690  | 3.263616  | 3.402498  | 3.545805  | 3.692283  | 3.835464  | 3.967979  | 4.101882  | 4.254849  | 4.422516  | ⋯         | 11.770790 | 11.83054  | 11.911594 | 11.974531 | 12.036385 | 12.105070 | 12.171925 | 12.227402 | 12.283675 | 12.341148 | \n",
       "| 7.666157  | 7.750208  | 7.832157  | 7.959294  | 8.051388  | 8.187833  | 8.334424  | 8.465775  | 8.732138  | 8.762940  | ⋯         | 15.030493 | 15.14849  | 15.288745 | 15.359190 | 15.461716 | 15.550453 | 15.635890 | 15.718701 | 15.795828 | 15.852173 | \n",
       "| 1.863376  | 1.928312  | 2.022635  | 2.103857  | 2.203690  | 2.316012  | 2.429992  | 2.539441  | 2.658950  | 2.800168  | ⋯         |  9.532726 |  9.47913  |  9.457744 |  9.424406 |  9.472533 |  9.549037 |  9.535574 |  9.524559 |  9.574898 |  9.614353 | \n",
       "| 3.122339  | 3.240621  | 3.387369  | 3.518082  | 3.639210  | 3.797781  | 3.950234  | 4.079835  | 4.226543  | 4.380017  | ⋯         | 11.726654 | 11.80076  | 11.876166 | 11.936391 | 12.023070 | 12.069855 | 12.137498 | 12.186018 | 12.236115 | 12.299342 | \n",
       "\n",
       "\n"
      ],
      "text/plain": [
       "  1950     1951     1952     1953     1954     1955     1956     1957    \n",
       "1 3.257842 3.390548 3.520781 3.643780 3.788279 3.909383 4.059078 4.240794\n",
       "2 5.437501 5.562104 5.708561 5.851417 5.998803 6.115347 6.241912 6.358497\n",
       "3 3.151690 3.263616 3.402498 3.545805 3.692283 3.835464 3.967979 4.101882\n",
       "4 7.666157 7.750208 7.832157 7.959294 8.051388 8.187833 8.334424 8.465775\n",
       "5 1.863376 1.928312 2.022635 2.103857 2.203690 2.316012 2.429992 2.539441\n",
       "6 3.122339 3.240621 3.387369 3.518082 3.639210 3.797781 3.950234 4.079835\n",
       "  1958     1959     ⋯ 2031      2032     2033      2034      2035     \n",
       "1 4.391472 4.559399 ⋯ 11.883740 11.97155 12.038046 12.106941 12.163648\n",
       "2 6.513877 6.662712 ⋯ 13.715482 13.81627 13.954534 14.032046 14.111295\n",
       "3 4.254849 4.422516 ⋯ 11.770790 11.83054 11.911594 11.974531 12.036385\n",
       "4 8.732138 8.762940 ⋯ 15.030493 15.14849 15.288745 15.359190 15.461716\n",
       "5 2.658950 2.800168 ⋯  9.532726  9.47913  9.457744  9.424406  9.472533\n",
       "6 4.226543 4.380017 ⋯ 11.726654 11.80076 11.876166 11.936391 12.023070\n",
       "  2036      2037      2038      2039      2040     \n",
       "1 12.223369 12.269799 12.347869 12.417393 12.504811\n",
       "2 14.200654 14.295447 14.382608 14.467780 14.564952\n",
       "3 12.105070 12.171925 12.227402 12.283675 12.341148\n",
       "4 15.550453 15.635890 15.718701 15.795828 15.852173\n",
       "5  9.549037  9.535574  9.524559  9.574898  9.614353\n",
       "6 12.069855 12.137498 12.186018 12.236115 12.299342"
      ]
     },
     "metadata": {},
     "output_type": "display_data"
    },
    {
     "name": "stdout",
     "output_type": "stream",
     "text": [
      "Time difference of 28.06799 mins\n"
     ]
    }
   ],
   "source": [
    "Start<- Sys.time()\n",
    "tempx <-data.table(foreach(i = unique , .combine = 'rbind') %dopar% rank_time_series(edu[id==i, 6:96], corr = 1, ts = F,print=F))\n",
    "colnames(tempx) <- paste0(c(1950:2040))\n",
    "# head(tempx)\n",
    "print(Sys.time()-Start)"
   ]
  },
  {
   "cell_type": "code",
   "execution_count": 74,
   "metadata": {
    "collapsed": false
   },
   "outputs": [
    {
     "data": {
      "text/plain": [
       "[1] \"2017-01-28 14:58:43 PST\""
      ]
     },
     "metadata": {},
     "output_type": "display_data"
    },
    {
     "data": {
      "text/plain": [
       "[1] \"2017-01-28 14:58:47 PST\""
      ]
     },
     "metadata": {},
     "output_type": "display_data"
    }
   ],
   "source": [
    "Sys.time()\n",
    "el_bindo <- cbind(edu[, .(id, location_id, age_group_id, sex_id, variable)], tempx)\n",
    "el_bindo <- el_bindo[, id:=NULL]\n",
    "Sys.time()"
   ]
  },
  {
   "cell_type": "markdown",
   "metadata": {},
   "source": [
    "### Save out to reshape wide in Pandas"
   ]
  },
  {
   "cell_type": "code",
   "execution_count": null,
   "metadata": {
    "collapsed": false
   },
   "outputs": [],
   "source": [
    "fwrite(el_bindo, \"/home/j/WORK/01_covariates/02_inputs/education/update_2017/data/output_data/20161121_GBD2016prelim_95+_raked_2/intermediate/gpr_draws_wide_by_years_sorted.csv\")"
   ]
  },
  {
   "cell_type": "markdown",
   "metadata": {},
   "source": [
    "### Try in here first?"
   ]
  },
  {
   "cell_type": "code",
   "execution_count": 77,
   "metadata": {
    "collapsed": false
   },
   "outputs": [],
   "source": [
    "blank2_melt <- melt(el_bindo, id.vars = c(\"location_id\", \"age_group_id\", \"sex_id\", \"variable\"), variable.name = \"year_id\", value.name = \"data\")"
   ]
  },
  {
   "cell_type": "code",
   "execution_count": 79,
   "metadata": {
    "collapsed": false
   },
   "outputs": [
    {
     "name": "stderr",
     "output_type": "stream",
     "text": [
      "Using data as value column: use value.var to override.\n"
     ]
    },
    {
     "name": "stdout",
     "output_type": "stream",
     "text": [
      "Time difference of 10.24608 mins\n"
     ]
    }
   ],
   "source": [
    "Start <- Sys.time()\n",
    "blank2_cast <- dcast(blank2_melt, location_id + age_group_id + sex_id + year_id ~ variable )\n",
    "print(Sys.time() - Start)"
   ]
  },
  {
   "cell_type": "code",
   "execution_count": 81,
   "metadata": {
    "collapsed": false,
    "scrolled": true
   },
   "outputs": [
    {
     "data": {
      "text/html": [
       "<table>\n",
       "<thead><tr><th scope=col>location_id</th><th scope=col>age_group_id</th><th scope=col>sex_id</th><th scope=col>year_id</th><th scope=col>draw0</th><th scope=col>draw1</th><th scope=col>draw10</th><th scope=col>draw100</th><th scope=col>draw101</th><th scope=col>draw102</th><th scope=col>⋯</th><th scope=col>draw990</th><th scope=col>draw991</th><th scope=col>draw992</th><th scope=col>draw993</th><th scope=col>draw994</th><th scope=col>draw995</th><th scope=col>draw996</th><th scope=col>draw997</th><th scope=col>draw998</th><th scope=col>draw999</th></tr></thead>\n",
       "<tbody>\n",
       "\t<tr><td>6       </td><td>8       </td><td>1       </td><td>1950    </td><td>3.257842</td><td>5.437501</td><td>2.513109</td><td>3.685016</td><td>4.408052</td><td>4.262174</td><td>⋯       </td><td>6.773038</td><td>4.947084</td><td>2.547622</td><td>5.358931</td><td>3.534418</td><td>1.884700</td><td>3.853974</td><td>7.299674</td><td>4.724487</td><td>11.60851</td></tr>\n",
       "\t<tr><td>6       </td><td>8       </td><td>1       </td><td>1951    </td><td>3.390548</td><td>5.562104</td><td>2.647629</td><td>3.824688</td><td>4.521345</td><td>4.416285</td><td>⋯       </td><td>6.886386</td><td>5.080068</td><td>2.680469</td><td>5.467550</td><td>3.679010</td><td>1.991216</td><td>3.969894</td><td>7.417908</td><td>4.805875</td><td>11.64631</td></tr>\n",
       "\t<tr><td>6       </td><td>8       </td><td>1       </td><td>1952    </td><td>3.520781</td><td>5.708561</td><td>2.749598</td><td>3.934128</td><td>4.676883</td><td>4.534475</td><td>⋯       </td><td>7.017713</td><td>5.231352</td><td>2.800236</td><td>5.621149</td><td>3.812673</td><td>2.083651</td><td>4.107590</td><td>7.580773</td><td>4.929192</td><td>11.66306</td></tr>\n",
       "\t<tr><td>6       </td><td>8       </td><td>1       </td><td>1953    </td><td>3.643780</td><td>5.851417</td><td>2.860612</td><td>4.063825</td><td>4.805242</td><td>4.656573</td><td>⋯       </td><td>7.133385</td><td>5.385191</td><td>2.928341</td><td>5.763801</td><td>3.973355</td><td>2.182793</td><td>4.239279</td><td>7.737209</td><td>5.080461</td><td>11.65999</td></tr>\n",
       "\t<tr><td>6       </td><td>8       </td><td>1       </td><td>1954    </td><td>3.788279</td><td>5.998803</td><td>2.973653</td><td>4.230364</td><td>4.925693</td><td>4.784819</td><td>⋯       </td><td>7.257398</td><td>5.496507</td><td>3.014197</td><td>5.910079</td><td>4.131252</td><td>2.267882</td><td>4.406038</td><td>7.874478</td><td>5.233688</td><td>11.63845</td></tr>\n",
       "\t<tr><td>6       </td><td>8       </td><td>1       </td><td>1955    </td><td>3.909383</td><td>6.115347</td><td>3.080803</td><td>4.406265</td><td>5.059170</td><td>4.901445</td><td>⋯       </td><td>7.415128</td><td>5.610584</td><td>3.134932</td><td>6.046451</td><td>4.268343</td><td>2.367576</td><td>4.544663</td><td>8.025699</td><td>5.368539</td><td>11.59986</td></tr>\n",
       "</tbody>\n",
       "</table>\n"
      ],
      "text/latex": [
       "\\begin{tabular}{r|llllllllllllllllllllllllllllllllllllllllllllllllllllllllllllllllllllllllllllllllllllllllllllllllllllllllllllllllllllllllllllllllllllllllllllllllllllllllllllllllllllllllllllllllllllllllllllllllllllllllllllllllllllllllllllllllllllllllllllllllllllllllllllllllllllllllllllllllllllllllllllllllllllllllllllllllllllllllllllllllllllllllllllllllllllllllllllllllllllllllllllllllllllllllllllllllllllllllllllllllllllllllllllllllllllllllllllllllllllllllllllllllllllllllllllllllllllllllllllllllllllllllllllllllllllllllllllllllllllllllllllllllllllllllllllllllllllllllllllllllllllllllllllllllllllllllllllllllllllllllllllllllllllllllllllllllllllllllllllllllllllllllllllllllllllllllllllllllllllllllllllllllllllllllllllllllllllllllllllllllllllllllllllllllllllllllllllllllllllllllllllllllllllllllllllllllllllllllllllllllllllllllllllllllllllllllllllllllllllllllllllllllllllllllllllllllllllllllllllllllllllllllllllllllllllllllllllllllllllllllllllllllllllllllllllllllllllllllllllllllllllllllllllllllllllllllllllllllllllllllllll}\n",
       " location\\_id & age\\_group\\_id & sex\\_id & year\\_id & draw0 & draw1 & draw10 & draw100 & draw101 & draw102 & ⋯ & draw990 & draw991 & draw992 & draw993 & draw994 & draw995 & draw996 & draw997 & draw998 & draw999\\\\\n",
       "\\hline\n",
       "\t 6        & 8        & 1        & 1950     & 3.257842 & 5.437501 & 2.513109 & 3.685016 & 4.408052 & 4.262174 & ⋯        & 6.773038 & 4.947084 & 2.547622 & 5.358931 & 3.534418 & 1.884700 & 3.853974 & 7.299674 & 4.724487 & 11.60851\\\\\n",
       "\t 6        & 8        & 1        & 1951     & 3.390548 & 5.562104 & 2.647629 & 3.824688 & 4.521345 & 4.416285 & ⋯        & 6.886386 & 5.080068 & 2.680469 & 5.467550 & 3.679010 & 1.991216 & 3.969894 & 7.417908 & 4.805875 & 11.64631\\\\\n",
       "\t 6        & 8        & 1        & 1952     & 3.520781 & 5.708561 & 2.749598 & 3.934128 & 4.676883 & 4.534475 & ⋯        & 7.017713 & 5.231352 & 2.800236 & 5.621149 & 3.812673 & 2.083651 & 4.107590 & 7.580773 & 4.929192 & 11.66306\\\\\n",
       "\t 6        & 8        & 1        & 1953     & 3.643780 & 5.851417 & 2.860612 & 4.063825 & 4.805242 & 4.656573 & ⋯        & 7.133385 & 5.385191 & 2.928341 & 5.763801 & 3.973355 & 2.182793 & 4.239279 & 7.737209 & 5.080461 & 11.65999\\\\\n",
       "\t 6        & 8        & 1        & 1954     & 3.788279 & 5.998803 & 2.973653 & 4.230364 & 4.925693 & 4.784819 & ⋯        & 7.257398 & 5.496507 & 3.014197 & 5.910079 & 4.131252 & 2.267882 & 4.406038 & 7.874478 & 5.233688 & 11.63845\\\\\n",
       "\t 6        & 8        & 1        & 1955     & 3.909383 & 6.115347 & 3.080803 & 4.406265 & 5.059170 & 4.901445 & ⋯        & 7.415128 & 5.610584 & 3.134932 & 6.046451 & 4.268343 & 2.367576 & 4.544663 & 8.025699 & 5.368539 & 11.59986\\\\\n",
       "\\end{tabular}\n"
      ],
      "text/markdown": [
       "\n",
       "location_id | age_group_id | sex_id | year_id | draw0 | draw1 | draw10 | draw100 | draw101 | draw102 | ⋯ | draw990 | draw991 | draw992 | draw993 | draw994 | draw995 | draw996 | draw997 | draw998 | draw999 | \n",
       "|---|---|---|---|---|---|\n",
       "| 6        | 8        | 1        | 1950     | 3.257842 | 5.437501 | 2.513109 | 3.685016 | 4.408052 | 4.262174 | ⋯        | 6.773038 | 4.947084 | 2.547622 | 5.358931 | 3.534418 | 1.884700 | 3.853974 | 7.299674 | 4.724487 | 11.60851 | \n",
       "| 6        | 8        | 1        | 1951     | 3.390548 | 5.562104 | 2.647629 | 3.824688 | 4.521345 | 4.416285 | ⋯        | 6.886386 | 5.080068 | 2.680469 | 5.467550 | 3.679010 | 1.991216 | 3.969894 | 7.417908 | 4.805875 | 11.64631 | \n",
       "| 6        | 8        | 1        | 1952     | 3.520781 | 5.708561 | 2.749598 | 3.934128 | 4.676883 | 4.534475 | ⋯        | 7.017713 | 5.231352 | 2.800236 | 5.621149 | 3.812673 | 2.083651 | 4.107590 | 7.580773 | 4.929192 | 11.66306 | \n",
       "| 6        | 8        | 1        | 1953     | 3.643780 | 5.851417 | 2.860612 | 4.063825 | 4.805242 | 4.656573 | ⋯        | 7.133385 | 5.385191 | 2.928341 | 5.763801 | 3.973355 | 2.182793 | 4.239279 | 7.737209 | 5.080461 | 11.65999 | \n",
       "| 6        | 8        | 1        | 1954     | 3.788279 | 5.998803 | 2.973653 | 4.230364 | 4.925693 | 4.784819 | ⋯        | 7.257398 | 5.496507 | 3.014197 | 5.910079 | 4.131252 | 2.267882 | 4.406038 | 7.874478 | 5.233688 | 11.63845 | \n",
       "| 6        | 8        | 1        | 1955     | 3.909383 | 6.115347 | 3.080803 | 4.406265 | 5.059170 | 4.901445 | ⋯        | 7.415128 | 5.610584 | 3.134932 | 6.046451 | 4.268343 | 2.367576 | 4.544663 | 8.025699 | 5.368539 | 11.59986 | \n",
       "\n",
       "\n"
      ],
      "text/plain": [
       "  location_id age_group_id sex_id year_id draw0    draw1    draw10   draw100 \n",
       "1 6           8            1      1950    3.257842 5.437501 2.513109 3.685016\n",
       "2 6           8            1      1951    3.390548 5.562104 2.647629 3.824688\n",
       "3 6           8            1      1952    3.520781 5.708561 2.749598 3.934128\n",
       "4 6           8            1      1953    3.643780 5.851417 2.860612 4.063825\n",
       "5 6           8            1      1954    3.788279 5.998803 2.973653 4.230364\n",
       "6 6           8            1      1955    3.909383 6.115347 3.080803 4.406265\n",
       "  draw101  draw102  ⋯ draw990  draw991  draw992  draw993  draw994  draw995 \n",
       "1 4.408052 4.262174 ⋯ 6.773038 4.947084 2.547622 5.358931 3.534418 1.884700\n",
       "2 4.521345 4.416285 ⋯ 6.886386 5.080068 2.680469 5.467550 3.679010 1.991216\n",
       "3 4.676883 4.534475 ⋯ 7.017713 5.231352 2.800236 5.621149 3.812673 2.083651\n",
       "4 4.805242 4.656573 ⋯ 7.133385 5.385191 2.928341 5.763801 3.973355 2.182793\n",
       "5 4.925693 4.784819 ⋯ 7.257398 5.496507 3.014197 5.910079 4.131252 2.267882\n",
       "6 5.059170 4.901445 ⋯ 7.415128 5.610584 3.134932 6.046451 4.268343 2.367576\n",
       "  draw996  draw997  draw998  draw999 \n",
       "1 3.853974 7.299674 4.724487 11.60851\n",
       "2 3.969894 7.417908 4.805875 11.64631\n",
       "3 4.107590 7.580773 4.929192 11.66306\n",
       "4 4.239279 7.737209 5.080461 11.65999\n",
       "5 4.406038 7.874478 5.233688 11.63845\n",
       "6 4.544663 8.025699 5.368539 11.59986"
      ]
     },
     "metadata": {},
     "output_type": "display_data"
    }
   ],
   "source": [
    "head(blank2_cast)"
   ]
  },
  {
   "cell_type": "code",
   "execution_count": 82,
   "metadata": {
    "collapsed": false
   },
   "outputs": [
    {
     "name": "stdout",
     "output_type": "stream",
     "text": [
      "\r",
      "Written 1.0% of 496860 rows in 2 secs using 40 threads. anyBufferGrown=no; maxBuffUsed=44%. Finished in 206 secs.      \r",
      "Written 3.1% of 496860 rows in 3 secs using 40 threads. anyBufferGrown=no; maxBuffUsed=45%. Finished in 93 secs.      \r",
      "Written 7.4% of 496860 rows in 4 secs using 40 threads. anyBufferGrown=no; maxBuffUsed=45%. Finished in 50 secs.      \r",
      "Written 11.6% of 496860 rows in 5 secs using 40 threads. anyBufferGrown=no; maxBuffUsed=45%. Finished in 38 secs.      \r",
      "Written 15.9% of 496860 rows in 6 secs using 40 threads. anyBufferGrown=no; maxBuffUsed=45%. Finished in 31 secs.      \r",
      "Written 18.0% of 496860 rows in 7 secs using 40 threads. anyBufferGrown=no; maxBuffUsed=45%. Finished in 31 secs.      \r",
      "Written 22.3% of 496860 rows in 8 secs using 40 threads. anyBufferGrown=no; maxBuffUsed=45%. Finished in 27 secs.      \r",
      "Written 26.6% of 496860 rows in 9 secs using 40 threads. anyBufferGrown=no; maxBuffUsed=45%. Finished in 24 secs.      \r",
      "Written 30.8% of 496860 rows in 10 secs using 40 threads. anyBufferGrown=no; maxBuffUsed=45%. Finished in 22 secs.      \r",
      "Written 35.1% of 496860 rows in 11 secs using 40 threads. anyBufferGrown=no; maxBuffUsed=45%. Finished in 20 secs.      \r",
      "Written 37.2% of 496860 rows in 12 secs using 40 threads. anyBufferGrown=no; maxBuffUsed=45%. Finished in 20 secs.      \r",
      "Written 41.5% of 496860 rows in 13 secs using 40 threads. anyBufferGrown=no; maxBuffUsed=45%. Finished in 18 secs.      \r",
      "Written 45.8% of 496860 rows in 14 secs using 40 threads. anyBufferGrown=no; maxBuffUsed=45%. Finished in 16 secs.      \r",
      "Written 50.0% of 496860 rows in 15 secs using 40 threads. anyBufferGrown=no; maxBuffUsed=45%. Finished in 14 secs.      \r",
      "Written 54.3% of 496860 rows in 16 secs using 40 threads. anyBufferGrown=no; maxBuffUsed=45%. Finished in 13 secs.      \r",
      "Written 56.4% of 496860 rows in 17 secs using 40 threads. anyBufferGrown=no; maxBuffUsed=45%. Finished in 13 secs.      \r",
      "Written 60.7% of 496860 rows in 18 secs using 40 threads. anyBufferGrown=no; maxBuffUsed=45%. Finished in 11 secs.      \r",
      "Written 65.0% of 496860 rows in 20 secs using 40 threads. anyBufferGrown=no; maxBuffUsed=46%. Finished in 10 secs.      \r",
      "Written 67.1% of 496860 rows in 21 secs using 40 threads. anyBufferGrown=no; maxBuffUsed=46%. Finished in 10 secs.      \r",
      "Written 71.4% of 496860 rows in 22 secs using 40 threads. anyBufferGrown=no; maxBuffUsed=47%. Finished in 8 secs.      \r",
      "Written 75.6% of 496860 rows in 23 secs using 40 threads. anyBufferGrown=no; maxBuffUsed=47%. Finished in 7 secs.      \r",
      "Written 77.8% of 496860 rows in 24 secs using 40 threads. anyBufferGrown=no; maxBuffUsed=47%. Finished in 6 secs.      \r",
      "Written 82.0% of 496860 rows in 26 secs using 40 threads. anyBufferGrown=no; maxBuffUsed=47%. Finished in 5 secs.      \r",
      "Written 84.2% of 496860 rows in 27 secs using 40 threads. anyBufferGrown=no; maxBuffUsed=47%. Finished in 5 secs.      \r",
      "Written 88.4% of 496860 rows in 28 secs using 40 threads. anyBufferGrown=no; maxBuffUsed=48%. Finished in 3 secs.      \r",
      "Written 92.7% of 496860 rows in 29 secs using 40 threads. anyBufferGrown=no; maxBuffUsed=48%. Finished in 2 secs.      \r",
      "Written 97.0% of 496860 rows in 30 secs using 40 threads. anyBufferGrown=no; maxBuffUsed=48%. Finished in 0 secs.      \r",
      "                                                                                                                                     \r"
     ]
    }
   ],
   "source": [
    "fwrite(blank2_cast, \"/home/j/WORK/01_covariates/02_inputs/education/update_2017/data/output_data/20161121_GBD2016prelim_95+_raked_2/gpr_draws_country_year_age_sex_post_copula.csv\")"
   ]
  },
  {
   "cell_type": "markdown",
   "metadata": {},
   "source": [
    "### Collapse to year and country only"
   ]
  },
  {
   "cell_type": "code",
   "execution_count": 83,
   "metadata": {
    "collapsed": false
   },
   "outputs": [],
   "source": [
    "edu2 <- merge(blank2_cast, pop, by = c(\"location_id\", \"year_id\", \"age_group_id\", \"sex_id\"))"
   ]
  },
  {
   "cell_type": "code",
   "execution_count": 84,
   "metadata": {
    "collapsed": false,
    "scrolled": true
   },
   "outputs": [
    {
     "data": {
      "text/html": [
       "<table>\n",
       "<thead><tr><th scope=col>location_id</th><th scope=col>year_id</th><th scope=col>draw0</th><th scope=col>draw1</th><th scope=col>draw2</th><th scope=col>draw3</th><th scope=col>draw4</th><th scope=col>draw5</th><th scope=col>draw6</th><th scope=col>draw7</th><th scope=col>⋯</th><th scope=col>draw990</th><th scope=col>draw991</th><th scope=col>draw992</th><th scope=col>draw993</th><th scope=col>draw994</th><th scope=col>draw995</th><th scope=col>draw996</th><th scope=col>draw997</th><th scope=col>draw998</th><th scope=col>draw999</th></tr></thead>\n",
       "<tbody>\n",
       "\t<tr><td>10      </td><td>1950    </td><td>1.747954</td><td>1.778849</td><td>1.797826</td><td>1.676938</td><td>1.553651</td><td>1.856006</td><td>1.388680</td><td>1.402455</td><td>⋯       </td><td>2.078309</td><td>1.409418</td><td>1.802613</td><td>1.687683</td><td>1.897167</td><td>1.766918</td><td>1.772139</td><td>1.774524</td><td>1.522151</td><td>1.393033</td></tr>\n",
       "\t<tr><td>10      </td><td>1951    </td><td>1.773521</td><td>1.808386</td><td>1.828858</td><td>1.702910</td><td>1.587144</td><td>1.884090</td><td>1.418387</td><td>1.426755</td><td>⋯       </td><td>2.108773</td><td>1.442241</td><td>1.827847</td><td>1.717511</td><td>1.934726</td><td>1.802392</td><td>1.804692</td><td>1.802341</td><td>1.552032</td><td>1.423956</td></tr>\n",
       "\t<tr><td>10      </td><td>1952    </td><td>1.804439</td><td>1.838140</td><td>1.862759</td><td>1.732470</td><td>1.624615</td><td>1.909133</td><td>1.447499</td><td>1.453348</td><td>⋯       </td><td>2.157524</td><td>1.473800</td><td>1.861630</td><td>1.747652</td><td>1.967994</td><td>1.834619</td><td>1.837122</td><td>1.833001</td><td>1.580961</td><td>1.457321</td></tr>\n",
       "\t<tr><td>10      </td><td>1953    </td><td>1.834183</td><td>1.868393</td><td>1.891366</td><td>1.764041</td><td>1.654839</td><td>1.936369</td><td>1.475651</td><td>1.480071</td><td>⋯       </td><td>2.192936</td><td>1.508563</td><td>1.894210</td><td>1.776561</td><td>2.004377</td><td>1.863849</td><td>1.872104</td><td>1.866471</td><td>1.613674</td><td>1.492473</td></tr>\n",
       "\t<tr><td>10      </td><td>1954    </td><td>1.867477</td><td>1.899370</td><td>1.923786</td><td>1.803405</td><td>1.687248</td><td>1.981079</td><td>1.507094</td><td>1.512784</td><td>⋯       </td><td>2.210855</td><td>1.544202</td><td>1.931476</td><td>1.809469</td><td>2.043258</td><td>1.898874</td><td>1.910405</td><td>1.903951</td><td>1.651653</td><td>1.530006</td></tr>\n",
       "\t<tr><td>10      </td><td>1955    </td><td>1.903475</td><td>1.933966</td><td>1.961608</td><td>1.832743</td><td>1.725020</td><td>2.010999</td><td>1.537940</td><td>1.545754</td><td>⋯       </td><td>2.250129</td><td>1.578653</td><td>1.962877</td><td>1.845211</td><td>2.080186</td><td>1.937068</td><td>1.946695</td><td>1.937738</td><td>1.687500</td><td>1.565150</td></tr>\n",
       "</tbody>\n",
       "</table>\n"
      ],
      "text/latex": [
       "\\begin{tabular}{r|llllllllllllllllllllllllllllllllllllllllllllllllllllllllllllllllllllllllllllllllllllllllllllllllllllllllllllllllllllllllllllllllllllllllllllllllllllllllllllllllllllllllllllllllllllllllllllllllllllllllllllllllllllllllllllllllllllllllllllllllllllllllllllllllllllllllllllllllllllllllllllllllllllllllllllllllllllllllllllllllllllllllllllllllllllllllllllllllllllllllllllllllllllllllllllllllllllllllllllllllllllllllllllllllllllllllllllllllllllllllllllllllllllllllllllllllllllllllllllllllllllllllllllllllllllllllllllllllllllllllllllllllllllllllllllllllllllllllllllllllllllllllllllllllllllllllllllllllllllllllllllllllllllllllllllllllllllllllllllllllllllllllllllllllllllllllllllllllllllllllllllllllllllllllllllllllllllllllllllllllllllllllllllllllllllllllllllllllllllllllllllllllllllllllllllllllllllllllllllllllllllllllllllllllllllllllllllllllllllllllllllllllllllllllllllllllllllllllllllllllllllllllllllllllllllllllllllllllllllllllllllllllllllllllllllllllllllllllllllllllllllllllllllllllllllllllllllllllllllllllll}\n",
       " location\\_id & year\\_id & draw0 & draw1 & draw2 & draw3 & draw4 & draw5 & draw6 & draw7 & ⋯ & draw990 & draw991 & draw992 & draw993 & draw994 & draw995 & draw996 & draw997 & draw998 & draw999\\\\\n",
       "\\hline\n",
       "\t 10       & 1950     & 1.747954 & 1.778849 & 1.797826 & 1.676938 & 1.553651 & 1.856006 & 1.388680 & 1.402455 & ⋯        & 2.078309 & 1.409418 & 1.802613 & 1.687683 & 1.897167 & 1.766918 & 1.772139 & 1.774524 & 1.522151 & 1.393033\\\\\n",
       "\t 10       & 1951     & 1.773521 & 1.808386 & 1.828858 & 1.702910 & 1.587144 & 1.884090 & 1.418387 & 1.426755 & ⋯        & 2.108773 & 1.442241 & 1.827847 & 1.717511 & 1.934726 & 1.802392 & 1.804692 & 1.802341 & 1.552032 & 1.423956\\\\\n",
       "\t 10       & 1952     & 1.804439 & 1.838140 & 1.862759 & 1.732470 & 1.624615 & 1.909133 & 1.447499 & 1.453348 & ⋯        & 2.157524 & 1.473800 & 1.861630 & 1.747652 & 1.967994 & 1.834619 & 1.837122 & 1.833001 & 1.580961 & 1.457321\\\\\n",
       "\t 10       & 1953     & 1.834183 & 1.868393 & 1.891366 & 1.764041 & 1.654839 & 1.936369 & 1.475651 & 1.480071 & ⋯        & 2.192936 & 1.508563 & 1.894210 & 1.776561 & 2.004377 & 1.863849 & 1.872104 & 1.866471 & 1.613674 & 1.492473\\\\\n",
       "\t 10       & 1954     & 1.867477 & 1.899370 & 1.923786 & 1.803405 & 1.687248 & 1.981079 & 1.507094 & 1.512784 & ⋯        & 2.210855 & 1.544202 & 1.931476 & 1.809469 & 2.043258 & 1.898874 & 1.910405 & 1.903951 & 1.651653 & 1.530006\\\\\n",
       "\t 10       & 1955     & 1.903475 & 1.933966 & 1.961608 & 1.832743 & 1.725020 & 2.010999 & 1.537940 & 1.545754 & ⋯        & 2.250129 & 1.578653 & 1.962877 & 1.845211 & 2.080186 & 1.937068 & 1.946695 & 1.937738 & 1.687500 & 1.565150\\\\\n",
       "\\end{tabular}\n"
      ],
      "text/markdown": [
       "\n",
       "location_id | year_id | draw0 | draw1 | draw2 | draw3 | draw4 | draw5 | draw6 | draw7 | ⋯ | draw990 | draw991 | draw992 | draw993 | draw994 | draw995 | draw996 | draw997 | draw998 | draw999 | \n",
       "|---|---|---|---|---|---|\n",
       "| 10       | 1950     | 1.747954 | 1.778849 | 1.797826 | 1.676938 | 1.553651 | 1.856006 | 1.388680 | 1.402455 | ⋯        | 2.078309 | 1.409418 | 1.802613 | 1.687683 | 1.897167 | 1.766918 | 1.772139 | 1.774524 | 1.522151 | 1.393033 | \n",
       "| 10       | 1951     | 1.773521 | 1.808386 | 1.828858 | 1.702910 | 1.587144 | 1.884090 | 1.418387 | 1.426755 | ⋯        | 2.108773 | 1.442241 | 1.827847 | 1.717511 | 1.934726 | 1.802392 | 1.804692 | 1.802341 | 1.552032 | 1.423956 | \n",
       "| 10       | 1952     | 1.804439 | 1.838140 | 1.862759 | 1.732470 | 1.624615 | 1.909133 | 1.447499 | 1.453348 | ⋯        | 2.157524 | 1.473800 | 1.861630 | 1.747652 | 1.967994 | 1.834619 | 1.837122 | 1.833001 | 1.580961 | 1.457321 | \n",
       "| 10       | 1953     | 1.834183 | 1.868393 | 1.891366 | 1.764041 | 1.654839 | 1.936369 | 1.475651 | 1.480071 | ⋯        | 2.192936 | 1.508563 | 1.894210 | 1.776561 | 2.004377 | 1.863849 | 1.872104 | 1.866471 | 1.613674 | 1.492473 | \n",
       "| 10       | 1954     | 1.867477 | 1.899370 | 1.923786 | 1.803405 | 1.687248 | 1.981079 | 1.507094 | 1.512784 | ⋯        | 2.210855 | 1.544202 | 1.931476 | 1.809469 | 2.043258 | 1.898874 | 1.910405 | 1.903951 | 1.651653 | 1.530006 | \n",
       "| 10       | 1955     | 1.903475 | 1.933966 | 1.961608 | 1.832743 | 1.725020 | 2.010999 | 1.537940 | 1.545754 | ⋯        | 2.250129 | 1.578653 | 1.962877 | 1.845211 | 2.080186 | 1.937068 | 1.946695 | 1.937738 | 1.687500 | 1.565150 | \n",
       "\n",
       "\n"
      ],
      "text/plain": [
       "  location_id year_id draw0    draw1    draw2    draw3    draw4    draw5   \n",
       "1 10          1950    1.747954 1.778849 1.797826 1.676938 1.553651 1.856006\n",
       "2 10          1951    1.773521 1.808386 1.828858 1.702910 1.587144 1.884090\n",
       "3 10          1952    1.804439 1.838140 1.862759 1.732470 1.624615 1.909133\n",
       "4 10          1953    1.834183 1.868393 1.891366 1.764041 1.654839 1.936369\n",
       "5 10          1954    1.867477 1.899370 1.923786 1.803405 1.687248 1.981079\n",
       "6 10          1955    1.903475 1.933966 1.961608 1.832743 1.725020 2.010999\n",
       "  draw6    draw7    ⋯ draw990  draw991  draw992  draw993  draw994  draw995 \n",
       "1 1.388680 1.402455 ⋯ 2.078309 1.409418 1.802613 1.687683 1.897167 1.766918\n",
       "2 1.418387 1.426755 ⋯ 2.108773 1.442241 1.827847 1.717511 1.934726 1.802392\n",
       "3 1.447499 1.453348 ⋯ 2.157524 1.473800 1.861630 1.747652 1.967994 1.834619\n",
       "4 1.475651 1.480071 ⋯ 2.192936 1.508563 1.894210 1.776561 2.004377 1.863849\n",
       "5 1.507094 1.512784 ⋯ 2.210855 1.544202 1.931476 1.809469 2.043258 1.898874\n",
       "6 1.537940 1.545754 ⋯ 2.250129 1.578653 1.962877 1.845211 2.080186 1.937068\n",
       "  draw996  draw997  draw998  draw999 \n",
       "1 1.772139 1.774524 1.522151 1.393033\n",
       "2 1.804692 1.802341 1.552032 1.423956\n",
       "3 1.837122 1.833001 1.580961 1.457321\n",
       "4 1.872104 1.866471 1.613674 1.492473\n",
       "5 1.910405 1.903951 1.651653 1.530006\n",
       "6 1.946695 1.937738 1.687500 1.565150"
      ]
     },
     "metadata": {},
     "output_type": "display_data"
    }
   ],
   "source": [
    "edu4<-data.table(edu2)[, lapply(.SD, function(x) sum(x*pop)/sum(pop)), \n",
    "    by=c(\"location_id\", \"year_id\"), .SDcols=cbind(paste0(\"draw\",c(0:999))) ] \n",
    "head(edu4)"
   ]
  },
  {
   "cell_type": "markdown",
   "metadata": {},
   "source": [
    "### Copula this one?"
   ]
  },
  {
   "cell_type": "code",
   "execution_count": 180,
   "metadata": {
    "collapsed": false
   },
   "outputs": [
    {
     "data": {
      "text/html": [
       "<table>\n",
       "<thead><tr><th scope=col>location_id</th><th scope=col>year_id</th><th scope=col>draw0</th><th scope=col>draw1</th><th scope=col>draw2</th><th scope=col>draw3</th><th scope=col>draw4</th><th scope=col>draw5</th><th scope=col>draw6</th><th scope=col>draw7</th><th scope=col>⋯</th><th scope=col>draw990</th><th scope=col>draw991</th><th scope=col>draw992</th><th scope=col>draw993</th><th scope=col>draw994</th><th scope=col>draw995</th><th scope=col>draw996</th><th scope=col>draw997</th><th scope=col>draw998</th><th scope=col>draw999</th></tr></thead>\n",
       "<tbody>\n",
       "\t<tr><td>10      </td><td>1950    </td><td>1.747954</td><td>1.778849</td><td>1.797826</td><td>1.676938</td><td>1.553651</td><td>1.856006</td><td>1.388680</td><td>1.402455</td><td>⋯       </td><td>2.078309</td><td>1.409418</td><td>1.802613</td><td>1.687683</td><td>1.897167</td><td>1.766918</td><td>1.772139</td><td>1.774524</td><td>1.522151</td><td>1.393033</td></tr>\n",
       "\t<tr><td>10      </td><td>1951    </td><td>1.773521</td><td>1.808386</td><td>1.828858</td><td>1.702910</td><td>1.587144</td><td>1.884090</td><td>1.418387</td><td>1.426755</td><td>⋯       </td><td>2.108773</td><td>1.442241</td><td>1.827847</td><td>1.717511</td><td>1.934726</td><td>1.802392</td><td>1.804692</td><td>1.802341</td><td>1.552032</td><td>1.423956</td></tr>\n",
       "\t<tr><td>10      </td><td>1952    </td><td>1.804439</td><td>1.838140</td><td>1.862759</td><td>1.732470</td><td>1.624615</td><td>1.909133</td><td>1.447499</td><td>1.453348</td><td>⋯       </td><td>2.157524</td><td>1.473800</td><td>1.861630</td><td>1.747652</td><td>1.967994</td><td>1.834619</td><td>1.837122</td><td>1.833001</td><td>1.580961</td><td>1.457321</td></tr>\n",
       "\t<tr><td>10      </td><td>1953    </td><td>1.834183</td><td>1.868393</td><td>1.891366</td><td>1.764041</td><td>1.654839</td><td>1.936369</td><td>1.475651</td><td>1.480071</td><td>⋯       </td><td>2.192936</td><td>1.508563</td><td>1.894210</td><td>1.776561</td><td>2.004377</td><td>1.863849</td><td>1.872104</td><td>1.866471</td><td>1.613674</td><td>1.492473</td></tr>\n",
       "\t<tr><td>10      </td><td>1954    </td><td>1.867477</td><td>1.899370</td><td>1.923786</td><td>1.803405</td><td>1.687248</td><td>1.981079</td><td>1.507094</td><td>1.512784</td><td>⋯       </td><td>2.210855</td><td>1.544202</td><td>1.931476</td><td>1.809469</td><td>2.043258</td><td>1.898874</td><td>1.910405</td><td>1.903951</td><td>1.651653</td><td>1.530006</td></tr>\n",
       "\t<tr><td>10      </td><td>1955    </td><td>1.903475</td><td>1.933966</td><td>1.961608</td><td>1.832743</td><td>1.725020</td><td>2.010999</td><td>1.537940</td><td>1.545754</td><td>⋯       </td><td>2.250129</td><td>1.578653</td><td>1.962877</td><td>1.845211</td><td>2.080186</td><td>1.937068</td><td>1.946695</td><td>1.937738</td><td>1.687500</td><td>1.565150</td></tr>\n",
       "</tbody>\n",
       "</table>\n"
      ],
      "text/latex": [
       "\\begin{tabular}{r|llllllllllllllllllllllllllllllllllllllllllllllllllllllllllllllllllllllllllllllllllllllllllllllllllllllllllllllllllllllllllllllllllllllllllllllllllllllllllllllllllllllllllllllllllllllllllllllllllllllllllllllllllllllllllllllllllllllllllllllllllllllllllllllllllllllllllllllllllllllllllllllllllllllllllllllllllllllllllllllllllllllllllllllllllllllllllllllllllllllllllllllllllllllllllllllllllllllllllllllllllllllllllllllllllllllllllllllllllllllllllllllllllllllllllllllllllllllllllllllllllllllllllllllllllllllllllllllllllllllllllllllllllllllllllllllllllllllllllllllllllllllllllllllllllllllllllllllllllllllllllllllllllllllllllllllllllllllllllllllllllllllllllllllllllllllllllllllllllllllllllllllllllllllllllllllllllllllllllllllllllllllllllllllllllllllllllllllllllllllllllllllllllllllllllllllllllllllllllllllllllllllllllllllllllllllllllllllllllllllllllllllllllllllllllllllllllllllllllllllllllllllllllllllllllllllllllllllllllllllllllllllllllllllllllllllllllllllllllllllllllllllllllllllllllllllllllllllllllllllllll}\n",
       " location\\_id & year\\_id & draw0 & draw1 & draw2 & draw3 & draw4 & draw5 & draw6 & draw7 & ⋯ & draw990 & draw991 & draw992 & draw993 & draw994 & draw995 & draw996 & draw997 & draw998 & draw999\\\\\n",
       "\\hline\n",
       "\t 10       & 1950     & 1.747954 & 1.778849 & 1.797826 & 1.676938 & 1.553651 & 1.856006 & 1.388680 & 1.402455 & ⋯        & 2.078309 & 1.409418 & 1.802613 & 1.687683 & 1.897167 & 1.766918 & 1.772139 & 1.774524 & 1.522151 & 1.393033\\\\\n",
       "\t 10       & 1951     & 1.773521 & 1.808386 & 1.828858 & 1.702910 & 1.587144 & 1.884090 & 1.418387 & 1.426755 & ⋯        & 2.108773 & 1.442241 & 1.827847 & 1.717511 & 1.934726 & 1.802392 & 1.804692 & 1.802341 & 1.552032 & 1.423956\\\\\n",
       "\t 10       & 1952     & 1.804439 & 1.838140 & 1.862759 & 1.732470 & 1.624615 & 1.909133 & 1.447499 & 1.453348 & ⋯        & 2.157524 & 1.473800 & 1.861630 & 1.747652 & 1.967994 & 1.834619 & 1.837122 & 1.833001 & 1.580961 & 1.457321\\\\\n",
       "\t 10       & 1953     & 1.834183 & 1.868393 & 1.891366 & 1.764041 & 1.654839 & 1.936369 & 1.475651 & 1.480071 & ⋯        & 2.192936 & 1.508563 & 1.894210 & 1.776561 & 2.004377 & 1.863849 & 1.872104 & 1.866471 & 1.613674 & 1.492473\\\\\n",
       "\t 10       & 1954     & 1.867477 & 1.899370 & 1.923786 & 1.803405 & 1.687248 & 1.981079 & 1.507094 & 1.512784 & ⋯        & 2.210855 & 1.544202 & 1.931476 & 1.809469 & 2.043258 & 1.898874 & 1.910405 & 1.903951 & 1.651653 & 1.530006\\\\\n",
       "\t 10       & 1955     & 1.903475 & 1.933966 & 1.961608 & 1.832743 & 1.725020 & 2.010999 & 1.537940 & 1.545754 & ⋯        & 2.250129 & 1.578653 & 1.962877 & 1.845211 & 2.080186 & 1.937068 & 1.946695 & 1.937738 & 1.687500 & 1.565150\\\\\n",
       "\\end{tabular}\n"
      ],
      "text/markdown": [
       "\n",
       "location_id | year_id | draw0 | draw1 | draw2 | draw3 | draw4 | draw5 | draw6 | draw7 | ⋯ | draw990 | draw991 | draw992 | draw993 | draw994 | draw995 | draw996 | draw997 | draw998 | draw999 | \n",
       "|---|---|---|---|---|---|\n",
       "| 10       | 1950     | 1.747954 | 1.778849 | 1.797826 | 1.676938 | 1.553651 | 1.856006 | 1.388680 | 1.402455 | ⋯        | 2.078309 | 1.409418 | 1.802613 | 1.687683 | 1.897167 | 1.766918 | 1.772139 | 1.774524 | 1.522151 | 1.393033 | \n",
       "| 10       | 1951     | 1.773521 | 1.808386 | 1.828858 | 1.702910 | 1.587144 | 1.884090 | 1.418387 | 1.426755 | ⋯        | 2.108773 | 1.442241 | 1.827847 | 1.717511 | 1.934726 | 1.802392 | 1.804692 | 1.802341 | 1.552032 | 1.423956 | \n",
       "| 10       | 1952     | 1.804439 | 1.838140 | 1.862759 | 1.732470 | 1.624615 | 1.909133 | 1.447499 | 1.453348 | ⋯        | 2.157524 | 1.473800 | 1.861630 | 1.747652 | 1.967994 | 1.834619 | 1.837122 | 1.833001 | 1.580961 | 1.457321 | \n",
       "| 10       | 1953     | 1.834183 | 1.868393 | 1.891366 | 1.764041 | 1.654839 | 1.936369 | 1.475651 | 1.480071 | ⋯        | 2.192936 | 1.508563 | 1.894210 | 1.776561 | 2.004377 | 1.863849 | 1.872104 | 1.866471 | 1.613674 | 1.492473 | \n",
       "| 10       | 1954     | 1.867477 | 1.899370 | 1.923786 | 1.803405 | 1.687248 | 1.981079 | 1.507094 | 1.512784 | ⋯        | 2.210855 | 1.544202 | 1.931476 | 1.809469 | 2.043258 | 1.898874 | 1.910405 | 1.903951 | 1.651653 | 1.530006 | \n",
       "| 10       | 1955     | 1.903475 | 1.933966 | 1.961608 | 1.832743 | 1.725020 | 2.010999 | 1.537940 | 1.545754 | ⋯        | 2.250129 | 1.578653 | 1.962877 | 1.845211 | 2.080186 | 1.937068 | 1.946695 | 1.937738 | 1.687500 | 1.565150 | \n",
       "\n",
       "\n"
      ],
      "text/plain": [
       "  location_id year_id draw0    draw1    draw2    draw3    draw4    draw5   \n",
       "1 10          1950    1.747954 1.778849 1.797826 1.676938 1.553651 1.856006\n",
       "2 10          1951    1.773521 1.808386 1.828858 1.702910 1.587144 1.884090\n",
       "3 10          1952    1.804439 1.838140 1.862759 1.732470 1.624615 1.909133\n",
       "4 10          1953    1.834183 1.868393 1.891366 1.764041 1.654839 1.936369\n",
       "5 10          1954    1.867477 1.899370 1.923786 1.803405 1.687248 1.981079\n",
       "6 10          1955    1.903475 1.933966 1.961608 1.832743 1.725020 2.010999\n",
       "  draw6    draw7    ⋯ draw990  draw991  draw992  draw993  draw994  draw995 \n",
       "1 1.388680 1.402455 ⋯ 2.078309 1.409418 1.802613 1.687683 1.897167 1.766918\n",
       "2 1.418387 1.426755 ⋯ 2.108773 1.442241 1.827847 1.717511 1.934726 1.802392\n",
       "3 1.447499 1.453348 ⋯ 2.157524 1.473800 1.861630 1.747652 1.967994 1.834619\n",
       "4 1.475651 1.480071 ⋯ 2.192936 1.508563 1.894210 1.776561 2.004377 1.863849\n",
       "5 1.507094 1.512784 ⋯ 2.210855 1.544202 1.931476 1.809469 2.043258 1.898874\n",
       "6 1.537940 1.545754 ⋯ 2.250129 1.578653 1.962877 1.845211 2.080186 1.937068\n",
       "  draw996  draw997  draw998  draw999 \n",
       "1 1.772139 1.774524 1.522151 1.393033\n",
       "2 1.804692 1.802341 1.552032 1.423956\n",
       "3 1.837122 1.833001 1.580961 1.457321\n",
       "4 1.872104 1.866471 1.613674 1.492473\n",
       "5 1.910405 1.903951 1.651653 1.530006\n",
       "6 1.946695 1.937738 1.687500 1.565150"
      ]
     },
     "metadata": {},
     "output_type": "display_data"
    }
   ],
   "source": [
    "head(edu4)"
   ]
  },
  {
   "cell_type": "code",
   "execution_count": 181,
   "metadata": {
    "collapsed": false
   },
   "outputs": [],
   "source": [
    "fwrite(edu4, \"/home/j/WORK/01_covariates/02_inputs/education/update_2017/data/output_data/20161121_GBD2016prelim_95+_raked_2/gpr_draws_country_year_collapsed_after_sort.csv\")"
   ]
  },
  {
   "cell_type": "code",
   "execution_count": 98,
   "metadata": {
    "collapsed": false
   },
   "outputs": [],
   "source": [
    "# x<-data.table(test1)[location_id==6 & age_group_id==8 & sex_id==2, ]\n",
    "# head(x)"
   ]
  },
  {
   "cell_type": "code",
   "execution_count": 99,
   "metadata": {
    "collapsed": false
   },
   "outputs": [
    {
     "ename": "ERROR",
     "evalue": "Error in parse(text = x, srcfile = src): <text>:2:0: unexpected end of input\n1: ?\n   ^\n",
     "output_type": "error",
     "traceback": [
      "Error in parse(text = x, srcfile = src): <text>:2:0: unexpected end of input\n1: ?\n   ^\nTraceback:\n"
     ]
    }
   ],
   "source": [
    "ggplot(data.frame(x)) + geom_line(aes(x=as.numeric(year_id), y = draw0)) + \n",
    "    geom_line(aes(x=as.numeric(year_id), y = draw100))  + geom_line(aes(x=as.numeric(year_id), y = draw499))   + geom_line(aes(x=as.numeric(year_id), y = draw999)) "
   ]
  },
  {
   "cell_type": "code",
   "execution_count": null,
   "metadata": {
    "collapsed": true
   },
   "outputs": [],
   "source": []
  }
 ],
 "metadata": {
  "anaconda-cloud": {},
  "kernelspec": {
   "display_name": "R",
   "language": "R",
   "name": "ir"
  },
  "language_info": {
   "codemirror_mode": "r",
   "file_extension": ".r",
   "mimetype": "text/x-r-source",
   "name": "R",
   "pygments_lexer": "r",
   "version": "3.3.2"
  }
 },
 "nbformat": 4,
 "nbformat_minor": 1
}
