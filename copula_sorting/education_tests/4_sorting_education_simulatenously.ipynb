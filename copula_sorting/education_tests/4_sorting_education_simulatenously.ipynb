{
 "cells": [
  {
   "cell_type": "code",
   "execution_count": null,
   "metadata": {
    "collapsed": false,
    "scrolled": true
   },
   "outputs": [],
   "source": [
    "# rm(list=ls())\n",
    "require(data.table)\n",
    "require(MASS)\n",
    "require(ggplot2)\n",
    "require(foreach)\n",
    "require(gridExtra)\n",
    "require(doMC)\n",
    "registerDoMC(cores=16)\n",
    "\n",
    "## Resizing notebook plot space\n",
    "options(repr.plot.width=16, repr.plot.height=9)"
   ]
  },
  {
   "cell_type": "code",
   "execution_count": 2,
   "metadata": {
    "collapsed": false
   },
   "outputs": [],
   "source": [
    "## POP DATA from UN\n",
    "# pop <- data.table(fread(\"/home/j/Project/IRH/Forecasting/data/WPP_forecasted_population.csv\"))\n",
    "pop <- fread('/ihme/forecasting/data/pop/20150101_wpp/data.csv')"
   ]
  },
  {
   "cell_type": "code",
   "execution_count": 22,
   "metadata": {
    "collapsed": false
   },
   "outputs": [
    {
     "name": "stdout",
     "output_type": "stream",
     "text": [
      "\r",
      "Read 0.0% of 496860 rows\r",
      "Read 2.0% of 496860 rows\r",
      "Read 4.0% of 496860 rows\r",
      "Read 6.0% of 496860 rows\r",
      "Read 8.1% of 496860 rows\r",
      "Read 10.1% of 496860 rows\r",
      "Read 12.1% of 496860 rows\r",
      "Read 14.1% of 496860 rows\r",
      "Read 16.1% of 496860 rows\r",
      "Read 18.1% of 496860 rows\r",
      "Read 20.1% of 496860 rows\r",
      "Read 22.1% of 496860 rows\r",
      "Read 24.2% of 496860 rows\r",
      "Read 26.2% of 496860 rows\r",
      "Read 28.2% of 496860 rows\r",
      "Read 30.2% of 496860 rows\r",
      "Read 32.2% of 496860 rows\r",
      "Read 34.2% of 496860 rows\r",
      "Read 36.2% of 496860 rows\r",
      "Read 38.2% of 496860 rows\r",
      "Read 40.3% of 496860 rows\r",
      "Read 42.3% of 496860 rows\r",
      "Read 44.3% of 496860 rows\r",
      "Read 46.3% of 496860 rows\r",
      "Read 48.3% of 496860 rows\r",
      "Read 50.3% of 496860 rows\r",
      "Read 52.3% of 496860 rows\r",
      "Read 54.3% of 496860 rows\r",
      "Read 56.4% of 496860 rows\r",
      "Read 58.4% of 496860 rows\r",
      "Read 60.4% of 496860 rows\r",
      "Read 62.4% of 496860 rows\r",
      "Read 64.4% of 496860 rows\r",
      "Read 66.4% of 496860 rows\r",
      "Read 68.4% of 496860 rows\r",
      "Read 70.4% of 496860 rows\r",
      "Read 72.5% of 496860 rows\r",
      "Read 74.5% of 496860 rows\r",
      "Read 76.5% of 496860 rows\r",
      "Read 78.5% of 496860 rows\r",
      "Read 80.5% of 496860 rows\r",
      "Read 82.5% of 496860 rows\r",
      "Read 84.5% of 496860 rows\r",
      "Read 86.5% of 496860 rows\r",
      "Read 88.6% of 496860 rows\r",
      "Read 90.6% of 496860 rows\r",
      "Read 92.6% of 496860 rows\r",
      "Read 94.6% of 496860 rows\r",
      "Read 96.6% of 496860 rows\r",
      "Read 98.6% of 496860 rows\r",
      "Read 496860 rows and 1005 (of 1005) columns from 6.600 GB file in 00:01:48\n"
     ]
    }
   ],
   "source": [
    "## Education forecasts\n",
    "edu_orig<-data.table(fread(paste0(\"/home/j/WORK/01_covariates/02_inputs/education/update_2017/data/output_data/20161121_GBD2016prelim_95+_raked_2/gpr_draws.csv\"), header = T))\n",
    "edu_orig <- edu_orig[, V1:=NULL]\n",
    "# edu<-data.table(fread(paste0(\"/home/j/WORK/01_covariates/02_inputs/education/update_2017/data/output_data/20161121_GBD2016prelim_95+_raked_2/intermediate/gpr_draws_wide_by_years.csv\"), header = T))\n",
    "# edu <- data.table(edu)"
   ]
  },
  {
   "cell_type": "code",
   "execution_count": 23,
   "metadata": {
    "collapsed": false
   },
   "outputs": [
    {
     "data": {
      "text/html": [
       "<ol class=list-inline>\n",
       "\t<li>15</li>\n",
       "\t<li>20</li>\n",
       "\t<li>25</li>\n",
       "\t<li>30</li>\n",
       "\t<li>35</li>\n",
       "\t<li>40</li>\n",
       "\t<li>45</li>\n",
       "\t<li>50</li>\n",
       "\t<li>55</li>\n",
       "\t<li>60</li>\n",
       "\t<li>65</li>\n",
       "\t<li>70</li>\n",
       "\t<li>75</li>\n",
       "\t<li>85</li>\n",
       "</ol>\n"
      ],
      "text/latex": [
       "\\begin{enumerate*}\n",
       "\\item 15\n",
       "\\item 20\n",
       "\\item 25\n",
       "\\item 30\n",
       "\\item 35\n",
       "\\item 40\n",
       "\\item 45\n",
       "\\item 50\n",
       "\\item 55\n",
       "\\item 60\n",
       "\\item 65\n",
       "\\item 70\n",
       "\\item 75\n",
       "\\item 85\n",
       "\\end{enumerate*}\n"
      ],
      "text/markdown": [
       "1. 15\n",
       "2. 20\n",
       "3. 25\n",
       "4. 30\n",
       "5. 35\n",
       "6. 40\n",
       "7. 45\n",
       "8. 50\n",
       "9. 55\n",
       "10. 60\n",
       "11. 65\n",
       "12. 70\n",
       "13. 75\n",
       "14. 85\n",
       "\n",
       "\n"
      ],
      "text/plain": [
       " [1] 15 20 25 30 35 40 45 50 55 60 65 70 75 85"
      ]
     },
     "metadata": {},
     "output_type": "display_data"
    },
    {
     "data": {
      "text/html": [
       "<table>\n",
       "<thead><tr><th scope=col>location_id</th><th scope=col>year_id</th><th scope=col>age_group_id</th><th scope=col>sex_id</th><th scope=col>draw0</th><th scope=col>draw1</th><th scope=col>draw2</th><th scope=col>draw3</th><th scope=col>draw4</th><th scope=col>draw5</th><th scope=col>⋯</th><th scope=col>draw990</th><th scope=col>draw991</th><th scope=col>draw992</th><th scope=col>draw993</th><th scope=col>draw994</th><th scope=col>draw995</th><th scope=col>draw996</th><th scope=col>draw997</th><th scope=col>draw998</th><th scope=col>draw999</th></tr></thead>\n",
       "<tbody>\n",
       "\t<tr><td>6       </td><td>1950    </td><td>15      </td><td>1       </td><td>2.193899</td><td>3.696831</td><td>3.899294</td><td>5.886914</td><td>3.221693</td><td>3.998282</td><td>⋯       </td><td>2.322269</td><td>3.697725</td><td>2.680337</td><td>3.931184</td><td>4.004720</td><td>4.729225</td><td>8.494130</td><td>2.570683</td><td>2.368506</td><td>3.664268</td></tr>\n",
       "\t<tr><td>6       </td><td>1951    </td><td>15      </td><td>1       </td><td>2.329269</td><td>3.838159</td><td>4.045678</td><td>6.013686</td><td>3.346715</td><td>4.065710</td><td>⋯       </td><td>2.427470</td><td>3.836150</td><td>2.780698</td><td>3.969950</td><td>4.142245</td><td>4.905914</td><td>8.606566</td><td>2.687016</td><td>2.487811</td><td>3.796609</td></tr>\n",
       "\t<tr><td>6       </td><td>1952    </td><td>15      </td><td>1       </td><td>2.472498</td><td>3.986922</td><td>4.199735</td><td>6.134196</td><td>3.484166</td><td>4.133698</td><td>⋯       </td><td>2.537848</td><td>3.977886</td><td>2.888934</td><td>4.009498</td><td>4.284303</td><td>5.089704</td><td>8.709071</td><td>2.806243</td><td>2.615149</td><td>3.934128</td></tr>\n",
       "\t<tr><td>6       </td><td>1953    </td><td>15      </td><td>1       </td><td>2.623456</td><td>4.143215</td><td>4.361473</td><td>6.248749</td><td>3.634715</td><td>4.203069</td><td>⋯       </td><td>2.653360</td><td>4.122637</td><td>3.005171</td><td>4.050488</td><td>4.431217</td><td>5.279684</td><td>8.801838</td><td>2.928341</td><td>2.751002</td><td>4.076550</td></tr>\n",
       "\t<tr><td>6       </td><td>1954    </td><td>15      </td><td>1       </td><td>2.781863</td><td>4.307003</td><td>4.530767</td><td>6.357675</td><td>3.798821</td><td>4.274492</td><td>⋯       </td><td>2.773895</td><td>4.270091</td><td>3.129476</td><td>4.093673</td><td>4.583275</td><td>5.474768</td><td>8.885073</td><td>3.053305</td><td>2.895764</td><td>4.223558</td></tr>\n",
       "\t<tr><td>6       </td><td>1955    </td><td>15      </td><td>1       </td><td>2.947277</td><td>4.478090</td><td>4.707342</td><td>6.461299</td><td>3.976678</td><td>4.348449</td><td>⋯       </td><td>2.899285</td><td>4.419948</td><td>3.261856</td><td>4.139855</td><td>4.740723</td><td>5.673722</td><td>8.958986</td><td>3.181143</td><td>3.049714</td><td>4.374800</td></tr>\n",
       "</tbody>\n",
       "</table>\n"
      ],
      "text/latex": [
       "\\begin{tabular}{r|llllllllllllllllllllllllllllllllllllllllllllllllllllllllllllllllllllllllllllllllllllllllllllllllllllllllllllllllllllllllllllllllllllllllllllllllllllllllllllllllllllllllllllllllllllllllllllllllllllllllllllllllllllllllllllllllllllllllllllllllllllllllllllllllllllllllllllllllllllllllllllllllllllllllllllllllllllllllllllllllllllllllllllllllllllllllllllllllllllllllllllllllllllllllllllllllllllllllllllllllllllllllllllllllllllllllllllllllllllllllllllllllllllllllllllllllllllllllllllllllllllllllllllllllllllllllllllllllllllllllllllllllllllllllllllllllllllllllllllllllllllllllllllllllllllllllllllllllllllllllllllllllllllllllllllllllllllllllllllllllllllllllllllllllllllllllllllllllllllllllllllllllllllllllllllllllllllllllllllllllllllllllllllllllllllllllllllllllllllllllllllllllllllllllllllllllllllllllllllllllllllllllllllllllllllllllllllllllllllllllllllllllllllllllllllllllllllllllllllllllllllllllllllllllllllllllllllllllllllllllllllllllllllllllllllllllllllllllllllllllllllllllllllllllllllllllllllllllllllllllllll}\n",
       " location\\_id & year\\_id & age\\_group\\_id & sex\\_id & draw0 & draw1 & draw2 & draw3 & draw4 & draw5 & ⋯ & draw990 & draw991 & draw992 & draw993 & draw994 & draw995 & draw996 & draw997 & draw998 & draw999\\\\\n",
       "\\hline\n",
       "\t 6        & 1950     & 15       & 1        & 2.193899 & 3.696831 & 3.899294 & 5.886914 & 3.221693 & 3.998282 & ⋯        & 2.322269 & 3.697725 & 2.680337 & 3.931184 & 4.004720 & 4.729225 & 8.494130 & 2.570683 & 2.368506 & 3.664268\\\\\n",
       "\t 6        & 1951     & 15       & 1        & 2.329269 & 3.838159 & 4.045678 & 6.013686 & 3.346715 & 4.065710 & ⋯        & 2.427470 & 3.836150 & 2.780698 & 3.969950 & 4.142245 & 4.905914 & 8.606566 & 2.687016 & 2.487811 & 3.796609\\\\\n",
       "\t 6        & 1952     & 15       & 1        & 2.472498 & 3.986922 & 4.199735 & 6.134196 & 3.484166 & 4.133698 & ⋯        & 2.537848 & 3.977886 & 2.888934 & 4.009498 & 4.284303 & 5.089704 & 8.709071 & 2.806243 & 2.615149 & 3.934128\\\\\n",
       "\t 6        & 1953     & 15       & 1        & 2.623456 & 4.143215 & 4.361473 & 6.248749 & 3.634715 & 4.203069 & ⋯        & 2.653360 & 4.122637 & 3.005171 & 4.050488 & 4.431217 & 5.279684 & 8.801838 & 2.928341 & 2.751002 & 4.076550\\\\\n",
       "\t 6        & 1954     & 15       & 1        & 2.781863 & 4.307003 & 4.530767 & 6.357675 & 3.798821 & 4.274492 & ⋯        & 2.773895 & 4.270091 & 3.129476 & 4.093673 & 4.583275 & 5.474768 & 8.885073 & 3.053305 & 2.895764 & 4.223558\\\\\n",
       "\t 6        & 1955     & 15       & 1        & 2.947277 & 4.478090 & 4.707342 & 6.461299 & 3.976678 & 4.348449 & ⋯        & 2.899285 & 4.419948 & 3.261856 & 4.139855 & 4.740723 & 5.673722 & 8.958986 & 3.181143 & 3.049714 & 4.374800\\\\\n",
       "\\end{tabular}\n"
      ],
      "text/markdown": [
       "\n",
       "location_id | year_id | age_group_id | sex_id | draw0 | draw1 | draw2 | draw3 | draw4 | draw5 | ⋯ | draw990 | draw991 | draw992 | draw993 | draw994 | draw995 | draw996 | draw997 | draw998 | draw999 | \n",
       "|---|---|---|---|---|---|\n",
       "| 6        | 1950     | 15       | 1        | 2.193899 | 3.696831 | 3.899294 | 5.886914 | 3.221693 | 3.998282 | ⋯        | 2.322269 | 3.697725 | 2.680337 | 3.931184 | 4.004720 | 4.729225 | 8.494130 | 2.570683 | 2.368506 | 3.664268 | \n",
       "| 6        | 1951     | 15       | 1        | 2.329269 | 3.838159 | 4.045678 | 6.013686 | 3.346715 | 4.065710 | ⋯        | 2.427470 | 3.836150 | 2.780698 | 3.969950 | 4.142245 | 4.905914 | 8.606566 | 2.687016 | 2.487811 | 3.796609 | \n",
       "| 6        | 1952     | 15       | 1        | 2.472498 | 3.986922 | 4.199735 | 6.134196 | 3.484166 | 4.133698 | ⋯        | 2.537848 | 3.977886 | 2.888934 | 4.009498 | 4.284303 | 5.089704 | 8.709071 | 2.806243 | 2.615149 | 3.934128 | \n",
       "| 6        | 1953     | 15       | 1        | 2.623456 | 4.143215 | 4.361473 | 6.248749 | 3.634715 | 4.203069 | ⋯        | 2.653360 | 4.122637 | 3.005171 | 4.050488 | 4.431217 | 5.279684 | 8.801838 | 2.928341 | 2.751002 | 4.076550 | \n",
       "| 6        | 1954     | 15       | 1        | 2.781863 | 4.307003 | 4.530767 | 6.357675 | 3.798821 | 4.274492 | ⋯        | 2.773895 | 4.270091 | 3.129476 | 4.093673 | 4.583275 | 5.474768 | 8.885073 | 3.053305 | 2.895764 | 4.223558 | \n",
       "| 6        | 1955     | 15       | 1        | 2.947277 | 4.478090 | 4.707342 | 6.461299 | 3.976678 | 4.348449 | ⋯        | 2.899285 | 4.419948 | 3.261856 | 4.139855 | 4.740723 | 5.673722 | 8.958986 | 3.181143 | 3.049714 | 4.374800 | \n",
       "\n",
       "\n"
      ],
      "text/plain": [
       "  location_id year_id age_group_id sex_id draw0    draw1    draw2    draw3   \n",
       "1 6           1950    15           1      2.193899 3.696831 3.899294 5.886914\n",
       "2 6           1951    15           1      2.329269 3.838159 4.045678 6.013686\n",
       "3 6           1952    15           1      2.472498 3.986922 4.199735 6.134196\n",
       "4 6           1953    15           1      2.623456 4.143215 4.361473 6.248749\n",
       "5 6           1954    15           1      2.781863 4.307003 4.530767 6.357675\n",
       "6 6           1955    15           1      2.947277 4.478090 4.707342 6.461299\n",
       "  draw4    draw5    ⋯ draw990  draw991  draw992  draw993  draw994  draw995 \n",
       "1 3.221693 3.998282 ⋯ 2.322269 3.697725 2.680337 3.931184 4.004720 4.729225\n",
       "2 3.346715 4.065710 ⋯ 2.427470 3.836150 2.780698 3.969950 4.142245 4.905914\n",
       "3 3.484166 4.133698 ⋯ 2.537848 3.977886 2.888934 4.009498 4.284303 5.089704\n",
       "4 3.634715 4.203069 ⋯ 2.653360 4.122637 3.005171 4.050488 4.431217 5.279684\n",
       "5 3.798821 4.274492 ⋯ 2.773895 4.270091 3.129476 4.093673 4.583275 5.474768\n",
       "6 3.976678 4.348449 ⋯ 2.899285 4.419948 3.261856 4.139855 4.740723 5.673722\n",
       "  draw996  draw997  draw998  draw999 \n",
       "1 8.494130 2.570683 2.368506 3.664268\n",
       "2 8.606566 2.687016 2.487811 3.796609\n",
       "3 8.709071 2.806243 2.615149 3.934128\n",
       "4 8.801838 2.928341 2.751002 4.076550\n",
       "5 8.885073 3.053305 2.895764 4.223558\n",
       "6 8.958986 3.181143 3.049714 4.374800"
      ]
     },
     "metadata": {},
     "output_type": "display_data"
    }
   ],
   "source": [
    "## Convert age_group_id to age_start\n",
    "edu_orig <- edu_orig[, age_group_id:=15+5*(age_group_id -8)] \n",
    "unique(edu_orig[,age_group_id])\n",
    "head(edu_orig)"
   ]
  },
  {
   "cell_type": "code",
   "execution_count": 24,
   "metadata": {
    "collapsed": false
   },
   "outputs": [
    {
     "data": {
      "text/plain": [
       "   user  system elapsed \n",
       "  0.926   0.000   0.926 "
      ]
     },
     "metadata": {},
     "output_type": "display_data"
    },
    {
     "data": {
      "text/html": [
       "<table>\n",
       "<thead><tr><th scope=col>location_id</th><th scope=col>year_id</th><th scope=col>age_sex</th><th scope=col>draw0</th><th scope=col>draw1</th><th scope=col>draw2</th><th scope=col>draw3</th><th scope=col>draw4</th><th scope=col>draw5</th><th scope=col>draw6</th><th scope=col>⋯</th><th scope=col>draw990</th><th scope=col>draw991</th><th scope=col>draw992</th><th scope=col>draw993</th><th scope=col>draw994</th><th scope=col>draw995</th><th scope=col>draw996</th><th scope=col>draw997</th><th scope=col>draw998</th><th scope=col>draw999</th></tr></thead>\n",
       "<tbody>\n",
       "\t<tr><td>6       </td><td>1950    </td><td>15_1    </td><td>2.193899</td><td>3.696831</td><td>3.899294</td><td>5.886914</td><td>3.221693</td><td>3.998282</td><td>3.933010</td><td>⋯       </td><td>2.322269</td><td>3.697725</td><td>2.680337</td><td>3.931184</td><td>4.004720</td><td>4.729225</td><td>8.494130</td><td>2.570683</td><td>2.368506</td><td>3.664268</td></tr>\n",
       "\t<tr><td>6       </td><td>1951    </td><td>15_1    </td><td>2.329269</td><td>3.838159</td><td>4.045678</td><td>6.013686</td><td>3.346715</td><td>4.065710</td><td>4.017445</td><td>⋯       </td><td>2.427470</td><td>3.836150</td><td>2.780698</td><td>3.969950</td><td>4.142245</td><td>4.905914</td><td>8.606566</td><td>2.687016</td><td>2.487811</td><td>3.796609</td></tr>\n",
       "\t<tr><td>6       </td><td>1952    </td><td>15_1    </td><td>2.472498</td><td>3.986922</td><td>4.199735</td><td>6.134196</td><td>3.484166</td><td>4.133698</td><td>4.106628</td><td>⋯       </td><td>2.537848</td><td>3.977886</td><td>2.888934</td><td>4.009498</td><td>4.284303</td><td>5.089704</td><td>8.709071</td><td>2.806243</td><td>2.615149</td><td>3.934128</td></tr>\n",
       "\t<tr><td>6       </td><td>1953    </td><td>15_1    </td><td>2.623456</td><td>4.143215</td><td>4.361473</td><td>6.248749</td><td>3.634715</td><td>4.203069</td><td>4.201276</td><td>⋯       </td><td>2.653360</td><td>4.122637</td><td>3.005171</td><td>4.050488</td><td>4.431217</td><td>5.279684</td><td>8.801838</td><td>2.928341</td><td>2.751002</td><td>4.076550</td></tr>\n",
       "\t<tr><td>6       </td><td>1954    </td><td>15_1    </td><td>2.781863</td><td>4.307003</td><td>4.530767</td><td>6.357675</td><td>3.798821</td><td>4.274492</td><td>4.302071</td><td>⋯       </td><td>2.773895</td><td>4.270091</td><td>3.129476</td><td>4.093673</td><td>4.583275</td><td>5.474768</td><td>8.885073</td><td>3.053305</td><td>2.895764</td><td>4.223558</td></tr>\n",
       "\t<tr><td>6       </td><td>1955    </td><td>15_1    </td><td>2.947277</td><td>4.478090</td><td>4.707342</td><td>6.461299</td><td>3.976678</td><td>4.348449</td><td>4.409642</td><td>⋯       </td><td>2.899285</td><td>4.419948</td><td>3.261856</td><td>4.139855</td><td>4.740723</td><td>5.673722</td><td>8.958986</td><td>3.181143</td><td>3.049714</td><td>4.374800</td></tr>\n",
       "</tbody>\n",
       "</table>\n"
      ],
      "text/latex": [
       "\\begin{tabular}{r|lllllllllllllllllllllllllllllllllllllllllllllllllllllllllllllllllllllllllllllllllllllllllllllllllllllllllllllllllllllllllllllllllllllllllllllllllllllllllllllllllllllllllllllllllllllllllllllllllllllllllllllllllllllllllllllllllllllllllllllllllllllllllllllllllllllllllllllllllllllllllllllllllllllllllllllllllllllllllllllllllllllllllllllllllllllllllllllllllllllllllllllllllllllllllllllllllllllllllllllllllllllllllllllllllllllllllllllllllllllllllllllllllllllllllllllllllllllllllllllllllllllllllllllllllllllllllllllllllllllllllllllllllllllllllllllllllllllllllllllllllllllllllllllllllllllllllllllllllllllllllllllllllllllllllllllllllllllllllllllllllllllllllllllllllllllllllllllllllllllllllllllllllllllllllllllllllllllllllllllllllllllllllllllllllllllllllllllllllllllllllllllllllllllllllllllllllllllllllllllllllllllllllllllllllllllllllllllllllllllllllllllllllllllllllllllllllllllllllllllllllllllllllllllllllllllllllllllllllllllllllllllllllllllllllllllllllllllllllllllllllllllllllllllllllllllllllllllllllllllllllll}\n",
       " location\\_id & year\\_id & age\\_sex & draw0 & draw1 & draw2 & draw3 & draw4 & draw5 & draw6 & ⋯ & draw990 & draw991 & draw992 & draw993 & draw994 & draw995 & draw996 & draw997 & draw998 & draw999\\\\\n",
       "\\hline\n",
       "\t 6        & 1950     & 15\\_1   & 2.193899 & 3.696831 & 3.899294 & 5.886914 & 3.221693 & 3.998282 & 3.933010 & ⋯        & 2.322269 & 3.697725 & 2.680337 & 3.931184 & 4.004720 & 4.729225 & 8.494130 & 2.570683 & 2.368506 & 3.664268\\\\\n",
       "\t 6        & 1951     & 15\\_1   & 2.329269 & 3.838159 & 4.045678 & 6.013686 & 3.346715 & 4.065710 & 4.017445 & ⋯        & 2.427470 & 3.836150 & 2.780698 & 3.969950 & 4.142245 & 4.905914 & 8.606566 & 2.687016 & 2.487811 & 3.796609\\\\\n",
       "\t 6        & 1952     & 15\\_1   & 2.472498 & 3.986922 & 4.199735 & 6.134196 & 3.484166 & 4.133698 & 4.106628 & ⋯        & 2.537848 & 3.977886 & 2.888934 & 4.009498 & 4.284303 & 5.089704 & 8.709071 & 2.806243 & 2.615149 & 3.934128\\\\\n",
       "\t 6        & 1953     & 15\\_1   & 2.623456 & 4.143215 & 4.361473 & 6.248749 & 3.634715 & 4.203069 & 4.201276 & ⋯        & 2.653360 & 4.122637 & 3.005171 & 4.050488 & 4.431217 & 5.279684 & 8.801838 & 2.928341 & 2.751002 & 4.076550\\\\\n",
       "\t 6        & 1954     & 15\\_1   & 2.781863 & 4.307003 & 4.530767 & 6.357675 & 3.798821 & 4.274492 & 4.302071 & ⋯        & 2.773895 & 4.270091 & 3.129476 & 4.093673 & 4.583275 & 5.474768 & 8.885073 & 3.053305 & 2.895764 & 4.223558\\\\\n",
       "\t 6        & 1955     & 15\\_1   & 2.947277 & 4.478090 & 4.707342 & 6.461299 & 3.976678 & 4.348449 & 4.409642 & ⋯        & 2.899285 & 4.419948 & 3.261856 & 4.139855 & 4.740723 & 5.673722 & 8.958986 & 3.181143 & 3.049714 & 4.374800\\\\\n",
       "\\end{tabular}\n"
      ],
      "text/markdown": [
       "\n",
       "location_id | year_id | age_sex | draw0 | draw1 | draw2 | draw3 | draw4 | draw5 | draw6 | ⋯ | draw990 | draw991 | draw992 | draw993 | draw994 | draw995 | draw996 | draw997 | draw998 | draw999 | \n",
       "|---|---|---|---|---|---|\n",
       "| 6        | 1950     | 15_1     | 2.193899 | 3.696831 | 3.899294 | 5.886914 | 3.221693 | 3.998282 | 3.933010 | ⋯        | 2.322269 | 3.697725 | 2.680337 | 3.931184 | 4.004720 | 4.729225 | 8.494130 | 2.570683 | 2.368506 | 3.664268 | \n",
       "| 6        | 1951     | 15_1     | 2.329269 | 3.838159 | 4.045678 | 6.013686 | 3.346715 | 4.065710 | 4.017445 | ⋯        | 2.427470 | 3.836150 | 2.780698 | 3.969950 | 4.142245 | 4.905914 | 8.606566 | 2.687016 | 2.487811 | 3.796609 | \n",
       "| 6        | 1952     | 15_1     | 2.472498 | 3.986922 | 4.199735 | 6.134196 | 3.484166 | 4.133698 | 4.106628 | ⋯        | 2.537848 | 3.977886 | 2.888934 | 4.009498 | 4.284303 | 5.089704 | 8.709071 | 2.806243 | 2.615149 | 3.934128 | \n",
       "| 6        | 1953     | 15_1     | 2.623456 | 4.143215 | 4.361473 | 6.248749 | 3.634715 | 4.203069 | 4.201276 | ⋯        | 2.653360 | 4.122637 | 3.005171 | 4.050488 | 4.431217 | 5.279684 | 8.801838 | 2.928341 | 2.751002 | 4.076550 | \n",
       "| 6        | 1954     | 15_1     | 2.781863 | 4.307003 | 4.530767 | 6.357675 | 3.798821 | 4.274492 | 4.302071 | ⋯        | 2.773895 | 4.270091 | 3.129476 | 4.093673 | 4.583275 | 5.474768 | 8.885073 | 3.053305 | 2.895764 | 4.223558 | \n",
       "| 6        | 1955     | 15_1     | 2.947277 | 4.478090 | 4.707342 | 6.461299 | 3.976678 | 4.348449 | 4.409642 | ⋯        | 2.899285 | 4.419948 | 3.261856 | 4.139855 | 4.740723 | 5.673722 | 8.958986 | 3.181143 | 3.049714 | 4.374800 | \n",
       "\n",
       "\n"
      ],
      "text/plain": [
       "  location_id year_id age_sex draw0    draw1    draw2    draw3    draw4   \n",
       "1 6           1950    15_1    2.193899 3.696831 3.899294 5.886914 3.221693\n",
       "2 6           1951    15_1    2.329269 3.838159 4.045678 6.013686 3.346715\n",
       "3 6           1952    15_1    2.472498 3.986922 4.199735 6.134196 3.484166\n",
       "4 6           1953    15_1    2.623456 4.143215 4.361473 6.248749 3.634715\n",
       "5 6           1954    15_1    2.781863 4.307003 4.530767 6.357675 3.798821\n",
       "6 6           1955    15_1    2.947277 4.478090 4.707342 6.461299 3.976678\n",
       "  draw5    draw6    ⋯ draw990  draw991  draw992  draw993  draw994  draw995 \n",
       "1 3.998282 3.933010 ⋯ 2.322269 3.697725 2.680337 3.931184 4.004720 4.729225\n",
       "2 4.065710 4.017445 ⋯ 2.427470 3.836150 2.780698 3.969950 4.142245 4.905914\n",
       "3 4.133698 4.106628 ⋯ 2.537848 3.977886 2.888934 4.009498 4.284303 5.089704\n",
       "4 4.203069 4.201276 ⋯ 2.653360 4.122637 3.005171 4.050488 4.431217 5.279684\n",
       "5 4.274492 4.302071 ⋯ 2.773895 4.270091 3.129476 4.093673 4.583275 5.474768\n",
       "6 4.348449 4.409642 ⋯ 2.899285 4.419948 3.261856 4.139855 4.740723 5.673722\n",
       "  draw996  draw997  draw998  draw999 \n",
       "1 8.494130 2.570683 2.368506 3.664268\n",
       "2 8.606566 2.687016 2.487811 3.796609\n",
       "3 8.709071 2.806243 2.615149 3.934128\n",
       "4 8.801838 2.928341 2.751002 4.076550\n",
       "5 8.885073 3.053305 2.895764 4.223558\n",
       "6 8.958986 3.181143 3.049714 4.374800"
      ]
     },
     "metadata": {},
     "output_type": "display_data"
    }
   ],
   "source": [
    "### For now, let's concatenatate the age and sex columns to be one identifier:\n",
    "system.time(edu_orig <- edu_orig[, age_sex := paste0(age_group_id, \"_\", sex_id)])\n",
    "edu_orig <- edu_orig[, age_group_id:= NULL]\n",
    "edu_orig <- edu_orig[, sex_id:= NULL]\n",
    "edu_orig <- setcolorder(edu_orig, c(\"location_id\", \"year_id\", \"age_sex\", paste0(\"draw\",c(0:999)) ))\n",
    "head(edu_orig)"
   ]
  },
  {
   "cell_type": "markdown",
   "metadata": {},
   "source": [
    "### Reshape long by draws, wide by year, use copula with spearman = 1, and reshape back AND collapse by country-year"
   ]
  },
  {
   "cell_type": "code",
   "execution_count": 25,
   "metadata": {
    "collapsed": false,
    "scrolled": true
   },
   "outputs": [
    {
     "data": {
      "text/plain": [
       "   user  system elapsed \n",
       "  5.758   0.294   6.091 "
      ]
     },
     "metadata": {},
     "output_type": "display_data"
    },
    {
     "data": {
      "text/html": [
       "<table>\n",
       "<thead><tr><th scope=col>location_id</th><th scope=col>age_sex</th><th scope=col>year_id</th><th scope=col>variable</th><th scope=col>edu</th></tr></thead>\n",
       "<tbody>\n",
       "\t<tr><td>6       </td><td>15_1    </td><td>1950    </td><td>draw0   </td><td>2.193899</td></tr>\n",
       "\t<tr><td>6       </td><td>15_1    </td><td>1951    </td><td>draw0   </td><td>2.329269</td></tr>\n",
       "\t<tr><td>6       </td><td>15_1    </td><td>1952    </td><td>draw0   </td><td>2.472498</td></tr>\n",
       "\t<tr><td>6       </td><td>15_1    </td><td>1953    </td><td>draw0   </td><td>2.623456</td></tr>\n",
       "\t<tr><td>6       </td><td>15_1    </td><td>1954    </td><td>draw0   </td><td>2.781863</td></tr>\n",
       "\t<tr><td>6       </td><td>15_1    </td><td>1955    </td><td>draw0   </td><td>2.947277</td></tr>\n",
       "</tbody>\n",
       "</table>\n"
      ],
      "text/latex": [
       "\\begin{tabular}{r|lllll}\n",
       " location\\_id & age\\_sex & year\\_id & variable & edu\\\\\n",
       "\\hline\n",
       "\t 6        & 15\\_1   & 1950     & draw0    & 2.193899\\\\\n",
       "\t 6        & 15\\_1   & 1951     & draw0    & 2.329269\\\\\n",
       "\t 6        & 15\\_1   & 1952     & draw0    & 2.472498\\\\\n",
       "\t 6        & 15\\_1   & 1953     & draw0    & 2.623456\\\\\n",
       "\t 6        & 15\\_1   & 1954     & draw0    & 2.781863\\\\\n",
       "\t 6        & 15\\_1   & 1955     & draw0    & 2.947277\\\\\n",
       "\\end{tabular}\n"
      ],
      "text/markdown": [
       "\n",
       "location_id | age_sex | year_id | variable | edu | \n",
       "|---|---|---|---|---|---|\n",
       "| 6        | 15_1     | 1950     | draw0    | 2.193899 | \n",
       "| 6        | 15_1     | 1951     | draw0    | 2.329269 | \n",
       "| 6        | 15_1     | 1952     | draw0    | 2.472498 | \n",
       "| 6        | 15_1     | 1953     | draw0    | 2.623456 | \n",
       "| 6        | 15_1     | 1954     | draw0    | 2.781863 | \n",
       "| 6        | 15_1     | 1955     | draw0    | 2.947277 | \n",
       "\n",
       "\n"
      ],
      "text/plain": [
       "  location_id age_sex year_id variable edu     \n",
       "1 6           15_1    1950    draw0    2.193899\n",
       "2 6           15_1    1951    draw0    2.329269\n",
       "3 6           15_1    1952    draw0    2.472498\n",
       "4 6           15_1    1953    draw0    2.623456\n",
       "5 6           15_1    1954    draw0    2.781863\n",
       "6 6           15_1    1955    draw0    2.947277"
      ]
     },
     "metadata": {},
     "output_type": "display_data"
    }
   ],
   "source": [
    "# Make draws long first\n",
    "system.time(edu_temp <- melt(edu_orig, id.vars = c(\"location_id\", \"age_sex\", \"year_id\"), value.name = \"edu\", varnames = \"draw\"))\n",
    "head(edu_temp)"
   ]
  },
  {
   "cell_type": "code",
   "execution_count": null,
   "metadata": {
    "collapsed": false,
    "scrolled": true
   },
   "outputs": [],
   "source": [
    "## Tests\n",
    "# test_pre_cop <- edu_temp[location_id==6 & age_group_id==8 & sex_id==2,]\n",
    "# ggplot(data.frame(test_pre_cop)) + geom_line(aes(x = year_id, y = edu, group = variable, color=variable)) +\n",
    "# theme(legend.position = \"none\")"
   ]
  },
  {
   "cell_type": "code",
   "execution_count": null,
   "metadata": {
    "collapsed": false
   },
   "outputs": [],
   "source": [
    "# Wide by year\n",
    "# system.time(edu <- dcast(edu_temp , \n",
    "#                          formula = location_id + age_group_id + sex_id + variable ~ year_id, \n",
    "#                          value.var = \"edu\"))\n",
    "# head(edu)"
   ]
  },
  {
   "cell_type": "code",
   "execution_count": 26,
   "metadata": {
    "collapsed": false
   },
   "outputs": [],
   "source": [
    "## Get our baseline correlation matrix\n",
    "load(\"/home/j/WORK/01_covariates/02_inputs/education/update_2017/data/tabulated_data/insample_corr_mat.Rdata\")\n",
    "\n",
    "## For now, trim the corr matrix to have 14 age groups\n",
    "corr_mat <- corr_mat[1:28,1:28]"
   ]
  },
  {
   "cell_type": "code",
   "execution_count": null,
   "metadata": {
    "collapsed": true
   },
   "outputs": [],
   "source": [
    "### Let's just work with one country for now\n",
    "# edu_temp2 <- edu_temp[location_id == 6, ]"
   ]
  },
  {
   "cell_type": "code",
   "execution_count": null,
   "metadata": {
    "collapsed": false,
    "scrolled": false
   },
   "outputs": [],
   "source": [
    "# edu_temp2 <- edu_temp[order(variable, year_id, age_sex, location_id),]\n",
    "# tail(edu_temp2)"
   ]
  },
  {
   "cell_type": "code",
   "execution_count": null,
   "metadata": {
    "collapsed": false
   },
   "outputs": [],
   "source": [
    "## List of stuff\n",
    "# my_names <- list(location_id = unique(factor(edu_temp2[, location_id], ordered = T)),\n",
    "#                  age_sex = unique(factor(edu_temp2[, age_sex], ordered = T)),\n",
    "#                  year_id = unique(factor(edu_temp2[, year_id], ordered = T)),\n",
    "#                  variable = unique(factor(edu_temp2[, variable], ordered = T)) )"
   ]
  },
  {
   "cell_type": "code",
   "execution_count": null,
   "metadata": {
    "collapsed": false
   },
   "outputs": [],
   "source": [
    "# print(c(length(my_names[[1]]), length(my_names[[2]]), length(my_names[[3]]), length(my_names[[4]])))"
   ]
  },
  {
   "cell_type": "code",
   "execution_count": 28,
   "metadata": {
    "collapsed": false,
    "scrolled": true
   },
   "outputs": [],
   "source": [
    "# Convert to array?\n",
    "# myarray <- array(data=as.table(edu_temp2[, edu]), \n",
    "#                  c(length(my_names[[1]]), length(my_names[[2]]), length(my_names[[3]]), length(my_names[[4]])), \n",
    "#                  dimnames = my_names )"
   ]
  },
  {
   "cell_type": "code",
   "execution_count": null,
   "metadata": {
    "collapsed": false,
    "scrolled": true
   },
   "outputs": [],
   "source": [
    "# Convert to array?\n",
    "system.time(myarray2<- reshape2::acast(edu_temp, location_id ~  year_id ~ age_sex ~ variable, value.var = \"edu\"))\n",
    "str(myarray2)"
   ]
  },
  {
   "cell_type": "code",
   "execution_count": 35,
   "metadata": {
    "collapsed": false
   },
   "outputs": [
    {
     "name": "stdout",
     "output_type": "stream",
     "text": [
      " num [1:28, 1:91, 1:1000] 2.19 1.45 3.66 2.37 3.67 ...\n",
      " - attr(*, \"dimnames\")=List of 3\n",
      "  ..$ : chr [1:28] \"15_1\" \"15_2\" \"20_1\" \"20_2\" ...\n",
      "  ..$ : chr [1:91] \"1950\" \"1951\" \"1952\" \"1953\" ...\n",
      "  ..$ : chr [1:1000] \"draw0\" \"draw1\" \"draw2\" \"draw3\" ...\n"
     ]
    }
   ],
   "source": [
    "### Subset out one country first\n",
    "chn_array <- myarray2[\"6\",,,]\n",
    "str(chn_array)"
   ]
  },
  {
   "cell_type": "markdown",
   "metadata": {},
   "source": [
    "### Neal's Univariate Copula Function"
   ]
  },
  {
   "cell_type": "code",
   "execution_count": 39,
   "metadata": {
    "collapsed": true
   },
   "outputs": [],
   "source": [
    "rank_time_series <- function(X, corr, ts=F, print=FALSE){\n",
    "  draws <- nrow(X)\n",
    "  years <- ncol(X)\n",
    "  # X <- matrix(runif(draws*years), nrow=years, ncol=draws)\n",
    "  \n",
    "  if(print){\n",
    "    print(sapply(2:years, function(x) cor(X[x,], X[x-1,])))\n",
    "  }\n",
    "  \n",
    "  if(ts == F) {\n",
    "    corr_mat <- matrix(data=corr, nrow= years, ncol= years )\n",
    "    diag(corr_mat) <- 1\n",
    "  }\n",
    "  \n",
    "  if(ts == T) {\n",
    "    corr_mat <- corr**abs(outer(0:(years-1), 0:(years-1), \"-\"))\n",
    "  }\n",
    "  \n",
    "  \n",
    "#   print(corr_mat)\n",
    "  mvdat <- mvrnorm(n= draws, mu=0 * 1:ncol(X), Sigma=corr_mat, empirical=T)\n",
    "  ranks <- apply(mvdat, 2, rank, ties.method=\"first\")\n",
    "  sorted_X <- apply(X, 2, sort)\n",
    "  sapply(1:ncol(X), function(x) sorted_X[,x][ranks[,x]])\n",
    "}\n",
    "\n"
   ]
  },
  {
   "cell_type": "markdown",
   "metadata": {},
   "source": [
    "### Neal's Multivariate Copula Function"
   ]
  },
  {
   "cell_type": "code",
   "execution_count": 40,
   "metadata": {
    "collapsed": true
   },
   "outputs": [],
   "source": [
    "draw2Dcopula <- function(X, cor_mat){\n",
    "    L <- dim(X)[2]\n",
    "    D <- dim(X)[3]\n",
    "    Xsum <- apply(X, c(2, 3), sum)\n",
    "    mvdat <- mvrnorm(n=D, mu=0 * 1:L, Sigma=cor_mat, empirical=TRUE)\n",
    "    ranks <- apply(mvdat, 2, rank, ties.method=\"first\")\n",
    "    sortedXsim <- apply(Xsum, 1, function(x) sort(x, index.return=TRUE)$ix)\n",
    "    sortedX <- Xtad\n",
    "    for(i in 1:L){\n",
    "        sortedX[,i,] <- Xtad[,i,sortedXsim[,i]]\n",
    "    }\n",
    "    Xcorr <- sortedX\n",
    "    for(i in 1:L){\n",
    "        Xcorr[,i,] <- sortedX[,i,ranks[,i]]\n",
    "    }\n",
    "    Xcorr\n",
    "}"
   ]
  },
  {
   "cell_type": "markdown",
   "metadata": {},
   "source": [
    "### Let's 2D copulate the data now"
   ]
  },
  {
   "cell_type": "code",
   "execution_count": null,
   "metadata": {
    "collapsed": false,
    "scrolled": false
   },
   "outputs": [],
   "source": [
    "Xcorr <- draw2Dcopula(Xtad, corr_mat)\n",
    "\n",
    "# correlation over our first dimension (time) remains unchanged\n",
    "sapply(1:ages, function(x) sapply(2:years, function(y)\n",
    "  cor(Xcorr[y,x,], Xcorr[y-1,x,])))\n",
    "\n",
    "# correlation over our second dimension (age) now approaches desired target\n",
    "sapply(2:ages, function(x) sapply(1:years, function(y)\n",
    "  cor(Xcorr[y,x,], Xcorr[y,x-1,])))\n",
    "\n",
    "time_corr <- sapply(1:ages, function(x) sapply(2:years, function(y)\n",
    "  cor(Xcorr[y,x,], Xcorr[y-1,x,])))\n",
    "\n",
    "age_corr <- sapply(2:ages, function(x) sapply(1:years, function(y)   cor(Xcorr[y,x,], Xcorr[y,x-1,])))\n",
    "\n",
    "\n"
   ]
  },
  {
   "cell_type": "code",
   "execution_count": null,
   "metadata": {
    "collapsed": false
   },
   "outputs": [],
   "source": [
    "# ## Test for one case\n",
    "# tesssst_1 <- rank_time_series(edu[location_id==102 & age_group_id==8 & sex_id==2,  6:96], corr = 1, ts = F,print=F)\n",
    "# colnames(tesssst_1) <- paste0(c(1950:2040))\n",
    "# tesssst_1 <- cbind(edu[location_id==6 & age_group_id==8 & sex_id==2,  1:5], tesssst_1)\n",
    "# tesssst_2 <- data.table(melt(tesssst_1[, id :=NULL], id.vars=c(\"location_id\", \"age_group_id\", \"sex_id\",\"variable\"), value.name = \"edu\", variable.name = \"year_id\"))\n",
    "# head(tesssst_1)\n",
    "\n",
    "# ggplot(data.frame(tesssst_2)) + geom_line(aes(x=year_id, y = edu, group = variable, color=variable)) +\n",
    "# theme(legend.position = \"none\")"
   ]
  },
  {
   "cell_type": "markdown",
   "metadata": {},
   "source": [
    "### Use copula on all the data with Spearman = 1"
   ]
  },
  {
   "cell_type": "code",
   "execution_count": null,
   "metadata": {
    "collapsed": false,
    "scrolled": false
   },
   "outputs": [],
   "source": [
    "Start<- Sys.time()\n",
    "\n",
    "alist<-list()\n",
    "alist<- foreach(i = unique(edu[,id])) %dopar% {\n",
    "    tempx <-  rank_time_series(edu[id==i, 6:96], corr = 1, ts = F,print=F)\n",
    "    tempx <- cbind(edu[id==i, 1:5], tempx)\n",
    "}\n",
    "\n",
    "\n",
    "### Equivalent to the follow mclapply set up:\n",
    "\n",
    "# test_func <- function(id_subset) {\n",
    "#     results <- rank_time_series(edu[id==id_subset, 6:96], corr=1, ts=F, print=F)\n",
    "#     results <- cbind(edu[id == id_subset, 1:5], results)\n",
    "#     return(results)\n",
    "# }\n",
    "\n",
    "# test <- rbindlist(mclapply(unique(edu[,id]), test_func, mc.cores=32))\n",
    "\n",
    "print(Sys.time()-Start)\n",
    "\n",
    "edu_fill_cyas <- do.call(rbind, alist)\n",
    "colnames(edu_fill_cyas) <- c(\"id\", \"location_id\", \"age_group_id\", \"sex_id\", \"variable\", c(1950:2040))"
   ]
  },
  {
   "cell_type": "code",
   "execution_count": null,
   "metadata": {
    "collapsed": false
   },
   "outputs": [],
   "source": [
    "## Test plotss\n",
    "# test_post_1 <- edu_fill_cyas[id == 2,]\n",
    "# test_post_1 <- melt(test_post_1, id.vars = c(\"id\", \"location_id\", \"age_group_id\", \"sex_id\", \"variable\"), value.name = \"edu\", variable.name = \"year_id\")\n",
    "# head(test_post_1)\n",
    "\n",
    "# ggplot(data.frame(test_post_1)) + geom_line(aes(x=year_id, y = edu, group = variable, color=variable)) +\n",
    "# theme(legend.position = \"none\")"
   ]
  },
  {
   "cell_type": "code",
   "execution_count": null,
   "metadata": {
    "collapsed": false
   },
   "outputs": [],
   "source": [
    "# fwrite(edu_fill_cyas, \"/home/j/WORK/01_covariates/02_inputs/education/update_2017/data/output_data/20161121_GBD2016prelim_95+_raked_2/intermediate/gpr_draws_wide_by_years_sorted.csv\")"
   ]
  },
  {
   "cell_type": "markdown",
   "metadata": {},
   "source": [
    "### Reshape to normal shape, and collapse to C-Y"
   ]
  },
  {
   "cell_type": "code",
   "execution_count": null,
   "metadata": {
    "collapsed": false
   },
   "outputs": [],
   "source": [
    "edu_fill_cyas <- edu_fill_cyas[, id:=NULL]\n",
    "blank2_melt <- data.table(melt(edu_fill_cyas, id.vars = c(\"location_id\", \"age_group_id\", \"sex_id\", \"variable\"), variable.name = \"year_id\", value.name = \"data\"))"
   ]
  },
  {
   "cell_type": "code",
   "execution_count": null,
   "metadata": {
    "collapsed": false,
    "scrolled": true
   },
   "outputs": [],
   "source": [
    "system.time(blank2_cast <- dcast(blank2_melt, location_id + age_group_id + sex_id + year_id ~ variable ))\n",
    "head(blank2_cast)"
   ]
  },
  {
   "cell_type": "code",
   "execution_count": null,
   "metadata": {
    "collapsed": true
   },
   "outputs": [],
   "source": [
    "blank2_cast <- data.table(blank2_cast)"
   ]
  },
  {
   "cell_type": "code",
   "execution_count": null,
   "metadata": {
    "collapsed": false,
    "scrolled": false
   },
   "outputs": [],
   "source": [
    "head(blank2_cast)\n",
    "plot_country_year_AS <- function(loc_id, age = 8, sex= 2) {\n",
    "    return(ggplot(melt(blank2_cast[location_id==loc_id & age_group_id == age & sex_id == sex, ], \n",
    "                       id.vars = c(\"location_id\", \"age_group_id\", \"sex_id\", \"year_id\"), \n",
    "                       value.name = \"draw\") ) + \n",
    "    geom_line(aes(x=year_id, y=draw, group=variable, color=variable)) + \n",
    "    scale_x_discrete(breaks = seq(1950,2040,by=5)) +\n",
    "    theme(legend.position = \"none\"))    +\n",
    "    ggtitle(\"Country-Year-Age-Sex Sorted\")\n",
    "    }\n",
    "\n",
    "i <- 102\n",
    "plot_country_year_AS(i)"
   ]
  },
  {
   "cell_type": "code",
   "execution_count": null,
   "metadata": {
    "collapsed": false
   },
   "outputs": [],
   "source": [
    "key(blank2_cast)"
   ]
  },
  {
   "cell_type": "code",
   "execution_count": null,
   "metadata": {
    "collapsed": false
   },
   "outputs": [],
   "source": [
    "system.time(fwrite(data.table(blank2_cast), \"/home/j/WORK/01_covariates/02_inputs/education/update_2017/data/output_data/20161121_GBD2016prelim_95+_raked_2/gpr_draws_country_year_age_sex_post_copula.csv\"))"
   ]
  },
  {
   "cell_type": "code",
   "execution_count": null,
   "metadata": {
    "collapsed": false
   },
   "outputs": [],
   "source": [
    "## Testing written CSV\n",
    "# blank2_cast_test<- fread(\"/home/j/WORK/01_covariates/02_inputs/education/update_2017/data/output_data/20161121_GBD2016prelim_95+_raked_2/gpr_draws_country_year_age_sex_post_copula.csv\", header=T)"
   ]
  },
  {
   "cell_type": "code",
   "execution_count": null,
   "metadata": {
    "collapsed": false
   },
   "outputs": [],
   "source": [
    "# head(blank2_cast_test)\n",
    "# plot_country_year_AS_test <- function(loc_id, age = 8, sex= 1) {\n",
    "#     return(ggplot(melt(blank2_cast_test[location_id==loc_id & age_group_id == age & sex_id == sex, ], \n",
    "#                        id.vars = c(\"location_id\", \"age_group_id\", \"sex_id\", \"year_id\"), \n",
    "#                        value.name = \"draw\") ) + \n",
    "#     geom_line(aes(x=year_id, y=draw, group=variable, color=variable)) + \n",
    "#     scale_x_discrete(breaks = seq(1950,2040,by=5)) +\n",
    "#     theme(legend.position = \"none\"))    +\n",
    "#     ggtitle(\"Country-Year-Age-Sex Sorted\")\n",
    "#     }\n",
    "\n",
    "# i <- 201\n",
    "# plot_country_year_AS_test(i)"
   ]
  },
  {
   "cell_type": "markdown",
   "metadata": {},
   "source": [
    "### Collapse to year and country only"
   ]
  },
  {
   "cell_type": "code",
   "execution_count": null,
   "metadata": {
    "collapsed": false,
    "scrolled": true
   },
   "outputs": [],
   "source": [
    "# blank2_cast <- fread(\"/home/j/WORK/01_covariates/02_inputs/education/update_2017/data/output_data/20161121_GBD2016prelim_95+_raked_2/gpr_draws_country_year_age_sex_post_copula.csv\")\n",
    "edu2 <- data.table(merge.data.frame(blank2_cast, pop, by = c(\"location_id\", \"year_id\", \"age_group_id\", \"sex_id\")))\n",
    "setkeyv(edu2, c(\"location_id\", \"year_id\", \"age_group_id\", \"sex_id\"))"
   ]
  },
  {
   "cell_type": "code",
   "execution_count": null,
   "metadata": {
    "collapsed": false,
    "scrolled": false
   },
   "outputs": [],
   "source": [
    "edu4<- edu2[, lapply(.SD, function(x) sum(x*pop)/sum(pop)), \n",
    "    by=c(\"location_id\", \"year_id\"), .SDcols=cbind(paste0(\"draw\",c(0:999))) ] \n",
    "\n",
    "unique2 <- unique(edu4[, location_id])    \n",
    "head(edu4)"
   ]
  },
  {
   "cell_type": "code",
   "execution_count": null,
   "metadata": {
    "collapsed": false
   },
   "outputs": [],
   "source": [
    "### PROBLEM: No population data for MHL (loc == 26) apparently (fix it)"
   ]
  },
  {
   "cell_type": "markdown",
   "metadata": {},
   "source": [
    "### Copula this one? (uncomment if that's the intention)"
   ]
  },
  {
   "cell_type": "code",
   "execution_count": null,
   "metadata": {
    "collapsed": false
   },
   "outputs": [],
   "source": [
    "# edu4_1 <- melt(edu4[year_id >=1980,], id.vars = c(\"location_id\", \"year_id\"), value.name = \"edu\", variable.name = \"draw_num\")\n",
    "# edu4_2 <- data.table(dcast(edu4_1, location_id + draw_num ~ year_id, value.var = \"edu\"))\n",
    "# head(edu4_2)"
   ]
  },
  {
   "cell_type": "code",
   "execution_count": null,
   "metadata": {
    "collapsed": false,
    "scrolled": true
   },
   "outputs": [],
   "source": [
    "# Start<- Sys.time()\n",
    "# edu5 <- data.table()\n",
    "# for(i in unique(edu4_2[,location_id])) {\n",
    "#     temploc <- edu4_2[location_id==i, 1:2]\n",
    "#     tempx <-  rank_time_series(edu4_2[location_id==i, 3:63], corr = 1, ts = F,print=F)\n",
    "#     tempx <- cbind(temploc, tempx)\n",
    "#     edu5 <- rbind(edu5, tempx)\n",
    "# }\n",
    "\n",
    "# colnames(edu5) <- c(\"location_id\", \"draw_\", paste0(c(1980:2040)))\n",
    "# # head(tempx)\n",
    "                \n",
    "# print(Sys.time()-Start)\n",
    "# tail(edu5)"
   ]
  },
  {
   "cell_type": "code",
   "execution_count": null,
   "metadata": {
    "collapsed": false,
    "scrolled": true
   },
   "outputs": [],
   "source": [
    "# edu5_1 <- melt(edu5, id.vars = c(\"location_id\", \"draw_\"), value.name = \"edu\", variable.name = \"year_id\")\n",
    "# edu5_2 <- dcast(edu5_1, location_id + year_id ~ draw_, value.var = \"edu\")"
   ]
  },
  {
   "cell_type": "code",
   "execution_count": null,
   "metadata": {
    "collapsed": false,
    "scrolled": true
   },
   "outputs": [],
   "source": [
    "head(edu4)"
   ]
  },
  {
   "cell_type": "code",
   "execution_count": null,
   "metadata": {
    "collapsed": false
   },
   "outputs": [],
   "source": [
    "system.time(fwrite(edu4, \"/home/j/WORK/01_covariates/02_inputs/education/update_2017/data/output_data/20161121_GBD2016prelim_95+_raked_2/gpr_draws_country_year_collapsed_after_sort.csv\"))\n",
    "# fwrite(edu5_2, \"/home/j/WORK/01_covariates/02_inputs/education/update_2017/data/output_data/20161121_GBD2016prelim_95+_raked_2/gpr_draws_country_year_collapsed_after_sort.csv\")"
   ]
  },
  {
   "cell_type": "code",
   "execution_count": null,
   "metadata": {
    "collapsed": false,
    "scrolled": false
   },
   "outputs": [],
   "source": [
    "# Test test test\n",
    "\n",
    "plot_country_year <- function(loc_id) {\n",
    "    return(ggplot(melt(data.table(edu4)[location_id==loc_id  , ], id.vars = c(\"location_id\", \"year_id\"), value.name = \"draw\") ) + \n",
    "    geom_line(aes(x=year_id, y=draw, group=variable, color=variable)) + \n",
    "    scale_x_discrete(breaks = seq(1950,2040,by=5)) +\n",
    "    theme(legend.position = \"none\"))+\n",
    "    ggtitle(\"Country-Year Collapsed\")\n",
    "    }\n",
    "\n"
   ]
  },
  {
   "cell_type": "code",
   "execution_count": null,
   "metadata": {
    "collapsed": false
   },
   "outputs": [],
   "source": [
    "plot_country_year(6)"
   ]
  },
  {
   "cell_type": "code",
   "execution_count": null,
   "metadata": {
    "collapsed": true
   },
   "outputs": [],
   "source": []
  }
 ],
 "metadata": {
  "anaconda-cloud": {},
  "kernelspec": {
   "display_name": "R",
   "language": "R",
   "name": "ir"
  },
  "language_info": {
   "codemirror_mode": "r",
   "file_extension": ".r",
   "mimetype": "text/x-r-source",
   "name": "R",
   "pygments_lexer": "r",
   "version": "3.3.2"
  }
 },
 "nbformat": 4,
 "nbformat_minor": 1
}
