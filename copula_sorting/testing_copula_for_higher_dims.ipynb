{
 "cells": [
  {
   "cell_type": "markdown",
   "metadata": {},
   "source": [
    "## Purpose: Simulating multivariate distributions and inducing correlations"
   ]
  },
  {
   "cell_type": "markdown",
   "metadata": {},
   "source": [
    "### Update: 01/25/2017:\n",
    "\n",
    "1. This process has the problem of creating ranks with replacement, and so ultimately we end up dropping some draws\n",
    "2. Maybe a simulatenous sorting is the best way?"
   ]
  },
  {
   "cell_type": "code",
   "execution_count": 121,
   "metadata": {
    "collapsed": false
   },
   "outputs": [
    {
     "name": "stderr",
     "output_type": "stream",
     "text": [
      "Loading required package: MASS\n",
      "\n",
      "Attaching package: ‘MASS’\n",
      "\n",
      "The following object is masked from ‘package:dplyr’:\n",
      "\n",
      "    select\n",
      "\n"
     ]
    }
   ],
   "source": [
    "require(VineCopula)\n",
    "require(copula)\n",
    "require(ggplot2)\n",
    "require(ggExtra)\n",
    "require(gridExtra)\n",
    "require(dplyr)\n",
    "require(MASS)\n",
    "\n",
    "## Resizing notebook plot space\n",
    "options(repr.plot.width=8, repr.plot.height=5)"
   ]
  },
  {
   "cell_type": "markdown",
   "metadata": {},
   "source": [
    "### Simulate (independent) standard normal distributions"
   ]
  },
  {
   "cell_type": "code",
   "execution_count": 2,
   "metadata": {
    "collapsed": true
   },
   "outputs": [],
   "source": [
    "# Distribution parameters\n",
    "N = 10000\n",
    "mu = 0\n",
    "sigma = 1\n",
    "\n",
    "# The correlation we want to induce \n",
    "rho = 0.7"
   ]
  },
  {
   "cell_type": "code",
   "execution_count": 3,
   "metadata": {
    "collapsed": false
   },
   "outputs": [
    {
     "data": {
      "text/html": [
       "<table>\n",
       "<thead><tr><th scope=col>index</th><th scope=col>X</th><th scope=col>Y</th><th scope=col>Z</th></tr></thead>\n",
       "<tbody>\n",
       "\t<tr><td>1          </td><td>-0.56047565</td><td> 2.3707252 </td><td>-0.8362967 </td></tr>\n",
       "\t<tr><td>2          </td><td>-0.23017749</td><td>-0.1668120 </td><td>-0.2205730 </td></tr>\n",
       "\t<tr><td>3          </td><td> 1.55870831</td><td> 0.9269614 </td><td>-2.1035148 </td></tr>\n",
       "\t<tr><td>4          </td><td> 0.07050839</td><td>-0.5681517 </td><td>-1.6678075 </td></tr>\n",
       "\t<tr><td>5          </td><td> 0.12928774</td><td> 0.2250901 </td><td>-1.0979629 </td></tr>\n",
       "\t<tr><td>6          </td><td> 1.71506499</td><td> 1.1319859 </td><td>-1.6656212 </td></tr>\n",
       "</tbody>\n",
       "</table>\n"
      ],
      "text/latex": [
       "\\begin{tabular}{r|llll}\n",
       " index & X & Y & Z\\\\\n",
       "\\hline\n",
       "\t 1           & -0.56047565 &  2.3707252  & -0.8362967 \\\\\n",
       "\t 2           & -0.23017749 & -0.1668120  & -0.2205730 \\\\\n",
       "\t 3           &  1.55870831 &  0.9269614  & -2.1035148 \\\\\n",
       "\t 4           &  0.07050839 & -0.5681517  & -1.6678075 \\\\\n",
       "\t 5           &  0.12928774 &  0.2250901  & -1.0979629 \\\\\n",
       "\t 6           &  1.71506499 &  1.1319859  & -1.6656212 \\\\\n",
       "\\end{tabular}\n"
      ],
      "text/markdown": [
       "\n",
       "index | X | Y | Z | \n",
       "|---|---|---|---|---|---|\n",
       "| 1           | -0.56047565 |  2.3707252  | -0.8362967  | \n",
       "| 2           | -0.23017749 | -0.1668120  | -0.2205730  | \n",
       "| 3           |  1.55870831 |  0.9269614  | -2.1035148  | \n",
       "| 4           |  0.07050839 | -0.5681517  | -1.6678075  | \n",
       "| 5           |  0.12928774 |  0.2250901  | -1.0979629  | \n",
       "| 6           |  1.71506499 |  1.1319859  | -1.6656212  | \n",
       "\n",
       "\n"
      ],
      "text/plain": [
       "  index X           Y          Z         \n",
       "1 1     -0.56047565  2.3707252 -0.8362967\n",
       "2 2     -0.23017749 -0.1668120 -0.2205730\n",
       "3 3      1.55870831  0.9269614 -2.1035148\n",
       "4 4      0.07050839 -0.5681517 -1.6678075\n",
       "5 5      0.12928774  0.2250901 -1.0979629\n",
       "6 6      1.71506499  1.1319859 -1.6656212"
      ]
     },
     "metadata": {},
     "output_type": "display_data"
    }
   ],
   "source": [
    "set.seed(123)\n",
    "X <- rnorm(N, mu, sigma)\n",
    "Y <- rnorm(N, mu, sigma)\n",
    "Z <- rnorm(N, mu, sigma)\n",
    "\n",
    "head(data.frame(index = c(1:N),X= X,Y= Y,Z= Z))"
   ]
  },
  {
   "cell_type": "markdown",
   "metadata": {
    "collapsed": false
   },
   "source": [
    "## Use a copula to jointy correlate X, Y and Z, and create newly sorted variables\n",
    "\n",
    "#### This function takes a correlation parameter (vector) and the number of draws to simulate, and returns a data frame with the index of the draws to arrange by in order to achieve the specified correlation, and also the sorted data using those indices"
   ]
  },
  {
   "cell_type": "code",
   "execution_count": 10,
   "metadata": {
    "collapsed": false
   },
   "outputs": [
    {
     "data": {
      "text/html": [
       "<table>\n",
       "<thead><tr><th></th><th scope=col>X</th><th scope=col>Y</th><th scope=col>Z</th></tr></thead>\n",
       "<tbody>\n",
       "\t<tr><th scope=row>X</th><td>1.00000000  </td><td>0.0103485226</td><td>0.0169983371</td></tr>\n",
       "\t<tr><th scope=row>Y</th><td>0.01034852  </td><td>1.0000000000</td><td>0.0001936581</td></tr>\n",
       "\t<tr><th scope=row>Z</th><td>0.01699834  </td><td>0.0001936581</td><td>1.0000000000</td></tr>\n",
       "</tbody>\n",
       "</table>\n"
      ],
      "text/latex": [
       "\\begin{tabular}{r|lll}\n",
       "  & X & Y & Z\\\\\n",
       "\\hline\n",
       "\tX & 1.00000000   & 0.0103485226 & 0.0169983371\\\\\n",
       "\tY & 0.01034852   & 1.0000000000 & 0.0001936581\\\\\n",
       "\tZ & 0.01699834   & 0.0001936581 & 1.0000000000\\\\\n",
       "\\end{tabular}\n"
      ],
      "text/markdown": [
       "\n",
       "| <!--/--> | X | Y | Z | \n",
       "|---|---|---|\n",
       "| X | 1.00000000   | 0.0103485226 | 0.0169983371 | \n",
       "| Y | 0.01034852   | 1.0000000000 | 0.0001936581 | \n",
       "| Z | 0.01699834   | 0.0001936581 | 1.0000000000 | \n",
       "\n",
       "\n"
      ],
      "text/plain": [
       "  X          Y            Z           \n",
       "X 1.00000000 0.0103485226 0.0169983371\n",
       "Y 0.01034852 1.0000000000 0.0001936581\n",
       "Z 0.01699834 0.0001936581 1.0000000000"
      ]
     },
     "metadata": {},
     "output_type": "display_data"
    }
   ],
   "source": [
    "## Checking the original existing correlation\n",
    "cor(cbind(X, Y, Z), method = \"spearman\")"
   ]
  },
  {
   "cell_type": "code",
   "execution_count": 9,
   "metadata": {
    "collapsed": true
   },
   "outputs": [],
   "source": [
    "## Use a 0.7 cross-correlation  \n",
    "corr_vector <- c(0.7, 0.7, 0.7)\n",
    "\n",
    "### NOTE: the normalCopula function takes a vector of parameters, such that \n",
    "## if corr <- c(A, B, C), then the number A corresponds to the correlation b/w the first two variables of data, \n",
    "## B for corr b/w second and third, C for corr b/w third and first"
   ]
  },
  {
   "cell_type": "markdown",
   "metadata": {},
   "source": [
    "### Creating a function which will take a N dim data frame and sort.... hope it works"
   ]
  },
  {
   "cell_type": "code",
   "execution_count": 91,
   "metadata": {
    "collapsed": true
   },
   "outputs": [],
   "source": [
    "create_corr_indices <- function(corr, draws, data) {\n",
    "\n",
    "    ## How many variables are we dealing with?\n",
    "        dim = length(corr)\n",
    "    \n",
    "    ## Break if number of element in correlation vector is not equal to the number of columns\n",
    "        if (dim > 1) {\n",
    "            stopifnot(dim == dim(data)[2])\n",
    "            str <- \"un\"\n",
    "            dim_c <- dim\n",
    "        }\n",
    "        if (dim == 1) {\n",
    "            str <- \"un\"\n",
    "            dim_c <- 2\n",
    "        }\n",
    "        \n",
    "    \n",
    "        print(cop_object_1 <- normalCopula(param = corr, dim = dim_c, dispstr = paste0(str)))\n",
    "        cop_draws_1 <- rCopula(n = draws, copula = cop_object_1)\n",
    " \n",
    "    ## Convert the bivariate distribution into indices (multiply by 1000, and round to integers)\n",
    "        cop_indices_1 <- data.frame(ceiling(draws*cop_draws_1))\n",
    "  \n",
    "    # Bounding if any value is above the highest number\n",
    "        for(i in 1:dim_c) {\n",
    "          cop_indices_1[,i] <- ifelse(cop_indices_1[,i]>draws, draws, cop_indices_1[,i])\n",
    "        }\n",
    "    \n",
    "    ## Let the first column be the baseline index in the copula; sort the baseline column\n",
    "        cop_indices_1 <- arrange(cop_indices_1, cop_indices_1[,1])\n",
    "    \n",
    "    #### Take our marginals we previously made, and arrange them separately\n",
    "        sorted_data <- list()\n",
    "        for(i in c(1:dim_c)) {\n",
    "            sorted_data[[i]] <-sort(data[,i])\n",
    "        }\n",
    "        sorted_data_df <- as.data.frame(sorted_data)\n",
    "        colnames(sorted_data_df) <- paste0(\"var_\",c(1:dim_c))\n",
    "\n",
    "#         X_sorted <- sort(data[,1])\n",
    "#         Y_sorted <- sort(data[,2])\n",
    "#         Z_sorted <- sort(data[,3])\n",
    "\n",
    "    #### Loop over the copula index data frame and create a joint distribution of X and Y with those indices\n",
    "        joint_sorted <- data.frame()\n",
    "\n",
    "        for(i in c(1:draws)) {\n",
    "          for(j in c(1:dim_c)) {\n",
    "            joint_sorted[i,j] = sorted_data_df[cop_indices_1[i,j], j]\n",
    "            }\n",
    "        }\n",
    "    \n",
    "    \n",
    "    print(\"New Spearman Correlation Matrix:\")\n",
    "    print(cor(joint_sorted , method = \"spearman\"))\n",
    "    \n",
    "    return(list(copula_index = cop_indices_1, data = joint_sorted ))\n",
    "}"
   ]
  },
  {
   "cell_type": "markdown",
   "metadata": {},
   "source": [
    "### Use this function on the joint 3-D data of marginals (X, Y, Z)"
   ]
  },
  {
   "cell_type": "code",
   "execution_count": 97,
   "metadata": {
    "collapsed": false,
    "scrolled": false
   },
   "outputs": [
    {
     "name": "stdout",
     "output_type": "stream",
     "text": [
      "Normal copula, dim. d = 3 \n",
      "Dimension:  3 \n",
      "Parameters:\n",
      "  rho.1   = 0.7\n",
      "  rho.2   = 0.7\n",
      "  rho.3   = 0.7\n",
      "dispstr:  un \n",
      "[1] \"New Spearman Correlation Matrix:\"\n",
      "          V1        V2        V3\n",
      "V1 1.0000000 0.6822434 0.6792089\n",
      "V2 0.6822434 1.0000000 0.6822313\n",
      "V3 0.6792089 0.6822313 1.0000000\n"
     ]
    },
    {
     "data": {
      "text/html": [
       "<table>\n",
       "<thead><tr><th scope=col>X_index</th><th scope=col>Y_index</th><th scope=col>Z_index</th><th scope=col>X_sorted</th><th scope=col>Y_sorted</th><th scope=col>Z_sorted</th></tr></thead>\n",
       "<tbody>\n",
       "\t<tr><td>1         </td><td> 450      </td><td>149       </td><td>-3.845320 </td><td>-1.6966194</td><td>-2.178121 </td></tr>\n",
       "\t<tr><td>4         </td><td>  29      </td><td> 75       </td><td>-3.402024 </td><td>-2.7837200</td><td>-2.411279 </td></tr>\n",
       "\t<tr><td>4         </td><td>  70      </td><td> 47       </td><td>-3.402024 </td><td>-2.4249816</td><td>-2.529801 </td></tr>\n",
       "\t<tr><td>5         </td><td> 747      </td><td> 69       </td><td>-3.289376 </td><td>-1.4633217</td><td>-2.445715 </td></tr>\n",
       "\t<tr><td>6         </td><td>1655      </td><td>116       </td><td>-3.262149 </td><td>-0.9701652</td><td>-2.260305 </td></tr>\n",
       "\t<tr><td>7         </td><td> 151      </td><td>  9       </td><td>-3.189186 </td><td>-2.1677139</td><td>-2.970882 </td></tr>\n",
       "</tbody>\n",
       "</table>\n"
      ],
      "text/latex": [
       "\\begin{tabular}{r|llllll}\n",
       " X\\_index & Y\\_index & Z\\_index & X\\_sorted & Y\\_sorted & Z\\_sorted\\\\\n",
       "\\hline\n",
       "\t 1          &  450       & 149        & -3.845320  & -1.6966194 & -2.178121 \\\\\n",
       "\t 4          &   29       &  75        & -3.402024  & -2.7837200 & -2.411279 \\\\\n",
       "\t 4          &   70       &  47        & -3.402024  & -2.4249816 & -2.529801 \\\\\n",
       "\t 5          &  747       &  69        & -3.289376  & -1.4633217 & -2.445715 \\\\\n",
       "\t 6          & 1655       & 116        & -3.262149  & -0.9701652 & -2.260305 \\\\\n",
       "\t 7          &  151       &   9        & -3.189186  & -2.1677139 & -2.970882 \\\\\n",
       "\\end{tabular}\n"
      ],
      "text/markdown": [
       "\n",
       "X_index | Y_index | Z_index | X_sorted | Y_sorted | Z_sorted | \n",
       "|---|---|---|---|---|---|\n",
       "| 1          |  450       | 149        | -3.845320  | -1.6966194 | -2.178121  | \n",
       "| 4          |   29       |  75        | -3.402024  | -2.7837200 | -2.411279  | \n",
       "| 4          |   70       |  47        | -3.402024  | -2.4249816 | -2.529801  | \n",
       "| 5          |  747       |  69        | -3.289376  | -1.4633217 | -2.445715  | \n",
       "| 6          | 1655       | 116        | -3.262149  | -0.9701652 | -2.260305  | \n",
       "| 7          |  151       |   9        | -3.189186  | -2.1677139 | -2.970882  | \n",
       "\n",
       "\n"
      ],
      "text/plain": [
       "  X_index Y_index Z_index X_sorted  Y_sorted   Z_sorted \n",
       "1 1        450    149     -3.845320 -1.6966194 -2.178121\n",
       "2 4         29     75     -3.402024 -2.7837200 -2.411279\n",
       "3 4         70     47     -3.402024 -2.4249816 -2.529801\n",
       "4 5        747     69     -3.289376 -1.4633217 -2.445715\n",
       "5 6       1655    116     -3.262149 -0.9701652 -2.260305\n",
       "6 7        151      9     -3.189186 -2.1677139 -2.970882"
      ]
     },
     "metadata": {},
     "output_type": "display_data"
    }
   ],
   "source": [
    "tri_copula <- create_corr_indices(corr_vector, draws = N, data = cbind(X, Y, Z))\n",
    "XYZ_copula_indices <- tri_copula$copula_index\n",
    "XYZ_all_joint <- tri_copula$data\n",
    "colnames(XYZ_copula_indices) <- c(\"X_index\", \"Y_index\", \"Z_index\")\n",
    "colnames(XYZ_all_joint) <- c(\"X_sorted\", \"Y_sorted\", \"Z_sorted\")\n",
    "head(cbind(XYZ_copula_indices,XYZ_all_joint))"
   ]
  },
  {
   "cell_type": "markdown",
   "metadata": {},
   "source": [
    "#### Test Case: Set the correlation matrix to be all 1s"
   ]
  },
  {
   "cell_type": "code",
   "execution_count": 107,
   "metadata": {
    "collapsed": false
   },
   "outputs": [
    {
     "name": "stdout",
     "output_type": "stream",
     "text": [
      "Normal copula, dim. d = 3 \n",
      "Dimension:  3 \n",
      "Parameters:\n",
      "  rho.1   = 1\n",
      "  rho.2   = 1\n",
      "  rho.3   = 1\n",
      "dispstr:  un \n",
      "[1] \"New Spearman Correlation Matrix:\"\n",
      "   V1 V2 V3\n",
      "V1  1  1  1\n",
      "V2  1  1  1\n",
      "V3  1  1  1\n"
     ]
    },
    {
     "data": {
      "text/html": [
       "<table>\n",
       "<thead><tr><th scope=col>X_index</th><th scope=col>Y_index</th><th scope=col>Z_index</th><th scope=col>X_sorted</th><th scope=col>Y_sorted</th><th scope=col>Z_sorted</th></tr></thead>\n",
       "<tbody>\n",
       "\t<tr><td>2        </td><td>2        </td><td>2        </td><td>-3.467490</td><td>-3.418076</td><td>-3.497287</td></tr>\n",
       "\t<tr><td>4        </td><td>4        </td><td>4        </td><td>-3.402024</td><td>-3.296524</td><td>-3.279983</td></tr>\n",
       "\t<tr><td>4        </td><td>4        </td><td>4        </td><td>-3.402024</td><td>-3.296524</td><td>-3.279983</td></tr>\n",
       "\t<tr><td>5        </td><td>5        </td><td>5        </td><td>-3.289376</td><td>-3.264361</td><td>-3.274385</td></tr>\n",
       "\t<tr><td>6        </td><td>6        </td><td>6        </td><td>-3.262149</td><td>-3.244513</td><td>-3.253787</td></tr>\n",
       "\t<tr><td>8        </td><td>8        </td><td>8        </td><td>-3.137385</td><td>-3.106484</td><td>-3.141838</td></tr>\n",
       "</tbody>\n",
       "</table>\n"
      ],
      "text/latex": [
       "\\begin{tabular}{r|llllll}\n",
       " X\\_index & Y\\_index & Z\\_index & X\\_sorted & Y\\_sorted & Z\\_sorted\\\\\n",
       "\\hline\n",
       "\t 2         & 2         & 2         & -3.467490 & -3.418076 & -3.497287\\\\\n",
       "\t 4         & 4         & 4         & -3.402024 & -3.296524 & -3.279983\\\\\n",
       "\t 4         & 4         & 4         & -3.402024 & -3.296524 & -3.279983\\\\\n",
       "\t 5         & 5         & 5         & -3.289376 & -3.264361 & -3.274385\\\\\n",
       "\t 6         & 6         & 6         & -3.262149 & -3.244513 & -3.253787\\\\\n",
       "\t 8         & 8         & 8         & -3.137385 & -3.106484 & -3.141838\\\\\n",
       "\\end{tabular}\n"
      ],
      "text/markdown": [
       "\n",
       "X_index | Y_index | Z_index | X_sorted | Y_sorted | Z_sorted | \n",
       "|---|---|---|---|---|---|\n",
       "| 2         | 2         | 2         | -3.467490 | -3.418076 | -3.497287 | \n",
       "| 4         | 4         | 4         | -3.402024 | -3.296524 | -3.279983 | \n",
       "| 4         | 4         | 4         | -3.402024 | -3.296524 | -3.279983 | \n",
       "| 5         | 5         | 5         | -3.289376 | -3.264361 | -3.274385 | \n",
       "| 6         | 6         | 6         | -3.262149 | -3.244513 | -3.253787 | \n",
       "| 8         | 8         | 8         | -3.137385 | -3.106484 | -3.141838 | \n",
       "\n",
       "\n"
      ],
      "text/plain": [
       "  X_index Y_index Z_index X_sorted  Y_sorted  Z_sorted \n",
       "1 2       2       2       -3.467490 -3.418076 -3.497287\n",
       "2 4       4       4       -3.402024 -3.296524 -3.279983\n",
       "3 4       4       4       -3.402024 -3.296524 -3.279983\n",
       "4 5       5       5       -3.289376 -3.264361 -3.274385\n",
       "5 6       6       6       -3.262149 -3.244513 -3.253787\n",
       "6 8       8       8       -3.137385 -3.106484 -3.141838"
      ]
     },
     "metadata": {},
     "output_type": "display_data"
    }
   ],
   "source": [
    "perfect_copula <- create_corr_indices(c(1,1,1), draws = N, data = cbind(X, Y, Z))\n",
    "perfect_XYZ_copula_indices <- perfect_copula$copula_index\n",
    "perfect_XYZ_all_joint <- perfect_copula$data\n",
    "colnames(perfect_XYZ_copula_indices) <- c(\"X_index\", \"Y_index\", \"Z_index\")\n",
    "colnames(perfect_XYZ_all_joint) <- c(\"X_sorted\", \"Y_sorted\", \"Z_sorted\")\n",
    "head(cbind(perfect_XYZ_copula_indices,perfect_XYZ_all_joint))"
   ]
  },
  {
   "cell_type": "markdown",
   "metadata": {},
   "source": [
    "### Challenge: Use this beautiful and somehow working function, and induce pairwise correlations (X,Y), and (Y,Z), and see how (X,Z) looks like after"
   ]
  },
  {
   "cell_type": "markdown",
   "metadata": {},
   "source": [
    "##### X,Y"
   ]
  },
  {
   "cell_type": "code",
   "execution_count": 98,
   "metadata": {
    "collapsed": false,
    "scrolled": true
   },
   "outputs": [
    {
     "name": "stdout",
     "output_type": "stream",
     "text": [
      "Normal copula, dim. d = 2 \n",
      "Dimension:  2 \n",
      "Parameters:\n",
      "  rho.1   = 0.7\n",
      "[1] \"New Spearman Correlation Matrix:\"\n",
      "          V1        V2\n",
      "V1 1.0000000 0.6833022\n",
      "V2 0.6833022 1.0000000\n"
     ]
    },
    {
     "data": {
      "text/html": [
       "<table>\n",
       "<thead><tr><th scope=col>X_index</th><th scope=col>Y_index</th><th scope=col>X_sorted</th><th scope=col>Y_sorted</th></tr></thead>\n",
       "<tbody>\n",
       "\t<tr><td>1        </td><td>417      </td><td>-3.845320</td><td>-1.743059</td></tr>\n",
       "\t<tr><td>1        </td><td>117      </td><td>-3.845320</td><td>-2.264699</td></tr>\n",
       "\t<tr><td>2        </td><td>127      </td><td>-3.467490</td><td>-2.229312</td></tr>\n",
       "\t<tr><td>2        </td><td>561      </td><td>-3.467490</td><td>-1.604969</td></tr>\n",
       "\t<tr><td>2        </td><td> 41      </td><td>-3.467490</td><td>-2.633920</td></tr>\n",
       "\t<tr><td>3        </td><td>326      </td><td>-3.413788</td><td>-1.850042</td></tr>\n",
       "</tbody>\n",
       "</table>\n"
      ],
      "text/latex": [
       "\\begin{tabular}{r|llll}\n",
       " X\\_index & Y\\_index & X\\_sorted & Y\\_sorted\\\\\n",
       "\\hline\n",
       "\t 1         & 417       & -3.845320 & -1.743059\\\\\n",
       "\t 1         & 117       & -3.845320 & -2.264699\\\\\n",
       "\t 2         & 127       & -3.467490 & -2.229312\\\\\n",
       "\t 2         & 561       & -3.467490 & -1.604969\\\\\n",
       "\t 2         &  41       & -3.467490 & -2.633920\\\\\n",
       "\t 3         & 326       & -3.413788 & -1.850042\\\\\n",
       "\\end{tabular}\n"
      ],
      "text/markdown": [
       "\n",
       "X_index | Y_index | X_sorted | Y_sorted | \n",
       "|---|---|---|---|---|---|\n",
       "| 1         | 417       | -3.845320 | -1.743059 | \n",
       "| 1         | 117       | -3.845320 | -2.264699 | \n",
       "| 2         | 127       | -3.467490 | -2.229312 | \n",
       "| 2         | 561       | -3.467490 | -1.604969 | \n",
       "| 2         |  41       | -3.467490 | -2.633920 | \n",
       "| 3         | 326       | -3.413788 | -1.850042 | \n",
       "\n",
       "\n"
      ],
      "text/plain": [
       "  X_index Y_index X_sorted  Y_sorted \n",
       "1 1       417     -3.845320 -1.743059\n",
       "2 1       117     -3.845320 -2.264699\n",
       "3 2       127     -3.467490 -2.229312\n",
       "4 2       561     -3.467490 -1.604969\n",
       "5 2        41     -3.467490 -2.633920\n",
       "6 3       326     -3.413788 -1.850042"
      ]
     },
     "metadata": {},
     "output_type": "display_data"
    }
   ],
   "source": [
    "XY_copula <- create_corr_indices(0.7, draws = N, data = cbind(X, Y))\n",
    "XY_copula_indices <- XY_copula$copula_index\n",
    "XY_all_joint <- XY_copula$data\n",
    "colnames(XY_copula_indices) <- c(\"X_index\", \"Y_index\")\n",
    "colnames(XY_all_joint) <- c(\"X_sorted\", \"Y_sorted\")\n",
    "head(cbind(XY_copula_indices,XY_all_joint))"
   ]
  },
  {
   "cell_type": "markdown",
   "metadata": {},
   "source": [
    "##### Y,X"
   ]
  },
  {
   "cell_type": "code",
   "execution_count": 115,
   "metadata": {
    "collapsed": false
   },
   "outputs": [
    {
     "name": "stdout",
     "output_type": "stream",
     "text": [
      "Normal copula, dim. d = 2 \n",
      "Dimension:  2 \n",
      "Parameters:\n",
      "  rho.1   = 0.7\n",
      "[1] \"New Spearman Correlation Matrix:\"\n",
      "          V1        V2\n",
      "V1 1.0000000 0.6806532\n",
      "V2 0.6806532 1.0000000\n"
     ]
    },
    {
     "data": {
      "text/html": [
       "<table>\n",
       "<thead><tr><th scope=col>Y_index</th><th scope=col>X_index</th><th scope=col>Y_sorted</th><th scope=col>X_sorted</th></tr></thead>\n",
       "<tbody>\n",
       "\t<tr><td>1        </td><td> 34      </td><td>-3.488734</td><td>-2.667958</td></tr>\n",
       "\t<tr><td>2        </td><td> 10      </td><td>-3.418076</td><td>-3.058123</td></tr>\n",
       "\t<tr><td>4        </td><td> 23      </td><td>-3.296524</td><td>-2.839376</td></tr>\n",
       "\t<tr><td>6        </td><td>116      </td><td>-3.244513</td><td>-2.249051</td></tr>\n",
       "\t<tr><td>7        </td><td> 78      </td><td>-3.125199</td><td>-2.389744</td></tr>\n",
       "\t<tr><td>8        </td><td>197      </td><td>-3.106484</td><td>-2.053247</td></tr>\n",
       "</tbody>\n",
       "</table>\n"
      ],
      "text/latex": [
       "\\begin{tabular}{r|llll}\n",
       " Y\\_index & X\\_index & Y\\_sorted & X\\_sorted\\\\\n",
       "\\hline\n",
       "\t 1         &  34       & -3.488734 & -2.667958\\\\\n",
       "\t 2         &  10       & -3.418076 & -3.058123\\\\\n",
       "\t 4         &  23       & -3.296524 & -2.839376\\\\\n",
       "\t 6         & 116       & -3.244513 & -2.249051\\\\\n",
       "\t 7         &  78       & -3.125199 & -2.389744\\\\\n",
       "\t 8         & 197       & -3.106484 & -2.053247\\\\\n",
       "\\end{tabular}\n"
      ],
      "text/markdown": [
       "\n",
       "Y_index | X_index | Y_sorted | X_sorted | \n",
       "|---|---|---|---|---|---|\n",
       "| 1         |  34       | -3.488734 | -2.667958 | \n",
       "| 2         |  10       | -3.418076 | -3.058123 | \n",
       "| 4         |  23       | -3.296524 | -2.839376 | \n",
       "| 6         | 116       | -3.244513 | -2.249051 | \n",
       "| 7         |  78       | -3.125199 | -2.389744 | \n",
       "| 8         | 197       | -3.106484 | -2.053247 | \n",
       "\n",
       "\n"
      ],
      "text/plain": [
       "  Y_index X_index Y_sorted  X_sorted \n",
       "1 1        34     -3.488734 -2.667958\n",
       "2 2        10     -3.418076 -3.058123\n",
       "3 4        23     -3.296524 -2.839376\n",
       "4 6       116     -3.244513 -2.249051\n",
       "5 7        78     -3.125199 -2.389744\n",
       "6 8       197     -3.106484 -2.053247"
      ]
     },
     "metadata": {},
     "output_type": "display_data"
    }
   ],
   "source": [
    "YX_copula <- create_corr_indices(0.7, draws = N, data = cbind( Y, X))\n",
    "YX_copula_indices <- YX_copula$copula_index\n",
    "YX_all_joint <- YX_copula$data\n",
    "colnames(YX_copula_indices) <- c( \"Y_index\",\"X_index\")\n",
    "colnames(YX_all_joint) <- c(\"Y_sorted\", \"X_sorted\")\n",
    "head(cbind(YX_copula_indices,YX_all_joint))"
   ]
  },
  {
   "cell_type": "markdown",
   "metadata": {},
   "source": [
    "## Notations:\n",
    "\n",
    "sort(A) = take the raw data and sort ascending   \n",
    "csort(A) = data sorted using Copula, might have dups\n",
    "\n",
    "### Look at the following combos of correlations: (X,Y), (sort(X), csort(Y)), (csort(X),sort(Y)), (csort(X), csort(Y))\n",
    "\n",
    "#### (1) Using the XY sorting (where X was used as baseline)"
   ]
  },
  {
   "cell_type": "code",
   "execution_count": 114,
   "metadata": {
    "collapsed": false
   },
   "outputs": [
    {
     "name": "stdout",
     "output_type": "stream",
     "text": [
      "[1] \"X,Y\"\n"
     ]
    },
    {
     "data": {
      "text/html": [
       "<table>\n",
       "<thead><tr><th></th><th scope=col>X</th><th scope=col>Y</th></tr></thead>\n",
       "<tbody>\n",
       "\t<tr><th scope=row>X</th><td>1.00000000</td><td>0.01034852</td></tr>\n",
       "\t<tr><th scope=row>Y</th><td>0.01034852</td><td>1.00000000</td></tr>\n",
       "</tbody>\n",
       "</table>\n"
      ],
      "text/latex": [
       "\\begin{tabular}{r|ll}\n",
       "  & X & Y\\\\\n",
       "\\hline\n",
       "\tX & 1.00000000 & 0.01034852\\\\\n",
       "\tY & 0.01034852 & 1.00000000\\\\\n",
       "\\end{tabular}\n"
      ],
      "text/markdown": [
       "\n",
       "| <!--/--> | X | Y | \n",
       "|---|---|\n",
       "| X | 1.00000000 | 0.01034852 | \n",
       "| Y | 0.01034852 | 1.00000000 | \n",
       "\n",
       "\n"
      ],
      "text/plain": [
       "  X          Y         \n",
       "X 1.00000000 0.01034852\n",
       "Y 0.01034852 1.00000000"
      ]
     },
     "metadata": {},
     "output_type": "display_data"
    },
    {
     "name": "stdout",
     "output_type": "stream",
     "text": [
      "[1] \"sort(X),sort(Y)\"\n"
     ]
    },
    {
     "data": {
      "text/html": [
       "<table>\n",
       "<tbody>\n",
       "\t<tr><td>1</td><td>1</td></tr>\n",
       "\t<tr><td>1</td><td>1</td></tr>\n",
       "</tbody>\n",
       "</table>\n"
      ],
      "text/latex": [
       "\\begin{tabular}{ll}\n",
       "\t 1 & 1\\\\\n",
       "\t 1 & 1\\\\\n",
       "\\end{tabular}\n"
      ],
      "text/markdown": [
       "\n",
       "| 1 | 1 | \n",
       "| 1 | 1 | \n",
       "\n",
       "\n"
      ],
      "text/plain": [
       "     [,1] [,2]\n",
       "[1,] 1    1   \n",
       "[2,] 1    1   "
      ]
     },
     "metadata": {},
     "output_type": "display_data"
    },
    {
     "name": "stdout",
     "output_type": "stream",
     "text": [
      "[1] \"sort(X),csort(Y)\"\n"
     ]
    },
    {
     "data": {
      "text/html": [
       "<table>\n",
       "<tbody>\n",
       "\t<tr><td>1.0000000</td><td>0.6833007</td></tr>\n",
       "\t<tr><td>0.6833007</td><td>1.0000000</td></tr>\n",
       "</tbody>\n",
       "</table>\n"
      ],
      "text/latex": [
       "\\begin{tabular}{ll}\n",
       "\t 1.0000000 & 0.6833007\\\\\n",
       "\t 0.6833007 & 1.0000000\\\\\n",
       "\\end{tabular}\n"
      ],
      "text/markdown": [
       "\n",
       "| 1.0000000 | 0.6833007 | \n",
       "| 0.6833007 | 1.0000000 | \n",
       "\n",
       "\n"
      ],
      "text/plain": [
       "     [,1]      [,2]     \n",
       "[1,] 1.0000000 0.6833007\n",
       "[2,] 0.6833007 1.0000000"
      ]
     },
     "metadata": {},
     "output_type": "display_data"
    },
    {
     "name": "stdout",
     "output_type": "stream",
     "text": [
      "[1] \"csort(X),sort(Y)\"\n"
     ]
    },
    {
     "data": {
      "text/html": [
       "<table>\n",
       "<tbody>\n",
       "\t<tr><td>1</td><td>1</td></tr>\n",
       "\t<tr><td>1</td><td>1</td></tr>\n",
       "</tbody>\n",
       "</table>\n"
      ],
      "text/latex": [
       "\\begin{tabular}{ll}\n",
       "\t 1 & 1\\\\\n",
       "\t 1 & 1\\\\\n",
       "\\end{tabular}\n"
      ],
      "text/markdown": [
       "\n",
       "| 1 | 1 | \n",
       "| 1 | 1 | \n",
       "\n",
       "\n"
      ],
      "text/plain": [
       "     [,1] [,2]\n",
       "[1,] 1    1   \n",
       "[2,] 1    1   "
      ]
     },
     "metadata": {},
     "output_type": "display_data"
    },
    {
     "name": "stdout",
     "output_type": "stream",
     "text": [
      "[1] \"csort(X),csort(Y)\"\n"
     ]
    },
    {
     "data": {
      "text/html": [
       "<table>\n",
       "<tbody>\n",
       "\t<tr><td>1.0000000</td><td>0.6833022</td></tr>\n",
       "\t<tr><td>0.6833022</td><td>1.0000000</td></tr>\n",
       "</tbody>\n",
       "</table>\n"
      ],
      "text/latex": [
       "\\begin{tabular}{ll}\n",
       "\t 1.0000000 & 0.6833022\\\\\n",
       "\t 0.6833022 & 1.0000000\\\\\n",
       "\\end{tabular}\n"
      ],
      "text/markdown": [
       "\n",
       "| 1.0000000 | 0.6833022 | \n",
       "| 0.6833022 | 1.0000000 | \n",
       "\n",
       "\n"
      ],
      "text/plain": [
       "     [,1]      [,2]     \n",
       "[1,] 1.0000000 0.6833022\n",
       "[2,] 0.6833022 1.0000000"
      ]
     },
     "metadata": {},
     "output_type": "display_data"
    }
   ],
   "source": [
    "## X,Y\n",
    "print(\"X,Y\")\n",
    "cor(cbind(X,Y), method=\"spearman\")\n",
    "\n",
    "## sort(X), sort(Y)\n",
    "print(\"sort(X),sort(Y)\")\n",
    "cor(cbind(sort(X),sort(Y)), method=\"spearman\")\n",
    "\n",
    "## sort(X),csort(Y)\n",
    "print(\"sort(X),csort(Y)\")\n",
    "cor(cbind(sort(X),XY_all_joint$Y_sorted), method=\"spearman\")\n",
    "\n",
    "## csort(X), sort(Y)\n",
    "print(\"csort(X),sort(Y)\")\n",
    "cor(cbind(XY_all_joint$X_sorted,sort(Y)), method=\"spearman\")\n",
    "\n",
    "## csort(X), csort(Y)\n",
    "print(\"csort(X),csort(Y)\")\n",
    "cor(cbind(XY_all_joint$X_sorted,XY_all_joint$Y_sorted), method=\"spearman\")"
   ]
  },
  {
   "cell_type": "markdown",
   "metadata": {},
   "source": [
    "#### (2) Using the YX sorting (where Y was used as baseline)"
   ]
  },
  {
   "cell_type": "code",
   "execution_count": 116,
   "metadata": {
    "collapsed": false
   },
   "outputs": [
    {
     "name": "stdout",
     "output_type": "stream",
     "text": [
      "[1] \"X,Y\"\n"
     ]
    },
    {
     "data": {
      "text/html": [
       "<table>\n",
       "<thead><tr><th></th><th scope=col>X</th><th scope=col>Y</th></tr></thead>\n",
       "<tbody>\n",
       "\t<tr><th scope=row>X</th><td>1.00000000</td><td>0.01034852</td></tr>\n",
       "\t<tr><th scope=row>Y</th><td>0.01034852</td><td>1.00000000</td></tr>\n",
       "</tbody>\n",
       "</table>\n"
      ],
      "text/latex": [
       "\\begin{tabular}{r|ll}\n",
       "  & X & Y\\\\\n",
       "\\hline\n",
       "\tX & 1.00000000 & 0.01034852\\\\\n",
       "\tY & 0.01034852 & 1.00000000\\\\\n",
       "\\end{tabular}\n"
      ],
      "text/markdown": [
       "\n",
       "| <!--/--> | X | Y | \n",
       "|---|---|\n",
       "| X | 1.00000000 | 0.01034852 | \n",
       "| Y | 0.01034852 | 1.00000000 | \n",
       "\n",
       "\n"
      ],
      "text/plain": [
       "  X          Y         \n",
       "X 1.00000000 0.01034852\n",
       "Y 0.01034852 1.00000000"
      ]
     },
     "metadata": {},
     "output_type": "display_data"
    },
    {
     "name": "stdout",
     "output_type": "stream",
     "text": [
      "[1] \"sort(X),sort(Y)\"\n"
     ]
    },
    {
     "data": {
      "text/html": [
       "<table>\n",
       "<tbody>\n",
       "\t<tr><td>1</td><td>1</td></tr>\n",
       "\t<tr><td>1</td><td>1</td></tr>\n",
       "</tbody>\n",
       "</table>\n"
      ],
      "text/latex": [
       "\\begin{tabular}{ll}\n",
       "\t 1 & 1\\\\\n",
       "\t 1 & 1\\\\\n",
       "\\end{tabular}\n"
      ],
      "text/markdown": [
       "\n",
       "| 1 | 1 | \n",
       "| 1 | 1 | \n",
       "\n",
       "\n"
      ],
      "text/plain": [
       "     [,1] [,2]\n",
       "[1,] 1    1   \n",
       "[2,] 1    1   "
      ]
     },
     "metadata": {},
     "output_type": "display_data"
    },
    {
     "name": "stdout",
     "output_type": "stream",
     "text": [
      "[1] \"sort(X),csort(Y)\"\n"
     ]
    },
    {
     "data": {
      "text/html": [
       "<table>\n",
       "<tbody>\n",
       "\t<tr><td>1</td><td>1</td></tr>\n",
       "\t<tr><td>1</td><td>1</td></tr>\n",
       "</tbody>\n",
       "</table>\n"
      ],
      "text/latex": [
       "\\begin{tabular}{ll}\n",
       "\t 1 & 1\\\\\n",
       "\t 1 & 1\\\\\n",
       "\\end{tabular}\n"
      ],
      "text/markdown": [
       "\n",
       "| 1 | 1 | \n",
       "| 1 | 1 | \n",
       "\n",
       "\n"
      ],
      "text/plain": [
       "     [,1] [,2]\n",
       "[1,] 1    1   \n",
       "[2,] 1    1   "
      ]
     },
     "metadata": {},
     "output_type": "display_data"
    },
    {
     "name": "stdout",
     "output_type": "stream",
     "text": [
      "[1] \"csort(X),sort(Y)\"\n"
     ]
    },
    {
     "data": {
      "text/html": [
       "<table>\n",
       "<tbody>\n",
       "\t<tr><td>1.0000000</td><td>0.6806507</td></tr>\n",
       "\t<tr><td>0.6806507</td><td>1.0000000</td></tr>\n",
       "</tbody>\n",
       "</table>\n"
      ],
      "text/latex": [
       "\\begin{tabular}{ll}\n",
       "\t 1.0000000 & 0.6806507\\\\\n",
       "\t 0.6806507 & 1.0000000\\\\\n",
       "\\end{tabular}\n"
      ],
      "text/markdown": [
       "\n",
       "| 1.0000000 | 0.6806507 | \n",
       "| 0.6806507 | 1.0000000 | \n",
       "\n",
       "\n"
      ],
      "text/plain": [
       "     [,1]      [,2]     \n",
       "[1,] 1.0000000 0.6806507\n",
       "[2,] 0.6806507 1.0000000"
      ]
     },
     "metadata": {},
     "output_type": "display_data"
    },
    {
     "name": "stdout",
     "output_type": "stream",
     "text": [
      "[1] \"csort(X),csort(Y)\"\n"
     ]
    },
    {
     "data": {
      "text/html": [
       "<table>\n",
       "<tbody>\n",
       "\t<tr><td>1.0000000</td><td>0.6806532</td></tr>\n",
       "\t<tr><td>0.6806532</td><td>1.0000000</td></tr>\n",
       "</tbody>\n",
       "</table>\n"
      ],
      "text/latex": [
       "\\begin{tabular}{ll}\n",
       "\t 1.0000000 & 0.6806532\\\\\n",
       "\t 0.6806532 & 1.0000000\\\\\n",
       "\\end{tabular}\n"
      ],
      "text/markdown": [
       "\n",
       "| 1.0000000 | 0.6806532 | \n",
       "| 0.6806532 | 1.0000000 | \n",
       "\n",
       "\n"
      ],
      "text/plain": [
       "     [,1]      [,2]     \n",
       "[1,] 1.0000000 0.6806532\n",
       "[2,] 0.6806532 1.0000000"
      ]
     },
     "metadata": {},
     "output_type": "display_data"
    }
   ],
   "source": [
    "## X,Y\n",
    "print(\"X,Y\")\n",
    "cor(cbind(X,Y), method=\"spearman\")\n",
    "\n",
    "## sort(X), sort(Y)\n",
    "print(\"sort(X),sort(Y)\")\n",
    "cor(cbind(sort(X),sort(Y)), method=\"spearman\")\n",
    "\n",
    "## sort(X),csort(Y)\n",
    "print(\"sort(X),csort(Y)\")\n",
    "cor(cbind(sort(X),YX_all_joint$Y_sorted), method=\"spearman\")\n",
    "\n",
    "## csort(X), sort(Y)\n",
    "print(\"csort(X),sort(Y)\")\n",
    "cor(cbind(YX_all_joint$X_sorted,sort(Y)), method=\"spearman\")\n",
    "\n",
    "## csort(X), csort(Y)\n",
    "print(\"csort(X),csort(Y)\")\n",
    "cor(cbind(YX_all_joint$X_sorted,YX_all_joint$Y_sorted), method=\"spearman\")"
   ]
  },
  {
   "cell_type": "markdown",
   "metadata": {},
   "source": [
    "### Woah.. If we just take the original X vector, sort it, and then look at its Spearman corr against the copula-sorted Y, we get a corr close to rho!"
   ]
  },
  {
   "cell_type": "markdown",
   "metadata": {},
   "source": [
    "##### Y,Z"
   ]
  },
  {
   "cell_type": "code",
   "execution_count": 99,
   "metadata": {
    "collapsed": false
   },
   "outputs": [
    {
     "name": "stdout",
     "output_type": "stream",
     "text": [
      "Normal copula, dim. d = 2 \n",
      "Dimension:  2 \n",
      "Parameters:\n",
      "  rho.1   = 0.7\n",
      "[1] \"New Spearman Correlation Matrix:\"\n",
      "          V1        V2\n",
      "V1 1.0000000 0.6925113\n",
      "V2 0.6925113 1.0000000\n"
     ]
    },
    {
     "data": {
      "text/html": [
       "<table>\n",
       "<thead><tr><th scope=col>Y_index</th><th scope=col>Z_index</th><th scope=col>Y_sorted</th><th scope=col>Z_sorted</th></tr></thead>\n",
       "<tbody>\n",
       "\t<tr><td>1        </td><td>184      </td><td>-3.488734</td><td>-2.089678</td></tr>\n",
       "\t<tr><td>1        </td><td> 48      </td><td>-3.488734</td><td>-2.529683</td></tr>\n",
       "\t<tr><td>2        </td><td>  1      </td><td>-3.418076</td><td>-3.545884</td></tr>\n",
       "\t<tr><td>5        </td><td>238      </td><td>-3.264361</td><td>-1.966477</td></tr>\n",
       "\t<tr><td>6        </td><td> 29      </td><td>-3.244513</td><td>-2.699319</td></tr>\n",
       "\t<tr><td>7        </td><td>598      </td><td>-3.125199</td><td>-1.565163</td></tr>\n",
       "</tbody>\n",
       "</table>\n"
      ],
      "text/latex": [
       "\\begin{tabular}{r|llll}\n",
       " Y\\_index & Z\\_index & Y\\_sorted & Z\\_sorted\\\\\n",
       "\\hline\n",
       "\t 1         & 184       & -3.488734 & -2.089678\\\\\n",
       "\t 1         &  48       & -3.488734 & -2.529683\\\\\n",
       "\t 2         &   1       & -3.418076 & -3.545884\\\\\n",
       "\t 5         & 238       & -3.264361 & -1.966477\\\\\n",
       "\t 6         &  29       & -3.244513 & -2.699319\\\\\n",
       "\t 7         & 598       & -3.125199 & -1.565163\\\\\n",
       "\\end{tabular}\n"
      ],
      "text/markdown": [
       "\n",
       "Y_index | Z_index | Y_sorted | Z_sorted | \n",
       "|---|---|---|---|---|---|\n",
       "| 1         | 184       | -3.488734 | -2.089678 | \n",
       "| 1         |  48       | -3.488734 | -2.529683 | \n",
       "| 2         |   1       | -3.418076 | -3.545884 | \n",
       "| 5         | 238       | -3.264361 | -1.966477 | \n",
       "| 6         |  29       | -3.244513 | -2.699319 | \n",
       "| 7         | 598       | -3.125199 | -1.565163 | \n",
       "\n",
       "\n"
      ],
      "text/plain": [
       "  Y_index Z_index Y_sorted  Z_sorted \n",
       "1 1       184     -3.488734 -2.089678\n",
       "2 1        48     -3.488734 -2.529683\n",
       "3 2         1     -3.418076 -3.545884\n",
       "4 5       238     -3.264361 -1.966477\n",
       "5 6        29     -3.244513 -2.699319\n",
       "6 7       598     -3.125199 -1.565163"
      ]
     },
     "metadata": {},
     "output_type": "display_data"
    }
   ],
   "source": [
    "YZ_copula <- create_corr_indices(0.7, draws = N, data = cbind(Y, Z))\n",
    "YZ_copula_indices <- YZ_copula$copula_index\n",
    "YZ_all_joint <- YZ_copula$data\n",
    "colnames(YZ_copula_indices) <- c(\"Y_index\", \"Z_index\")\n",
    "colnames(YZ_all_joint) <- c(\"Y_sorted\", \"Z_sorted\")\n",
    "head(cbind(YZ_copula_indices,YZ_all_joint))"
   ]
  },
  {
   "cell_type": "markdown",
   "metadata": {},
   "source": [
    "### Neal's function for ordering draws (MUCH BETTER! USE THIS!)\n",
    "https://github.com/nmmarquez/re_simulations/blob/master/demographic_variance/cop_example.R"
   ]
  },
  {
   "cell_type": "code",
   "execution_count": 117,
   "metadata": {
    "collapsed": true
   },
   "outputs": [],
   "source": [
    "cop_sort_data <- function(X, corr){\n",
    "  if(length(corr) == 1){\n",
    "    corr <- matrix(data=corr, nrow=ncol(X), ncol=ncol(X))\n",
    "    diag(corr) <- 1\n",
    "  }\n",
    "  mvdat <- mvrnorm(n=nrow(X), mu=0 * 1:ncol(X), Sigma=corr, empirical=T)\n",
    "  ranks <- apply(mvdat, 2, rank, ties.method=\"first\")\n",
    "  sorted_X <- apply(X, 2, sort)\n",
    "  sapply(1:ncol(X), function(x) sorted_X[,x][ranks[,x]])\n",
    "}"
   ]
  },
  {
   "cell_type": "code",
   "execution_count": 122,
   "metadata": {
    "collapsed": false
   },
   "outputs": [
    {
     "data": {
      "text/html": [
       "<table>\n",
       "<tbody>\n",
       "\t<tr><td>1.0000000</td><td>0.6831090</td><td>0.6855308</td></tr>\n",
       "\t<tr><td>0.6831090</td><td>1.0000000</td><td>0.6838861</td></tr>\n",
       "\t<tr><td>0.6855308</td><td>0.6838861</td><td>1.0000000</td></tr>\n",
       "</tbody>\n",
       "</table>\n"
      ],
      "text/latex": [
       "\\begin{tabular}{lll}\n",
       "\t 1.0000000 & 0.6831090 & 0.6855308\\\\\n",
       "\t 0.6831090 & 1.0000000 & 0.6838861\\\\\n",
       "\t 0.6855308 & 0.6838861 & 1.0000000\\\\\n",
       "\\end{tabular}\n"
      ],
      "text/markdown": [
       "\n",
       "| 1.0000000 | 0.6831090 | 0.6855308 | \n",
       "| 0.6831090 | 1.0000000 | 0.6838861 | \n",
       "| 0.6855308 | 0.6838861 | 1.0000000 | \n",
       "\n",
       "\n"
      ],
      "text/plain": [
       "     [,1]      [,2]      [,3]     \n",
       "[1,] 1.0000000 0.6831090 0.6855308\n",
       "[2,] 0.6831090 1.0000000 0.6838861\n",
       "[3,] 0.6855308 0.6838861 1.0000000"
      ]
     },
     "metadata": {},
     "output_type": "display_data"
    }
   ],
   "source": [
    "new_data <- cop_sort_data(cbind(X, Y, Z), 0.7)\n",
    "cor(new_data, method=\"spearman\")"
   ]
  },
  {
   "cell_type": "markdown",
   "metadata": {},
   "source": [
    "### Plots are always helpful\n",
    "\n",
    "#### Plots of pairwise sorts"
   ]
  },
  {
   "cell_type": "code",
   "execution_count": 94,
   "metadata": {
    "collapsed": false
   },
   "outputs": [
    {
     "data": {
      "image/png": "[encoded data removed]",
      "text/plain": [
       "plot without title"
      ]
     },
     "metadata": {},
     "output_type": "display_data"
    }
   ],
   "source": [
    "XY_pre<-ggplot(data=data.frame(cbind(X,Y))) + geom_point(aes(x=X,y=Y)) + ggtitle(\"X-Y\")\n",
    "YZ_pre<-ggplot(data=data.frame(cbind(Z,Y))) + geom_point(aes(x=Y,y=Z)) + ggtitle(\"Y-Z\")\n",
    "XZ_pre<-ggplot(data=data.frame(cbind(X,Z))) + geom_point(aes(x=X,y=Z)) + ggtitle(\"X-Z\")\n",
    "\n",
    "grid.arrange(XY_pre, YZ_pre, XZ_pre, nrow=1, top = \"Before sorting\")"
   ]
  },
  {
   "cell_type": "code",
   "execution_count": 126,
   "metadata": {
    "collapsed": false
   },
   "outputs": [
    {
     "data": {
      "image/png": "[encoded data removed]",
      "text/plain": [
       "plot without title"
      ]
     },
     "metadata": {},
     "output_type": "display_data"
    }
   ],
   "source": [
    "new_data <- data.frame(new_data)\n",
    "colnames(new_data) <- c(\"X_neal\", \"Y_neal\", \"Z_neal\")\n",
    "XY_tri_post2<-ggplot(data=new_data ) + geom_point(aes(x=X_neal,y=Y_neal)) + ggtitle(\"X*-Y*\")\n",
    "YZ_tri_post2<-ggplot(data=new_data ) + geom_point(aes(x=Y_neal,y=Z_neal)) + ggtitle(\"Y*-Z*\")\n",
    "XZ_tri_post2<-ggplot(data=new_data ) + geom_point(aes(x=X_neal,y=Z_neal)) + ggtitle(\"X*-Z*\")\n",
    "\n",
    "grid.arrange(XY_tri_post2, YZ_tri_post2, XZ_tri_post2, nrow=1, top = \"Using mvrnorm\")"
   ]
  },
  {
   "cell_type": "code",
   "execution_count": 96,
   "metadata": {
    "collapsed": false
   },
   "outputs": [
    {
     "data": {
      "image/png": "[encoded data removed]",
      "text/plain": [
       "plot without title"
      ]
     },
     "metadata": {},
     "output_type": "display_data"
    }
   ],
   "source": [
    "XY_tri_post<-ggplot(data=XYZ_all_joint ) + geom_point(aes(x=X_sorted,y=Y_sorted)) + ggtitle(\"X*-Y*\")\n",
    "YZ_tri_post<-ggplot(data=XYZ_all_joint ) + geom_point(aes(x=Y_sorted,y=Z_sorted)) + ggtitle(\"Y*-Z*\")\n",
    "XZ_tri_post<-ggplot(data=XYZ_all_joint ) + geom_point(aes(x=X_sorted,y=Z_sorted)) + ggtitle(\"X*-Z*\")\n",
    "\n",
    "grid.arrange(XY_tri_post, YZ_tri_post, XZ_tri_post, nrow=1, top = \"After simulatenous 3-D sorting\")"
   ]
  },
  {
   "cell_type": "code",
   "execution_count": null,
   "metadata": {
    "collapsed": true
   },
   "outputs": [],
   "source": []
  }
 ],
 "metadata": {
  "anaconda-cloud": {},
  "kernelspec": {
   "display_name": "R",
   "language": "R",
   "name": "ir"
  },
  "language_info": {
   "codemirror_mode": "r",
   "file_extension": ".r",
   "mimetype": "text/x-r-source",
   "name": "R",
   "pygments_lexer": "r",
   "version": "3.3.2"
  }
 },
 "nbformat": 4,
 "nbformat_minor": 1
}
